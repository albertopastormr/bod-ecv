{
 "cells": [
  {
   "cell_type": "markdown",
   "metadata": {},
   "source": [
    "## Práctica - Análisis de tweets"
   ]
  },
  {
   "cell_type": "markdown",
   "metadata": {},
   "source": [
    "El directorio `Tweets` contiene información de los tweets creados entre los días 24 de Octubre y 30 de Octubre de 2016 bajo cierto criterio de búsqueda. Se pide:\n",
    "\n",
    "* Abrir el fichero `Oct24` y ver su contenido. Para ello ejecuta el siguiente bloque de código:\n"
   ]
  },
  {
   "cell_type": "code",
   "execution_count": 3,
   "metadata": {},
   "outputs": [
    {
     "data": {
      "text/plain": [
       "12"
      ]
     },
     "execution_count": 3,
     "metadata": {},
     "output_type": "execute_result"
    }
   ],
   "source": [
    "import json\n",
    "with open('./tweets/Oct24.json') as data_file:    \n",
    "    data = json.load(data_file)\n",
    "    \n",
    "len(data)     # 12 tweets"
   ]
  },
  {
   "cell_type": "markdown",
   "metadata": {},
   "source": [
    "* ¿De qué tipo es la variable data?\n"
   ]
  },
  {
   "cell_type": "code",
   "execution_count": 4,
   "metadata": {},
   "outputs": [
    {
     "data": {
      "text/plain": [
       "list"
      ]
     },
     "execution_count": 4,
     "metadata": {},
     "output_type": "execute_result"
    }
   ],
   "source": [
    "# Sol\n",
    "\n",
    "type(data)"
   ]
  },
  {
   "cell_type": "markdown",
   "metadata": {},
   "source": [
    "* Cada elemento en `data` es un tweet. Accede al primer elemento para ver el aspecto que tiene. ¿De qué tipo es ese primer elemento?\n"
   ]
  },
  {
   "cell_type": "code",
   "execution_count": 5,
   "metadata": {},
   "outputs": [
    {
     "data": {
      "text/plain": [
       "{'contributors': None,\n",
       " 'coordinates': None,\n",
       " 'created_at': 'Mon Oct 24 17:05:26 +0000 2016',\n",
       " 'entities': {'hashtags': [{'indices': [61, 75], 'text': 'mesuenaunpoco'},\n",
       "   {'indices': [76, 96], 'text': 'educacionfinanciera'},\n",
       "   {'indices': [97, 108], 'text': 'blockchain'}],\n",
       "  'symbols': [],\n",
       "  'urls': [{'display_url': 'twitter.com/mesuenaunpoco/…',\n",
       "    'expanded_url': 'https://twitter.com/mesuenaunpoco/status/789368659512848384',\n",
       "    'indices': [109, 132],\n",
       "    'url': 'https://t.co/tJ6hUF9bKR'}],\n",
       "  'user_mentions': [{'id': 254573994,\n",
       "    'id_str': '254573994',\n",
       "    'indices': [40, 46],\n",
       "    'name': 'CUNEF',\n",
       "    'screen_name': 'CUNEF'}]},\n",
       " 'favorite_count': 4,\n",
       " 'favorited': False,\n",
       " 'geo': None,\n",
       " 'id': 790600098199638016,\n",
       " 'id_str': '790600098199638016',\n",
       " 'in_reply_to_screen_name': None,\n",
       " 'in_reply_to_status_id': None,\n",
       " 'in_reply_to_status_id_str': None,\n",
       " 'in_reply_to_user_id': None,\n",
       " 'in_reply_to_user_id_str': None,\n",
       " 'is_quote_status': True,\n",
       " 'lang': 'es',\n",
       " 'metadata': {'iso_language_code': 'es', 'result_type': 'recent'},\n",
       " 'place': None,\n",
       " 'possibly_sensitive': False,\n",
       " 'quoted_status': {'contributors': None,\n",
       "  'coordinates': None,\n",
       "  'created_at': 'Fri Oct 21 07:32:08 +0000 2016',\n",
       "  'entities': {'hashtags': [],\n",
       "   'symbols': [],\n",
       "   'urls': [{'display_url': 'mesuenaunpoco.com',\n",
       "     'expanded_url': 'http://mesuenaunpoco.com',\n",
       "     'indices': [78, 101],\n",
       "     'url': 'https://t.co/OLYMuBK35M'},\n",
       "    {'display_url': 'twitter.com/i/web/status/7…',\n",
       "     'expanded_url': 'https://twitter.com/i/web/status/789368659512848384',\n",
       "     'indices': [103, 126],\n",
       "     'url': 'https://t.co/TCwla4j4ou'}],\n",
       "   'user_mentions': [{'id': 290124869,\n",
       "     'id_str': '290124869',\n",
       "     'indices': [35, 48],\n",
       "     'name': 'Macarena Gómez',\n",
       "     'screen_name': 'GmezMacarena'}]},\n",
       "  'favorite_count': 9,\n",
       "  'favorited': False,\n",
       "  'geo': None,\n",
       "  'id': 789368659512848384,\n",
       "  'id_str': '789368659512848384',\n",
       "  'in_reply_to_screen_name': None,\n",
       "  'in_reply_to_status_id': None,\n",
       "  'in_reply_to_status_id_str': None,\n",
       "  'in_reply_to_user_id': None,\n",
       "  'in_reply_to_user_id_str': None,\n",
       "  'is_quote_status': False,\n",
       "  'lang': 'es',\n",
       "  'metadata': {'iso_language_code': 'es', 'result_type': 'recent'},\n",
       "  'place': None,\n",
       "  'possibly_sensitive': False,\n",
       "  'retweet_count': 8,\n",
       "  'retweeted': False,\n",
       "  'source': '<a href=\"http://twitter.com\" rel=\"nofollow\">Twitter Web Client</a>',\n",
       "  'text': 'Fondo de inversión... ¿te suena?. \\n@GmezMacarena te lo explica, dale al play. https://t.co/OLYMuBK35M… https://t.co/TCwla4j4ou',\n",
       "  'truncated': True,\n",
       "  'user': {'contributors_enabled': False,\n",
       "   'created_at': 'Thu Sep 29 09:06:15 +0000 2016',\n",
       "   'default_profile': False,\n",
       "   'default_profile_image': False,\n",
       "   'description': '¿Es posible que algunos términos financieros nos suenen más de lo que pensamos? #mesuenaunpoco es cultura financiera en pequeñas dosis.',\n",
       "   'entities': {'description': {'urls': []},\n",
       "    'url': {'urls': [{'display_url': 'mesuenaunpoco.com',\n",
       "       'expanded_url': 'http://www.mesuenaunpoco.com',\n",
       "       'indices': [0, 23],\n",
       "       'url': 'https://t.co/LCvhYQfwvv'}]}},\n",
       "   'favourites_count': 88,\n",
       "   'follow_request_sent': False,\n",
       "   'followers_count': 120,\n",
       "   'following': False,\n",
       "   'friends_count': 68,\n",
       "   'geo_enabled': False,\n",
       "   'has_extended_profile': False,\n",
       "   'id': 781419807686201344,\n",
       "   'id_str': '781419807686201344',\n",
       "   'is_translation_enabled': False,\n",
       "   'is_translator': False,\n",
       "   'lang': 'es',\n",
       "   'listed_count': 1,\n",
       "   'location': '',\n",
       "   'name': 'me suena un poco',\n",
       "   'notifications': False,\n",
       "   'profile_background_color': '000000',\n",
       "   'profile_background_image_url': 'http://abs.twimg.com/images/themes/theme1/bg.png',\n",
       "   'profile_background_image_url_https': 'https://abs.twimg.com/images/themes/theme1/bg.png',\n",
       "   'profile_background_tile': False,\n",
       "   'profile_banner_url': 'https://pbs.twimg.com/profile_banners/781419807686201344/1476104759',\n",
       "   'profile_image_url': 'http://pbs.twimg.com/profile_images/785121160958709761/CgKmb3Su_normal.jpg',\n",
       "   'profile_image_url_https': 'https://pbs.twimg.com/profile_images/785121160958709761/CgKmb3Su_normal.jpg',\n",
       "   'profile_link_color': '19CF86',\n",
       "   'profile_sidebar_border_color': '000000',\n",
       "   'profile_sidebar_fill_color': '000000',\n",
       "   'profile_text_color': '000000',\n",
       "   'profile_use_background_image': False,\n",
       "   'protected': False,\n",
       "   'screen_name': 'mesuenaunpoco',\n",
       "   'statuses_count': 48,\n",
       "   'time_zone': 'Madrid',\n",
       "   'translator_type': 'none',\n",
       "   'url': 'https://t.co/LCvhYQfwvv',\n",
       "   'utc_offset': 3600,\n",
       "   'verified': False}},\n",
       " 'quoted_status_id': 789368659512848384,\n",
       " 'quoted_status_id_str': '789368659512848384',\n",
       " 'retweet_count': 3,\n",
       " 'retweeted': False,\n",
       " 'source': '<a href=\"http://twitter.com/download/iphone\" rel=\"nofollow\">Twitter for iPhone</a>',\n",
       " 'text': 'Genial@GmezMacarena y genial iniciativa @CUNEF @fundacionAEB #mesuenaunpoco #educacionfinanciera #blockchain https://t.co/tJ6hUF9bKR',\n",
       " 'truncated': False,\n",
       " 'user': {'contributors_enabled': False,\n",
       "  'created_at': 'Tue Jul 05 08:34:47 +0000 2011',\n",
       "  'default_profile': True,\n",
       "  'default_profile_image': False,\n",
       "  'description': 'Learning something new, everyday...',\n",
       "  'entities': {'description': {'urls': []},\n",
       "   'url': {'urls': [{'display_url': 'cunef.edu',\n",
       "      'expanded_url': 'http://www.cunef.edu',\n",
       "      'indices': [0, 23],\n",
       "      'url': 'https://t.co/nJNaunPMqO'}]}},\n",
       "  'favourites_count': 116,\n",
       "  'follow_request_sent': False,\n",
       "  'followers_count': 67,\n",
       "  'following': False,\n",
       "  'friends_count': 42,\n",
       "  'geo_enabled': False,\n",
       "  'has_extended_profile': False,\n",
       "  'id': 329560530,\n",
       "  'id_str': '329560530',\n",
       "  'is_translation_enabled': False,\n",
       "  'is_translator': False,\n",
       "  'lang': 'es',\n",
       "  'listed_count': 20,\n",
       "  'location': 'Madrid, Comunidad de Madrid',\n",
       "  'name': 'Patricia Enríquez',\n",
       "  'notifications': False,\n",
       "  'profile_background_color': 'C0DEED',\n",
       "  'profile_background_image_url': 'http://abs.twimg.com/images/themes/theme1/bg.png',\n",
       "  'profile_background_image_url_https': 'https://abs.twimg.com/images/themes/theme1/bg.png',\n",
       "  'profile_background_tile': False,\n",
       "  'profile_image_url': 'http://pbs.twimg.com/profile_images/1663931900/pati1_normal.JPG',\n",
       "  'profile_image_url_https': 'https://pbs.twimg.com/profile_images/1663931900/pati1_normal.JPG',\n",
       "  'profile_link_color': '0084B4',\n",
       "  'profile_sidebar_border_color': 'C0DEED',\n",
       "  'profile_sidebar_fill_color': 'DDEEF6',\n",
       "  'profile_text_color': '333333',\n",
       "  'profile_use_background_image': True,\n",
       "  'protected': False,\n",
       "  'screen_name': 'penistal',\n",
       "  'statuses_count': 618,\n",
       "  'time_zone': 'Athens',\n",
       "  'translator_type': 'none',\n",
       "  'url': 'https://t.co/nJNaunPMqO',\n",
       "  'utc_offset': 7200,\n",
       "  'verified': False}}"
      ]
     },
     "execution_count": 5,
     "metadata": {},
     "output_type": "execute_result"
    }
   ],
   "source": [
    "# Sol: \n",
    "data[1]"
   ]
  },
  {
   "cell_type": "code",
   "execution_count": 6,
   "metadata": {},
   "outputs": [
    {
     "data": {
      "text/plain": [
       "dict"
      ]
     },
     "execution_count": 6,
     "metadata": {},
     "output_type": "execute_result"
    }
   ],
   "source": [
    "type(data[1])"
   ]
  },
  {
   "cell_type": "markdown",
   "metadata": {},
   "source": [
    "* Listar la fecha de creación de cada uno de los tweets"
   ]
  },
  {
   "cell_type": "code",
   "execution_count": 29,
   "metadata": {},
   "outputs": [],
   "source": [
    "# Sol: \n",
    "fechas_tweets =[]\n",
    "for tweet in data:\n",
    "    fechas_tweets.append((tweet['created_at'][-4:], tweet['user']['lang'], tweet['user']['id'], tweet['user']['name']))"
   ]
  },
  {
   "cell_type": "code",
   "execution_count": 30,
   "metadata": {},
   "outputs": [
    {
     "data": {
      "text/plain": [
       "[('2016', 'es', 254573994, 'CUNEF'),\n",
       " ('2016', 'es', 329560530, 'Patricia Enríquez'),\n",
       " ('2016', 'es', 254573994, 'CUNEF'),\n",
       " ('2016', 'en', 371607563, 'Mofuko Takeda'),\n",
       " ('2016', 'es', 254573994, 'CUNEF'),\n",
       " ('2016', 'es', 2563829575, 'Oliver von Schiller'),\n",
       " ('2016', 'es', 254573994, 'CUNEF'),\n",
       " ('2016', 'es', 281616678, 'Fundacion Bankinter'),\n",
       " ('2016', 'es', 587378567, 'Taller de Bolsa'),\n",
       " ('2016', 'es', 254573994, 'CUNEF'),\n",
       " ('2016', 'es', 254573994, 'CUNEF'),\n",
       " ('2016', 'es', 288401281, 'Ancir')]"
      ]
     },
     "execution_count": 30,
     "metadata": {},
     "output_type": "execute_result"
    }
   ],
   "source": [
    "fechas_tweets"
   ]
  },
  {
   "cell_type": "markdown",
   "metadata": {},
   "source": [
    "* Listar el identificador de usuario junto con la fecha de creación de cada tweet"
   ]
  },
  {
   "cell_type": "code",
   "execution_count": 12,
   "metadata": {},
   "outputs": [],
   "source": [
    "# Sol: \n",
    "ids_usuarios_tweets = []\n",
    "for tweet in data:\n",
    "    ids_usuarios_tweets.append(tweet['user']['id'])"
   ]
  },
  {
   "cell_type": "code",
   "execution_count": 13,
   "metadata": {},
   "outputs": [
    {
     "data": {
      "text/plain": [
       "[254573994,\n",
       " 329560530,\n",
       " 254573994,\n",
       " 371607563,\n",
       " 254573994,\n",
       " 2563829575,\n",
       " 254573994,\n",
       " 281616678,\n",
       " 587378567,\n",
       " 254573994,\n",
       " 254573994,\n",
       " 288401281]"
      ]
     },
     "execution_count": 13,
     "metadata": {},
     "output_type": "execute_result"
    }
   ],
   "source": [
    "ids_usuarios_tweets"
   ]
  },
  {
   "cell_type": "markdown",
   "metadata": {},
   "source": [
    "* Encontrar los hashtags utilizados en la lista de tweets del fichero 'Oct24.json'.\n",
    "Los hashtags se encuentran en un campo denominado `hashtags` que se encuentra indexado a su vez por un campo denominado `entities`.\n",
    "El resultado debe ser un diccionario donde la clave sea el hashtag y el valor el número de veces que se repite dicho hashtag.\n"
   ]
  },
  {
   "cell_type": "code",
   "execution_count": 72,
   "metadata": {},
   "outputs": [],
   "source": [
    "# Sol:\n",
    "\n",
    "def hashtags_use(data):\n",
    "    dict_hashtags = {}\n",
    "    for tweet in data:\n",
    "        for hashtag in tweet['entities']['hashtags']:\n",
    "            if hashtag['text'] in dict_hashtags.keys():\n",
    "                dict_hashtags[hashtag['text']] += 1\n",
    "            else:\n",
    "                dict_hashtags[hashtag['text']] = 1\n",
    "    return dict_hashtags"
   ]
  },
  {
   "cell_type": "code",
   "execution_count": 36,
   "metadata": {},
   "outputs": [
    {
     "data": {
      "text/plain": [
       "{'AEB': 1,\n",
       " 'Akademia': 3,\n",
       " 'EducaciónFinanciera': 1,\n",
       " 'Unitour': 1,\n",
       " 'blockchain': 1,\n",
       " 'cuba': 1,\n",
       " 'educacionfinanciera': 1,\n",
       " 'innovación': 3,\n",
       " 'mesuenaunpoco': 1,\n",
       " 'venezuela': 1}"
      ]
     },
     "execution_count": 36,
     "metadata": {},
     "output_type": "execute_result"
    }
   ],
   "source": [
    "hashtags_use(data)"
   ]
  },
  {
   "cell_type": "markdown",
   "metadata": {},
   "source": [
    "* Utiliza el iterador `for` para procesar todos los ficheros que se encuentran en el directorio dado. \n",
    "Encontrar los hashtags utilizados en los tweets de los días entre el 24-29 de Octubre. El siguiente bloque de código lee los ficheros que hay en un directorio dado."
   ]
  },
  {
   "cell_type": "code",
   "execution_count": 37,
   "metadata": {},
   "outputs": [
    {
     "data": {
      "text/plain": [
       "'C:\\\\Users\\\\Alberto\\\\Documents\\\\GitHub\\\\sasa\\\\mod3\\\\Tema_1'"
      ]
     },
     "execution_count": 37,
     "metadata": {},
     "output_type": "execute_result"
    }
   ],
   "source": [
    "pwd"
   ]
  },
  {
   "cell_type": "code",
   "execution_count": 40,
   "metadata": {},
   "outputs": [
    {
     "data": {
      "text/plain": [
       "['./tweets/Oct24.json',\n",
       " './tweets/Oct25.json',\n",
       " './tweets/Oct26.json',\n",
       " './tweets/Oct27.json',\n",
       " './tweets/Oct28.json',\n",
       " './tweets/Oct29.json']"
      ]
     },
     "execution_count": 40,
     "metadata": {},
     "output_type": "execute_result"
    }
   ],
   "source": [
    "import os\n",
    "from os import listdir\n",
    "from os.path import isfile, join\n",
    "onlyfiles = [ './tweets/' + f for f in listdir('./tweets')  ]\n",
    "onlyfiles"
   ]
  },
  {
   "cell_type": "code",
   "execution_count": 75,
   "metadata": {},
   "outputs": [
    {
     "ename": "TypeError",
     "evalue": "map() must have at least two arguments.",
     "output_type": "error",
     "traceback": [
      "\u001b[1;31m---------------------------------------------------------------------------\u001b[0m",
      "\u001b[1;31mTypeError\u001b[0m                                 Traceback (most recent call last)",
      "\u001b[1;32m<ipython-input-75-7996bbf7afe3>\u001b[0m in \u001b[0;36m<module>\u001b[1;34m()\u001b[0m\n\u001b[0;32m      4\u001b[0m     \u001b[1;32mwith\u001b[0m \u001b[0mopen\u001b[0m\u001b[1;33m(\u001b[0m\u001b[0mfile\u001b[0m\u001b[1;33m)\u001b[0m \u001b[1;32mas\u001b[0m \u001b[0mdata_file\u001b[0m\u001b[1;33m:\u001b[0m\u001b[1;33m\u001b[0m\u001b[0m\n\u001b[0;32m      5\u001b[0m         \u001b[0mdata\u001b[0m \u001b[1;33m=\u001b[0m \u001b[0mjson\u001b[0m\u001b[1;33m.\u001b[0m\u001b[0mload\u001b[0m\u001b[1;33m(\u001b[0m\u001b[0mdata_file\u001b[0m\u001b[1;33m)\u001b[0m\u001b[1;33m\u001b[0m\u001b[0m\n\u001b[1;32m----> 6\u001b[1;33m         \u001b[0mhashtags_files\u001b[0m\u001b[1;33m.\u001b[0m\u001b[0mupdate\u001b[0m\u001b[1;33m(\u001b[0m\u001b[0mmap\u001b[0m\u001b[1;33m(\u001b[0m\u001b[0mhashtags_use\u001b[0m\u001b[1;33m(\u001b[0m\u001b[0mdata\u001b[0m\u001b[1;33m)\u001b[0m\u001b[1;33m)\u001b[0m\u001b[1;33m)\u001b[0m\u001b[1;33m\u001b[0m\u001b[0m\n\u001b[0m",
      "\u001b[1;31mTypeError\u001b[0m: map() must have at least two arguments."
     ]
    }
   ],
   "source": [
    "# Sol:\n",
    "hashtags_files = {}\n",
    "for file in onlyfiles:\n",
    "    with open(file) as data_file:    \n",
    "        data = json.load(data_file)\n",
    "        hashtags_files.update(hashtags_use(data))"
   ]
  },
  {
   "cell_type": "code",
   "execution_count": 71,
   "metadata": {},
   "outputs": [
    {
     "data": {
      "text/plain": [
       "{'ADE': 2,\n",
       " 'AEB': 1,\n",
       " 'APALANCAMIENTO': 1,\n",
       " 'Akademia': 2,\n",
       " 'Aseguradoras': 1,\n",
       " 'BuenosDías': 1,\n",
       " 'CONTRATO': 1,\n",
       " 'CUNEFEmprende': 1,\n",
       " 'CUNEFemprende': 1,\n",
       " 'CURSO': 5,\n",
       " 'Conclusiones': 1,\n",
       " 'EMPRESAS': 1,\n",
       " 'EducaciónFinanciera': 1,\n",
       " 'FINANCIERO': 1,\n",
       " 'Finanzas': 1,\n",
       " 'FondodeInversión': 1,\n",
       " 'GESTIÓN': 2,\n",
       " 'GRATIS': 5,\n",
       " 'HIPOTECARIO': 1,\n",
       " 'IgnacioBernabe': 1,\n",
       " 'Jovenes': 1,\n",
       " 'MEDIACIÓN': 1,\n",
       " 'Madrid': 5,\n",
       " 'PÓLIZA': 1,\n",
       " 'QUEJAS': 1,\n",
       " 'RECLAMACIONES': 1,\n",
       " 'SEGUROS': 2,\n",
       " 'SINIESTROS': 1,\n",
       " 'SISTEMA': 1,\n",
       " 'Seguros': 1,\n",
       " 'TERCERO': 1,\n",
       " 'Unitour': 1,\n",
       " 'blockchain': 1,\n",
       " 'cuba': 1,\n",
       " 'educacionfinanciera': 1,\n",
       " 'emprendimiento': 1,\n",
       " 'encuentrosCUNEFemprende': 1,\n",
       " 'estrategia': 1,\n",
       " 'innovación': 3,\n",
       " 'liderazgo': 1,\n",
       " 'management': 1,\n",
       " 'marketing': 2,\n",
       " 'mesuenaunpoco': 1,\n",
       " 'talento': 2,\n",
       " 'venezuela': 1,\n",
       " 'yovotovsbloqueo': 1}"
      ]
     },
     "execution_count": 71,
     "metadata": {},
     "output_type": "execute_result"
    }
   ],
   "source": [
    "hashtags_files"
   ]
  },
  {
   "cell_type": "markdown",
   "metadata": {},
   "source": [
    "* ¿Cuál ha sido el hashtag más utilizado en la semana del 24-30 de Octubre?"
   ]
  },
  {
   "cell_type": "code",
   "execution_count": 70,
   "metadata": {},
   "outputs": [
    {
     "name": "stdout",
     "output_type": "stream",
     "text": [
      "El hashtag mas utilizado en la semana 24-30 Octubre ha sido  CURSO\n"
     ]
    }
   ],
   "source": [
    "# Sol:\n",
    "\n",
    "hashtags_files_keys = list(hashtags_files.keys())\n",
    "\n",
    "hashtags_files_values = list(hashtags_files.values())\n",
    "\n",
    "print( 'El hashtag mas utilizado en la semana 24-30 Octubre ha sido ', hashtags_files_keys[hashtags_files_values.index(max(hashtags_files_values))])"
   ]
  },
  {
   "cell_type": "markdown",
   "metadata": {},
   "source": [
    "-------------------------------------"
   ]
  }
 ],
 "metadata": {
  "anaconda-cloud": {},
  "kernelspec": {
   "display_name": "Python 3",
   "language": "python",
   "name": "python3"
  },
  "language_info": {
   "codemirror_mode": {
    "name": "ipython",
    "version": 3
   },
   "file_extension": ".py",
   "mimetype": "text/x-python",
   "name": "python",
   "nbconvert_exporter": "python",
   "pygments_lexer": "ipython3",
   "version": "3.6.4"
  },
  "toc": {
   "nav_menu": {
    "height": "31px",
    "width": "252px"
   },
   "number_sections": true,
   "sideBar": true,
   "skip_h1_title": false,
   "title_cell": "Table of Contents",
   "title_sidebar": "Contents",
   "toc_cell": false,
   "toc_position": {},
   "toc_section_display": "block",
   "toc_window_display": false
  }
 },
 "nbformat": 4,
 "nbformat_minor": 1
}
