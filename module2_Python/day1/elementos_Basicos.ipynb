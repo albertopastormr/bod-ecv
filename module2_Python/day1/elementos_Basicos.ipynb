{
 "cells": [
  {
   "cell_type": "markdown",
   "metadata": {},
   "source": [
    "<img src=\"../logo/logo_ev2017.png\">"
   ]
  },
  {
   "cell_type": "markdown",
   "metadata": {},
   "source": [
    "# Table of Contents\n",
    "* [1. Elementos básicos del lenguaje](#1.-Elementos-básicos-del-lenguaje)\n",
    "\t* [1.1 Estructuras de datos: tuplas, listas y diccionarios](#1.1-Estructuras-de-datos:-tuplas,-listas-y-diccionarios)\n",
    "\t\t* [1.1.1 Tuplas](#1.1.1-Tuplas)\n",
    "\t\t* [1.1.2 Listas](#1.1.2-Listas)\n",
    "\t\t* [1.1.3 Diccionarios](#1.1.3-Diccionarios)\n",
    "\t\t\t* &nbsp;\n",
    "\t\t\t\t* [Ejercicios](#Ejercicios)\n",
    "\t* [1.2 Funciones y estructuras de control](#1.2-Funciones-y-estructuras-de-control)\n"
   ]
  },
  {
   "cell_type": "markdown",
   "metadata": {},
   "source": [
    "#  Elementos básicos del lenguaje"
   ]
  },
  {
   "cell_type": "markdown",
   "metadata": {},
   "source": [
    "Jupyter notebook ofrece una herramienta de ejecución interactiva con la cual es posible dar órdenes directamente al intérprete y obtener una respuesta inmediata para cada una de ellas.\n",
    "\n",
    "__Ejemplos__"
   ]
  },
  {
   "cell_type": "code",
   "execution_count": 1,
   "metadata": {
    "ExecuteTime": {
     "end_time": "2018-07-22T14:37:26.704490Z",
     "start_time": "2018-07-22T14:37:26.691522Z"
    }
   },
   "outputs": [
    {
     "data": {
      "text/plain": [
       "1"
      ]
     },
     "execution_count": 1,
     "metadata": {},
     "output_type": "execute_result"
    }
   ],
   "source": [
    "2 + 4 - 5"
   ]
  },
  {
   "cell_type": "code",
   "execution_count": 2,
   "metadata": {
    "ExecuteTime": {
     "end_time": "2018-07-22T14:37:26.725432Z",
     "start_time": "2018-07-22T14:37:26.706483Z"
    }
   },
   "outputs": [
    {
     "data": {
      "text/plain": [
       "10.3"
      ]
     },
     "execution_count": 2,
     "metadata": {},
     "output_type": "execute_result"
    }
   ],
   "source": [
    "2.3 + 8    # la coma decimal se representa como un punto en Python"
   ]
  },
  {
   "cell_type": "code",
   "execution_count": 3,
   "metadata": {
    "ExecuteTime": {
     "end_time": "2018-07-22T14:37:26.741388Z",
     "start_time": "2018-07-22T14:37:26.727426Z"
    }
   },
   "outputs": [
    {
     "data": {
      "text/plain": [
       "8"
      ]
     },
     "execution_count": 3,
     "metadata": {},
     "output_type": "execute_result"
    }
   ],
   "source": [
    "total = 2 ** 3        # operación potencia\n",
    "total                 # muestra el resultado de la variable total"
   ]
  },
  {
   "cell_type": "code",
   "execution_count": 4,
   "metadata": {
    "ExecuteTime": {
     "end_time": "2018-07-22T14:37:26.765325Z",
     "start_time": "2018-07-22T14:37:26.743385Z"
    }
   },
   "outputs": [
    {
     "name": "stdout",
     "output_type": "stream",
     "text": [
      "8\n"
     ]
    }
   ],
   "source": [
    "print (total)"
   ]
  },
  {
   "cell_type": "markdown",
   "metadata": {},
   "source": [
    "## Estructuras de datos: tuplas, listas y diccionarios"
   ]
  },
  {
   "cell_type": "markdown",
   "metadata": {},
   "source": [
    "###  Tuplas"
   ]
  },
  {
   "cell_type": "markdown",
   "metadata": {},
   "source": [
    "Se trata de un tipo de dato inmutable.\n",
    "* Tienen longitud fija\n",
    "* Las cadenas de caracteres son un caso particular de las tuplas"
   ]
  },
  {
   "cell_type": "code",
   "execution_count": 5,
   "metadata": {
    "ExecuteTime": {
     "end_time": "2018-07-22T14:37:46.533722Z",
     "start_time": "2018-07-22T14:37:46.525743Z"
    }
   },
   "outputs": [
    {
     "data": {
      "text/plain": [
       "('Ana', 10, 'Alberto', 7)"
      ]
     },
     "execution_count": 5,
     "metadata": {},
     "output_type": "execute_result"
    }
   ],
   "source": [
    "# Tuplas\n",
    "tup = ( 8, 4 )     # colección de elementos (posiblemente de distintos tipos) \n",
    "tup = ( 'Ana', 10, 'Alberto', 7 )\n",
    "\n",
    "tup"
   ]
  },
  {
   "cell_type": "code",
   "execution_count": 6,
   "metadata": {
    "ExecuteTime": {
     "end_time": "2018-07-22T14:37:26.801228Z",
     "start_time": "2018-07-22T14:37:26.789261Z"
    }
   },
   "outputs": [],
   "source": [
    "# LAS cadenas de caracteres TAMBIÉN SON TUPLAS\n",
    "nombre = 'Pedro'"
   ]
  },
  {
   "cell_type": "markdown",
   "metadata": {},
   "source": [
    "###  Listas"
   ]
  },
  {
   "cell_type": "markdown",
   "metadata": {},
   "source": [
    "Una lista es similar a una tupla con la diferencia fundamental de que puede ser modificada una vez creada. Se trata de un tipo de datos mutable.\n",
    "* Estructura multidimensional\n",
    "* Contiene datos heterogéneos"
   ]
  },
  {
   "cell_type": "code",
   "execution_count": 7,
   "metadata": {
    "ExecuteTime": {
     "end_time": "2018-07-22T14:37:26.835138Z",
     "start_time": "2018-07-22T14:37:26.828157Z"
    }
   },
   "outputs": [
    {
     "data": {
      "text/plain": [
       "['Ana', 10, 'Alberto', 7, [7, 8]]"
      ]
     },
     "execution_count": 7,
     "metadata": {},
     "output_type": "execute_result"
    }
   ],
   "source": [
    "# listas\n",
    "data = [2, 3, 4]    # colección de elementos (posiblemente de distintos tipos) \n",
    "data = ['Ana', 10, 'Alberto', 7, [ 7 ,8 ]]\n",
    "data"
   ]
  },
  {
   "cell_type": "code",
   "execution_count": 23,
   "metadata": {
    "ExecuteTime": {
     "end_time": "2018-07-22T14:37:26.861069Z",
     "start_time": "2018-07-22T14:37:26.837134Z"
    }
   },
   "outputs": [
    {
     "data": {
      "text/plain": [
       "[1, -9, 4, 1, 9, 0]"
      ]
     },
     "execution_count": 23,
     "metadata": {},
     "output_type": "execute_result"
    }
   ],
   "source": [
    "# insertar elementos en listas\n",
    "data = [1, -9, 4, 1, 9]  \n",
    "data.append(0)                # inserción al final de la lista\n",
    "data"
   ]
  },
  {
   "cell_type": "code",
   "execution_count": 24,
   "metadata": {
    "ExecuteTime": {
     "end_time": "2018-07-22T14:37:26.885007Z",
     "start_time": "2018-07-22T14:37:26.863065Z"
    }
   },
   "outputs": [
    {
     "data": {
      "text/plain": [
       "[1, -9, 4, 1, 9, 0, 8, 7, 9]"
      ]
     },
     "execution_count": 24,
     "metadata": {},
     "output_type": "execute_result"
    }
   ],
   "source": [
    "data.extend([8, 7, 9])\n",
    "data"
   ]
  },
  {
   "cell_type": "code",
   "execution_count": 10,
   "metadata": {},
   "outputs": [
    {
     "data": {
      "text/plain": [
       "[1, -9, 4, 1, 9, 0, 8, 7, 9]"
      ]
     },
     "execution_count": 10,
     "metadata": {},
     "output_type": "execute_result"
    }
   ],
   "source": [
    "data"
   ]
  },
  {
   "cell_type": "code",
   "execution_count": 11,
   "metadata": {},
   "outputs": [
    {
     "data": {
      "text/plain": [
       "list"
      ]
     },
     "execution_count": 11,
     "metadata": {},
     "output_type": "execute_result"
    }
   ],
   "source": [
    "type(data)"
   ]
  },
  {
   "cell_type": "code",
   "execution_count": 12,
   "metadata": {},
   "outputs": [
    {
     "data": {
      "text/plain": [
       "[1, -9, 4, 1, 9, 0, 8, 7, 9, 1, -9, 4, 1, 9, 0, 8, 7, 9]"
      ]
     },
     "execution_count": 12,
     "metadata": {},
     "output_type": "execute_result"
    }
   ],
   "source": [
    "data * 2"
   ]
  },
  {
   "cell_type": "code",
   "execution_count": 21,
   "metadata": {},
   "outputs": [
    {
     "data": {
      "text/plain": [
       "-9"
      ]
     },
     "execution_count": 21,
     "metadata": {},
     "output_type": "execute_result"
    }
   ],
   "source": [
    "data.pop(0)"
   ]
  },
  {
   "cell_type": "code",
   "execution_count": 22,
   "metadata": {},
   "outputs": [
    {
     "data": {
      "text/plain": [
       "[4, 0, 8, 7]"
      ]
     },
     "execution_count": 22,
     "metadata": {},
     "output_type": "execute_result"
    }
   ],
   "source": [
    "data"
   ]
  },
  {
   "cell_type": "code",
   "execution_count": 8,
   "metadata": {
    "ExecuteTime": {
     "end_time": "2018-07-22T14:37:26.897971Z",
     "start_time": "2018-07-22T14:37:26.887001Z"
    }
   },
   "outputs": [
    {
     "data": {
      "text/plain": [
       "'Ana Maria'"
      ]
     },
     "execution_count": 8,
     "metadata": {},
     "output_type": "execute_result"
    }
   ],
   "source": [
    "'Ana' + ' ' + 'Maria'"
   ]
  },
  {
   "cell_type": "markdown",
   "metadata": {},
   "source": [
    "__Acceso a los elementos de una lista o tupla __\n",
    "\n",
    "* Los elementos de las secuencias pueden ser accedidos mediante el uso de corchetes `[ ]`, como en otros lenguajes de programación. \n",
    "* Podemos *indexar* las secuencias utilizando la sintaxis:\n",
    "\n",
    "```\n",
    "[<inicio>:<final>:<salto>]\n",
    "```"
   ]
  },
  {
   "cell_type": "markdown",
   "metadata": {},
   "source": [
    "* En Python, la indexación empieza por CERO"
   ]
  },
  {
   "cell_type": "code",
   "execution_count": 35,
   "metadata": {
    "ExecuteTime": {
     "end_time": "2018-07-22T14:39:00.717192Z",
     "start_time": "2018-07-22T14:39:00.711209Z"
    }
   },
   "outputs": [
    {
     "data": {
      "text/plain": [
       "([1, -9, 4, 1, 9, 0, 8, 7, 9], [1, -9], 9)"
      ]
     },
     "execution_count": 35,
     "metadata": {},
     "output_type": "execute_result"
    }
   ],
   "source": [
    "data, data[0:2:1], len(data[::])\n"
   ]
  },
  {
   "cell_type": "code",
   "execution_count": 27,
   "metadata": {
    "ExecuteTime": {
     "end_time": "2018-07-22T14:39:01.336551Z",
     "start_time": "2018-07-22T14:39:01.330567Z"
    }
   },
   "outputs": [
    {
     "data": {
      "text/plain": [
       "1"
      ]
     },
     "execution_count": 27,
     "metadata": {},
     "output_type": "execute_result"
    }
   ],
   "source": [
    "# Acceso a los elementos: indexación comenzando desde 0\n",
    "data[0] "
   ]
  },
  {
   "cell_type": "code",
   "execution_count": 28,
   "metadata": {
    "ExecuteTime": {
     "end_time": "2018-07-22T14:39:01.887682Z",
     "start_time": "2018-07-22T14:39:01.881699Z"
    }
   },
   "outputs": [
    {
     "data": {
      "text/plain": [
       "[1, 27, 4, 1, 9, 0, 8, 7, 9]"
      ]
     },
     "execution_count": 28,
     "metadata": {},
     "output_type": "execute_result"
    }
   ],
   "source": [
    "# modificación de los elementos\n",
    "data[1] = 9 * 3\n",
    "data"
   ]
  },
  {
   "cell_type": "code",
   "execution_count": 29,
   "metadata": {
    "ExecuteTime": {
     "end_time": "2018-07-22T14:39:02.415673Z",
     "start_time": "2018-07-22T14:39:02.409687Z"
    }
   },
   "outputs": [
    {
     "data": {
      "text/plain": [
       "9"
      ]
     },
     "execution_count": 29,
     "metadata": {},
     "output_type": "execute_result"
    }
   ],
   "source": [
    "#longitud de una lista\n",
    "len(data)"
   ]
  },
  {
   "cell_type": "code",
   "execution_count": 15,
   "metadata": {
    "ExecuteTime": {
     "end_time": "2018-07-22T14:37:26.982744Z",
     "start_time": "2018-07-22T14:37:26.970777Z"
    }
   },
   "outputs": [
    {
     "data": {
      "text/plain": [
       "[27, 4, 1]"
      ]
     },
     "execution_count": 15,
     "metadata": {},
     "output_type": "execute_result"
    }
   ],
   "source": [
    "data[1:4]    # elementos en el rango [1, 4)"
   ]
  },
  {
   "cell_type": "code",
   "execution_count": 16,
   "metadata": {
    "ExecuteTime": {
     "end_time": "2018-07-22T14:37:26.999699Z",
     "start_time": "2018-07-22T14:37:26.984739Z"
    }
   },
   "outputs": [
    {
     "data": {
      "text/plain": [
       "[1, 27, 4, 1, 9, 0, 8, 7, 9]"
      ]
     },
     "execution_count": 16,
     "metadata": {},
     "output_type": "execute_result"
    }
   ],
   "source": [
    "data"
   ]
  },
  {
   "cell_type": "code",
   "execution_count": 17,
   "metadata": {
    "ExecuteTime": {
     "end_time": "2018-07-22T14:37:27.018650Z",
     "start_time": "2018-07-22T14:37:27.002695Z"
    }
   },
   "outputs": [
    {
     "data": {
      "text/plain": [
       "[1, 4, 9, 8, 9]"
      ]
     },
     "execution_count": 17,
     "metadata": {},
     "output_type": "execute_result"
    }
   ],
   "source": [
    "data[::2]   # desde el principio hasta el final con salto 2"
   ]
  },
  {
   "cell_type": "code",
   "execution_count": 18,
   "metadata": {
    "ExecuteTime": {
     "end_time": "2018-07-22T14:37:27.037599Z",
     "start_time": "2018-07-22T14:37:27.030617Z"
    }
   },
   "outputs": [
    {
     "data": {
      "text/plain": [
       "9"
      ]
     },
     "execution_count": 18,
     "metadata": {},
     "output_type": "execute_result"
    }
   ],
   "source": [
    "data[-1]     # recorrido en orden inverso"
   ]
  },
  {
   "cell_type": "code",
   "execution_count": 19,
   "metadata": {
    "ExecuteTime": {
     "end_time": "2018-07-22T14:37:27.055553Z",
     "start_time": "2018-07-22T14:37:27.039593Z"
    }
   },
   "outputs": [
    {
     "data": {
      "text/plain": [
       "[8, 7, 9]"
      ]
     },
     "execution_count": 19,
     "metadata": {},
     "output_type": "execute_result"
    }
   ],
   "source": [
    "data[-3:]"
   ]
  },
  {
   "cell_type": "code",
   "execution_count": 36,
   "metadata": {
    "scrolled": true
   },
   "outputs": [
    {
     "data": {
      "text/plain": [
       "[1, -9, 4, 1, 9, 0, 8, 7, 9]"
      ]
     },
     "execution_count": 36,
     "metadata": {},
     "output_type": "execute_result"
    }
   ],
   "source": [
    "data"
   ]
  },
  {
   "cell_type": "code",
   "execution_count": 37,
   "metadata": {},
   "outputs": [
    {
     "data": {
      "text/plain": [
       "[1, -9, 4, 1, 9]"
      ]
     },
     "execution_count": 37,
     "metadata": {},
     "output_type": "execute_result"
    }
   ],
   "source": [
    "data[:5] # 5 primeros elementos"
   ]
  },
  {
   "cell_type": "code",
   "execution_count": 38,
   "metadata": {},
   "outputs": [
    {
     "data": {
      "text/plain": [
       "[9, 0, 8, 7, 9]"
      ]
     },
     "execution_count": 38,
     "metadata": {},
     "output_type": "execute_result"
    }
   ],
   "source": [
    "data[4:] # Excluyendo los 5 primeros elementos"
   ]
  },
  {
   "cell_type": "markdown",
   "metadata": {},
   "source": [
    "__La función `range`__"
   ]
  },
  {
   "cell_type": "code",
   "execution_count": 20,
   "metadata": {
    "ExecuteTime": {
     "end_time": "2018-07-22T14:37:27.075496Z",
     "start_time": "2018-07-22T14:37:27.057544Z"
    }
   },
   "outputs": [
    {
     "data": {
      "text/plain": [
       "[-5, -4, -3, -2, -1, 0, 1, 2, 3, 4]"
      ]
     },
     "execution_count": 20,
     "metadata": {},
     "output_type": "execute_result"
    }
   ],
   "source": [
    "# generación de listas de enteros en un rango\n",
    "list(range(-5, 5))"
   ]
  },
  {
   "cell_type": "code",
   "execution_count": 21,
   "metadata": {
    "ExecuteTime": {
     "end_time": "2018-07-22T14:37:27.088463Z",
     "start_time": "2018-07-22T14:37:27.077492Z"
    }
   },
   "outputs": [
    {
     "data": {
      "text/plain": [
       "(-5, -4, -3, -2, -1, 0, 1, 2, 3, 4)"
      ]
     },
     "execution_count": 21,
     "metadata": {},
     "output_type": "execute_result"
    }
   ],
   "source": [
    "# generación de listas de enteros en un rango\n",
    "tuple(range(-5, 5))"
   ]
  },
  {
   "cell_type": "code",
   "execution_count": 45,
   "metadata": {},
   "outputs": [
    {
     "data": {
      "text/plain": [
       "[0, 1, 2, 3, 4]"
      ]
     },
     "execution_count": 45,
     "metadata": {},
     "output_type": "execute_result"
    }
   ],
   "source": [
    "list(range(5)) # escoge 0 como ini por default"
   ]
  },
  {
   "cell_type": "code",
   "execution_count": null,
   "metadata": {},
   "outputs": [],
   "source": []
  },
  {
   "cell_type": "markdown",
   "metadata": {},
   "source": [
    "###  Diccionarios"
   ]
  },
  {
   "cell_type": "markdown",
   "metadata": {},
   "source": [
    "En Python, un diccionario es   una colección  __no ordenada__ de pares __clave - valor__ donde la clave y el valor son objetos Python.\n",
    "\n",
    "* Los  elementos del diccionario son de la forma __clave : valor__  y cada uno de los elementos se separan por comas.\n",
    "* El acceso a los elementos de un diccionario se realiza a través de la clave.\n",
    "* En otros lenguajes se les conoce como _tablas hash_.\n",
    "* Los diccionarios se crean utilizando llaves __{ }__.\n",
    "\n",
    "Su uso es imprescindible en el proceso de datasets en formato __Json__."
   ]
  },
  {
   "cell_type": "code",
   "execution_count": 49,
   "metadata": {
    "ExecuteTime": {
     "end_time": "2018-07-22T14:37:27.100429Z",
     "start_time": "2018-07-22T14:37:27.090458Z"
    }
   },
   "outputs": [],
   "source": [
    "dic = { }     # diccionario vacío"
   ]
  },
  {
   "cell_type": "code",
   "execution_count": 50,
   "metadata": {
    "ExecuteTime": {
     "end_time": "2018-07-22T14:37:27.115390Z",
     "start_time": "2018-07-22T14:37:27.102425Z"
    }
   },
   "outputs": [
    {
     "data": {
      "text/plain": [
       "{1: 'Lunes', 2: 'Martes', 3: 'Miercoles'}"
      ]
     },
     "execution_count": 50,
     "metadata": {},
     "output_type": "execute_result"
    }
   ],
   "source": [
    "# diccionario con 3 elementos\n",
    "dic =  {1:'Lunes', 2:'Martes', 3:'Miercoles' }\n",
    "dic"
   ]
  },
  {
   "cell_type": "code",
   "execution_count": 51,
   "metadata": {
    "ExecuteTime": {
     "end_time": "2018-07-22T14:37:27.128355Z",
     "start_time": "2018-07-22T14:37:27.122372Z"
    }
   },
   "outputs": [
    {
     "data": {
      "text/plain": [
       "{1: 'Lunes', 2: 'Martes', 3: 'Miercoles'}"
      ]
     },
     "execution_count": 51,
     "metadata": {},
     "output_type": "execute_result"
    }
   ],
   "source": [
    "dic"
   ]
  },
  {
   "cell_type": "code",
   "execution_count": 33,
   "metadata": {
    "ExecuteTime": {
     "end_time": "2018-07-22T14:37:27.129352Z",
     "start_time": "2018-07-22T14:37:26.998Z"
    }
   },
   "outputs": [
    {
     "data": {
      "text/plain": [
       "dict_keys([1, 2, 3])"
      ]
     },
     "execution_count": 33,
     "metadata": {},
     "output_type": "execute_result"
    }
   ],
   "source": [
    "# Acceso a las claves\n",
    "dic.keys()"
   ]
  },
  {
   "cell_type": "code",
   "execution_count": 34,
   "metadata": {
    "ExecuteTime": {
     "end_time": "2018-07-22T14:37:27.130350Z",
     "start_time": "2018-07-22T14:37:27.003Z"
    }
   },
   "outputs": [
    {
     "data": {
      "text/plain": [
       "dict_values(['Lunes', 'Martes', 'Miercoles'])"
      ]
     },
     "execution_count": 34,
     "metadata": {},
     "output_type": "execute_result"
    }
   ],
   "source": [
    "# Aceeso a los valores\n",
    "dic.values()"
   ]
  },
  {
   "cell_type": "code",
   "execution_count": 56,
   "metadata": {},
   "outputs": [
    {
     "data": {
      "text/plain": [
       "{1: 'Lunes', 2: 'Martes', 3: 'Domingo', 4: 'Jueves'}"
      ]
     },
     "execution_count": 56,
     "metadata": {},
     "output_type": "execute_result"
    }
   ],
   "source": [
    "dic"
   ]
  },
  {
   "cell_type": "code",
   "execution_count": 52,
   "metadata": {
    "ExecuteTime": {
     "end_time": "2018-07-22T14:37:27.131349Z",
     "start_time": "2018-07-22T14:37:27.008Z"
    }
   },
   "outputs": [],
   "source": [
    "# Acceso al valor de una clave\n",
    "dic[3] = 'Domingo'"
   ]
  },
  {
   "cell_type": "code",
   "execution_count": 53,
   "metadata": {
    "ExecuteTime": {
     "end_time": "2018-07-22T14:37:27.133343Z",
     "start_time": "2018-07-22T14:37:27.016Z"
    }
   },
   "outputs": [
    {
     "data": {
      "text/plain": [
       "{1: 'Lunes', 2: 'Martes', 3: 'Domingo', 4: 'Jueves'}"
      ]
     },
     "execution_count": 53,
     "metadata": {},
     "output_type": "execute_result"
    }
   ],
   "source": [
    "# añadir / modificar elementos de un diccionario\n",
    "dic[4] = 'Jueves'\n",
    "dic"
   ]
  },
  {
   "cell_type": "code",
   "execution_count": 54,
   "metadata": {
    "ExecuteTime": {
     "end_time": "2018-07-22T14:37:27.134342Z",
     "start_time": "2018-07-22T14:37:27.023Z"
    }
   },
   "outputs": [
    {
     "data": {
      "text/plain": [
       "'Domingo'"
      ]
     },
     "execution_count": 54,
     "metadata": {},
     "output_type": "execute_result"
    }
   ],
   "source": [
    "dic.get(3)"
   ]
  },
  {
   "cell_type": "markdown",
   "metadata": {},
   "source": [
    "##### Ejercicios"
   ]
  },
  {
   "cell_type": "markdown",
   "metadata": {},
   "source": [
    "Ejecutar el siguiente bloque de código para leer una lista de tweets almacenada en el documento [./Tweets/Oct24.json](./Tweets/Oct24.json)."
   ]
  },
  {
   "cell_type": "code",
   "execution_count": 57,
   "metadata": {
    "ExecuteTime": {
     "end_time": "2018-07-22T14:37:27.137334Z",
     "start_time": "2018-07-22T14:37:27.035Z"
    }
   },
   "outputs": [
    {
     "data": {
      "text/plain": [
       "(list, 12)"
      ]
     },
     "execution_count": 57,
     "metadata": {},
     "output_type": "execute_result"
    }
   ],
   "source": [
    "import json\n",
    "with open('./Tweets/Oct24.json') as data_file:    \n",
    "    lista_tweets = json.load(data_file)\n",
    "type(lista_tweets), len(lista_tweets)"
   ]
  },
  {
   "cell_type": "code",
   "execution_count": 58,
   "metadata": {
    "ExecuteTime": {
     "end_time": "2018-07-22T14:37:27.138334Z",
     "start_time": "2018-07-22T14:37:27.042Z"
    }
   },
   "outputs": [
    {
     "name": "stdout",
     "output_type": "stream",
     "text": [
      "{\n",
      "    \"contributors\": null,\n",
      "    \"user\": {\n",
      "        \"default_profile\": false,\n",
      "        \"profile_text_color\": \"333333\",\n",
      "        \"favourites_count\": 1148,\n",
      "        \"translator_type\": \"none\",\n",
      "        \"followers_count\": 2677,\n",
      "        \"notifications\": false,\n",
      "        \"profile_banner_url\": \"https://pbs.twimg.com/profile_banners/254573994/1473849370\",\n",
      "        \"id_str\": \"254573994\",\n",
      "        \"id\": 254573994,\n",
      "        \"entities\": {\n",
      "            \"description\": {\n",
      "                \"urls\": [\n",
      "                    {\n",
      "                        \"display_url\": \"bit.ly/1N25wfd\",\n",
      "                        \"indices\": [\n",
      "                            71,\n",
      "                            94\n",
      "                        ],\n",
      "                        \"expanded_url\": \"http://bit.ly/1N25wfd\",\n",
      "                        \"url\": \"https://t.co/nhKRk2Wtz9\"\n",
      "                    },\n",
      "                    {\n",
      "                        \"display_url\": \"bit.ly/1MOoi5g\",\n",
      "                        \"indices\": [\n",
      "                            117,\n",
      "                            140\n",
      "                        ],\n",
      "                        \"expanded_url\": \"http://bit.ly/1MOoi5g\",\n",
      "                        \"url\": \"https://t.co/1NpEMQgOvx\"\n",
      "                    }\n",
      "                ]\n",
      "            },\n",
      "            \"url\": {\n",
      "                \"urls\": [\n",
      "                    {\n",
      "                        \"display_url\": \"cunef.edu\",\n",
      "                        \"indices\": [\n",
      "                            0,\n",
      "                            22\n",
      "                        ],\n",
      "                        \"expanded_url\": \"http://www.cunef.edu\",\n",
      "                        \"url\": \"http://t.co/q8FCoR3jgA\"\n",
      "                    }\n",
      "                ]\n",
      "            }\n",
      "        },\n",
      "        \"protected\": false,\n",
      "        \"profile_link_color\": \"009999\",\n",
      "        \"contributors_enabled\": false,\n",
      "        \"profile_background_image_url_https\": \"https://pbs.twimg.com/profile_background_images/378800000165402649/G1QvgiCO.jpeg\",\n",
      "        \"lang\": \"es\",\n",
      "        \"utc_offset\": null,\n",
      "        \"geo_enabled\": true,\n",
      "        \"profile_image_url\": \"http://pbs.twimg.com/profile_images/542990503310921729/5rV43U3f_normal.jpeg\",\n",
      "        \"verified\": false,\n",
      "        \"name\": \"CUNEF\",\n",
      "        \"statuses_count\": 3748,\n",
      "        \"location\": \"Madrid\",\n",
      "        \"description\": \"Twitter oficial de CUNEF - Financial [Thinking] Grado en Derecho y ADE https://t.co/nhKRk2Wtz9. Escuela de Postgrado https://t.co/1NpEMQgOvx\",\n",
      "        \"screen_name\": \"CUNEF\",\n",
      "        \"url\": \"http://t.co/q8FCoR3jgA\",\n",
      "        \"profile_sidebar_border_color\": \"FFFFFF\",\n",
      "        \"is_translator\": false,\n",
      "        \"default_profile_image\": false,\n",
      "        \"profile_use_background_image\": true,\n",
      "        \"profile_background_color\": \"131516\",\n",
      "        \"friends_count\": 797,\n",
      "        \"profile_sidebar_fill_color\": \"EFEFEF\",\n",
      "        \"profile_image_url_https\": \"https://pbs.twimg.com/profile_images/542990503310921729/5rV43U3f_normal.jpeg\",\n",
      "        \"follow_request_sent\": false,\n",
      "        \"following\": false,\n",
      "        \"has_extended_profile\": false,\n",
      "        \"created_at\": \"Sat Feb 19 15:15:44 +0000 2011\",\n",
      "        \"is_translation_enabled\": false,\n",
      "        \"listed_count\": 98,\n",
      "        \"profile_background_image_url\": \"http://pbs.twimg.com/profile_background_images/378800000165402649/G1QvgiCO.jpeg\",\n",
      "        \"profile_background_tile\": false,\n",
      "        \"time_zone\": null\n",
      "    },\n",
      "    \"in_reply_to_status_id\": null,\n",
      "    \"quoted_status_id_str\": \"789368659512848384\",\n",
      "    \"metadata\": {\n",
      "        \"iso_language_code\": \"es\",\n",
      "        \"result_type\": \"recent\"\n",
      "    },\n",
      "    \"retweeted_status\": {\n",
      "        \"contributors\": null,\n",
      "        \"user\": {\n",
      "            \"default_profile\": true,\n",
      "            \"profile_text_color\": \"333333\",\n",
      "            \"favourites_count\": 116,\n",
      "            \"translator_type\": \"none\",\n",
      "            \"followers_count\": 67,\n",
      "            \"notifications\": false,\n",
      "            \"id_str\": \"329560530\",\n",
      "            \"id\": 329560530,\n",
      "            \"entities\": {\n",
      "                \"description\": {\n",
      "                    \"urls\": []\n",
      "                },\n",
      "                \"url\": {\n",
      "                    \"urls\": [\n",
      "                        {\n",
      "                            \"display_url\": \"cunef.edu\",\n",
      "                            \"indices\": [\n",
      "                                0,\n",
      "                                23\n",
      "                            ],\n",
      "                            \"expanded_url\": \"http://www.cunef.edu\",\n",
      "                            \"url\": \"https://t.co/nJNaunPMqO\"\n",
      "                        }\n",
      "                    ]\n",
      "                }\n",
      "            },\n",
      "            \"protected\": false,\n",
      "            \"profile_link_color\": \"0084B4\",\n",
      "            \"contributors_enabled\": false,\n",
      "            \"profile_background_image_url_https\": \"https://abs.twimg.com/images/themes/theme1/bg.png\",\n",
      "            \"lang\": \"es\",\n",
      "            \"utc_offset\": 7200,\n",
      "            \"geo_enabled\": false,\n",
      "            \"profile_image_url\": \"http://pbs.twimg.com/profile_images/1663931900/pati1_normal.JPG\",\n",
      "            \"verified\": false,\n",
      "            \"name\": \"Patricia Enr\\u00edquez\",\n",
      "            \"statuses_count\": 618,\n",
      "            \"location\": \"Madrid, Comunidad de Madrid\",\n",
      "            \"description\": \"Learning something new, everyday...\",\n",
      "            \"screen_name\": \"penistal\",\n",
      "            \"url\": \"https://t.co/nJNaunPMqO\",\n",
      "            \"profile_sidebar_border_color\": \"C0DEED\",\n",
      "            \"is_translator\": false,\n",
      "            \"default_profile_image\": false,\n",
      "            \"profile_use_background_image\": true,\n",
      "            \"profile_background_color\": \"C0DEED\",\n",
      "            \"friends_count\": 42,\n",
      "            \"profile_sidebar_fill_color\": \"DDEEF6\",\n",
      "            \"profile_image_url_https\": \"https://pbs.twimg.com/profile_images/1663931900/pati1_normal.JPG\",\n",
      "            \"follow_request_sent\": false,\n",
      "            \"following\": false,\n",
      "            \"has_extended_profile\": false,\n",
      "            \"created_at\": \"Tue Jul 05 08:34:47 +0000 2011\",\n",
      "            \"is_translation_enabled\": false,\n",
      "            \"listed_count\": 20,\n",
      "            \"profile_background_image_url\": \"http://abs.twimg.com/images/themes/theme1/bg.png\",\n",
      "            \"profile_background_tile\": false,\n",
      "            \"time_zone\": \"Athens\"\n",
      "        },\n",
      "        \"in_reply_to_status_id\": null,\n",
      "        \"quoted_status_id_str\": \"789368659512848384\",\n",
      "        \"metadata\": {\n",
      "            \"iso_language_code\": \"es\",\n",
      "            \"result_type\": \"recent\"\n",
      "        },\n",
      "        \"text\": \"Genial@GmezMacarena y genial iniciativa @CUNEF @fundacionAEB #mesuenaunpoco #educacionfinanciera #blockchain https://t.co/tJ6hUF9bKR\",\n",
      "        \"favorited\": false,\n",
      "        \"id_str\": \"790600098199638016\",\n",
      "        \"id\": 790600098199638016,\n",
      "        \"entities\": {\n",
      "            \"user_mentions\": [\n",
      "                {\n",
      "                    \"name\": \"CUNEF\",\n",
      "                    \"screen_name\": \"CUNEF\",\n",
      "                    \"id_str\": \"254573994\",\n",
      "                    \"indices\": [\n",
      "                        40,\n",
      "                        46\n",
      "                    ],\n",
      "                    \"id\": 254573994\n",
      "                }\n",
      "            ],\n",
      "            \"urls\": [\n",
      "                {\n",
      "                    \"display_url\": \"twitter.com/mesuenaunpoco/\\u2026\",\n",
      "                    \"indices\": [\n",
      "                        109,\n",
      "                        132\n",
      "                    ],\n",
      "                    \"expanded_url\": \"https://twitter.com/mesuenaunpoco/status/789368659512848384\",\n",
      "                    \"url\": \"https://t.co/tJ6hUF9bKR\"\n",
      "                }\n",
      "            ],\n",
      "            \"hashtags\": [\n",
      "                {\n",
      "                    \"indices\": [\n",
      "                        61,\n",
      "                        75\n",
      "                    ],\n",
      "                    \"text\": \"mesuenaunpoco\"\n",
      "                },\n",
      "                {\n",
      "                    \"indices\": [\n",
      "                        76,\n",
      "                        96\n",
      "                    ],\n",
      "                    \"text\": \"educacionfinanciera\"\n",
      "                },\n",
      "                {\n",
      "                    \"indices\": [\n",
      "                        97,\n",
      "                        108\n",
      "                    ],\n",
      "                    \"text\": \"blockchain\"\n",
      "                }\n",
      "            ],\n",
      "            \"symbols\": []\n",
      "        },\n",
      "        \"retweet_count\": 3,\n",
      "        \"coordinates\": null,\n",
      "        \"lang\": \"es\",\n",
      "        \"in_reply_to_screen_name\": null,\n",
      "        \"in_reply_to_status_id_str\": null,\n",
      "        \"quoted_status\": {\n",
      "            \"contributors\": null,\n",
      "            \"user\": {\n",
      "                \"default_profile\": false,\n",
      "                \"profile_text_color\": \"000000\",\n",
      "                \"favourites_count\": 88,\n",
      "                \"translator_type\": \"none\",\n",
      "                \"followers_count\": 120,\n",
      "                \"notifications\": false,\n",
      "                \"profile_banner_url\": \"https://pbs.twimg.com/profile_banners/781419807686201344/1476104759\",\n",
      "                \"id_str\": \"781419807686201344\",\n",
      "                \"id\": 781419807686201344,\n",
      "                \"entities\": {\n",
      "                    \"description\": {\n",
      "                        \"urls\": []\n",
      "                    },\n",
      "                    \"url\": {\n",
      "                        \"urls\": [\n",
      "                            {\n",
      "                                \"display_url\": \"mesuenaunpoco.com\",\n",
      "                                \"indices\": [\n",
      "                                    0,\n",
      "                                    23\n",
      "                                ],\n",
      "                                \"expanded_url\": \"http://www.mesuenaunpoco.com\",\n",
      "                                \"url\": \"https://t.co/LCvhYQfwvv\"\n",
      "                            }\n",
      "                        ]\n",
      "                    }\n",
      "                },\n",
      "                \"protected\": false,\n",
      "                \"profile_link_color\": \"19CF86\",\n",
      "                \"contributors_enabled\": false,\n",
      "                \"profile_background_image_url_https\": \"https://abs.twimg.com/images/themes/theme1/bg.png\",\n",
      "                \"lang\": \"es\",\n",
      "                \"utc_offset\": 3600,\n",
      "                \"geo_enabled\": false,\n",
      "                \"profile_image_url\": \"http://pbs.twimg.com/profile_images/785121160958709761/CgKmb3Su_normal.jpg\",\n",
      "                \"verified\": false,\n",
      "                \"name\": \"me suena un poco\",\n",
      "                \"statuses_count\": 48,\n",
      "                \"location\": \"\",\n",
      "                \"description\": \"\\u00bfEs posible que algunos t\\u00e9rminos financieros nos suenen m\\u00e1s de lo que pensamos? #mesuenaunpoco es cultura financiera en peque\\u00f1as dosis.\",\n",
      "                \"screen_name\": \"mesuenaunpoco\",\n",
      "                \"url\": \"https://t.co/LCvhYQfwvv\",\n",
      "                \"profile_sidebar_border_color\": \"000000\",\n",
      "                \"is_translator\": false,\n",
      "                \"default_profile_image\": false,\n",
      "                \"profile_use_background_image\": false,\n",
      "                \"profile_background_color\": \"000000\",\n",
      "                \"friends_count\": 68,\n",
      "                \"profile_sidebar_fill_color\": \"000000\",\n",
      "                \"profile_image_url_https\": \"https://pbs.twimg.com/profile_images/785121160958709761/CgKmb3Su_normal.jpg\",\n",
      "                \"follow_request_sent\": false,\n",
      "                \"following\": false,\n",
      "                \"has_extended_profile\": false,\n",
      "                \"created_at\": \"Thu Sep 29 09:06:15 +0000 2016\",\n",
      "                \"is_translation_enabled\": false,\n",
      "                \"listed_count\": 1,\n",
      "                \"profile_background_image_url\": \"http://abs.twimg.com/images/themes/theme1/bg.png\",\n",
      "                \"profile_background_tile\": false,\n",
      "                \"time_zone\": \"Madrid\"\n",
      "            },\n",
      "            \"in_reply_to_status_id\": null,\n",
      "            \"metadata\": {\n",
      "                \"iso_language_code\": \"es\",\n",
      "                \"result_type\": \"recent\"\n",
      "            },\n",
      "            \"text\": \"Fondo de inversi\\u00f3n... \\u00bfte suena?. \\n@GmezMacarena te lo explica, dale al play. https://t.co/OLYMuBK35M\\u2026 https://t.co/TCwla4j4ou\",\n",
      "            \"favorited\": false,\n",
      "            \"id_str\": \"789368659512848384\",\n",
      "            \"id\": 789368659512848384,\n",
      "            \"entities\": {\n",
      "                \"user_mentions\": [\n",
      "                    {\n",
      "                        \"name\": \"Macarena G\\u00f3mez\",\n",
      "                        \"screen_name\": \"GmezMacarena\",\n",
      "                        \"id_str\": \"290124869\",\n",
      "                        \"indices\": [\n",
      "                            35,\n",
      "                            48\n",
      "                        ],\n",
      "                        \"id\": 290124869\n",
      "                    }\n",
      "                ],\n",
      "                \"urls\": [\n",
      "                    {\n",
      "                        \"display_url\": \"mesuenaunpoco.com\",\n",
      "                        \"indices\": [\n",
      "                            78,\n",
      "                            101\n",
      "                        ],\n",
      "                        \"expanded_url\": \"http://mesuenaunpoco.com\",\n",
      "                        \"url\": \"https://t.co/OLYMuBK35M\"\n",
      "                    },\n",
      "                    {\n",
      "                        \"display_url\": \"twitter.com/i/web/status/7\\u2026\",\n",
      "                        \"indices\": [\n",
      "                            103,\n",
      "                            126\n",
      "                        ],\n",
      "                        \"expanded_url\": \"https://twitter.com/i/web/status/789368659512848384\",\n",
      "                        \"url\": \"https://t.co/TCwla4j4ou\"\n",
      "                    }\n",
      "                ],\n",
      "                \"hashtags\": [],\n",
      "                \"symbols\": []\n",
      "            },\n",
      "            \"retweet_count\": 8,\n",
      "            \"coordinates\": null,\n",
      "            \"lang\": \"es\",\n",
      "            \"in_reply_to_screen_name\": null,\n",
      "            \"in_reply_to_status_id_str\": null,\n",
      "            \"is_quote_status\": false,\n",
      "            \"possibly_sensitive\": false,\n",
      "            \"geo\": null,\n",
      "            \"place\": null,\n",
      "            \"favorite_count\": 9,\n",
      "            \"in_reply_to_user_id_str\": null,\n",
      "            \"source\": \"<a href=\\\"http://twitter.com\\\" rel=\\\"nofollow\\\">Twitter Web Client</a>\",\n",
      "            \"in_reply_to_user_id\": null,\n",
      "            \"created_at\": \"Fri Oct 21 07:32:08 +0000 2016\",\n",
      "            \"truncated\": true,\n",
      "            \"retweeted\": false\n",
      "        },\n",
      "        \"is_quote_status\": true,\n",
      "        \"retweeted\": false,\n",
      "        \"possibly_sensitive\": false,\n",
      "        \"geo\": null,\n",
      "        \"place\": null,\n",
      "        \"favorite_count\": 4,\n",
      "        \"in_reply_to_user_id_str\": null,\n",
      "        \"source\": \"<a href=\\\"http://twitter.com/download/iphone\\\" rel=\\\"nofollow\\\">Twitter for iPhone</a>\",\n",
      "        \"in_reply_to_user_id\": null,\n",
      "        \"created_at\": \"Mon Oct 24 17:05:26 +0000 2016\",\n",
      "        \"truncated\": false,\n",
      "        \"quoted_status_id\": 789368659512848384\n",
      "    },\n",
      "    \"text\": \"RT @penistal: Genial@GmezMacarena y genial iniciativa @CUNEF @fundacionAEB #mesuenaunpoco #educacionfinanciera #blockchain https://t.co/tJ6\\u2026\",\n",
      "    \"favorited\": false,\n",
      "    \"id_str\": \"790602349949677568\",\n",
      "    \"id\": 790602349949677568,\n",
      "    \"entities\": {\n",
      "        \"user_mentions\": [\n",
      "            {\n",
      "                \"name\": \"Patricia Enr\\u00edquez\",\n",
      "                \"screen_name\": \"penistal\",\n",
      "                \"id_str\": \"329560530\",\n",
      "                \"indices\": [\n",
      "                    3,\n",
      "                    12\n",
      "                ],\n",
      "                \"id\": 329560530\n",
      "            },\n",
      "            {\n",
      "                \"name\": \"CUNEF\",\n",
      "                \"screen_name\": \"CUNEF\",\n",
      "                \"id_str\": \"254573994\",\n",
      "                \"indices\": [\n",
      "                    54,\n",
      "                    60\n",
      "                ],\n",
      "                \"id\": 254573994\n",
      "            }\n",
      "        ],\n",
      "        \"urls\": [],\n",
      "        \"hashtags\": [],\n",
      "        \"symbols\": []\n",
      "    },\n",
      "    \"retweet_count\": 3,\n",
      "    \"coordinates\": null,\n",
      "    \"lang\": \"es\",\n",
      "    \"in_reply_to_screen_name\": null,\n",
      "    \"in_reply_to_status_id_str\": null,\n",
      "    \"is_quote_status\": true,\n",
      "    \"retweeted\": false,\n",
      "    \"geo\": null,\n",
      "    \"place\": null,\n",
      "    \"favorite_count\": 0,\n",
      "    \"in_reply_to_user_id_str\": null,\n",
      "    \"source\": \"<a href=\\\"http://twitter.com/download/iphone\\\" rel=\\\"nofollow\\\">Twitter for iPhone</a>\",\n",
      "    \"in_reply_to_user_id\": null,\n",
      "    \"created_at\": \"Mon Oct 24 17:14:23 +0000 2016\",\n",
      "    \"truncated\": false,\n",
      "    \"quoted_status_id\": 789368659512848384\n",
      "}\n"
     ]
    }
   ],
   "source": [
    "print( json.dumps(lista_tweets[0], indent=4)  )"
   ]
  },
  {
   "cell_type": "markdown",
   "metadata": {},
   "source": [
    "__* Recupera el primer tweet de la lista.__"
   ]
  },
  {
   "cell_type": "code",
   "execution_count": 64,
   "metadata": {
    "ExecuteTime": {
     "end_time": "2018-07-22T14:37:27.139326Z",
     "start_time": "2018-07-22T14:37:27.047Z"
    }
   },
   "outputs": [
    {
     "data": {
      "text/plain": [
       "{'contributors': None,\n",
       " 'coordinates': None,\n",
       " 'created_at': 'Mon Oct 24 17:14:23 +0000 2016',\n",
       " 'entities': {'hashtags': [],\n",
       "  'symbols': [],\n",
       "  'urls': [],\n",
       "  'user_mentions': [{'id': 329560530,\n",
       "    'id_str': '329560530',\n",
       "    'indices': [3, 12],\n",
       "    'name': 'Patricia Enríquez',\n",
       "    'screen_name': 'penistal'},\n",
       "   {'id': 254573994,\n",
       "    'id_str': '254573994',\n",
       "    'indices': [54, 60],\n",
       "    'name': 'CUNEF',\n",
       "    'screen_name': 'CUNEF'}]},\n",
       " 'favorite_count': 0,\n",
       " 'favorited': False,\n",
       " 'geo': None,\n",
       " 'id': 790602349949677568,\n",
       " 'id_str': '790602349949677568',\n",
       " 'in_reply_to_screen_name': None,\n",
       " 'in_reply_to_status_id': None,\n",
       " 'in_reply_to_status_id_str': None,\n",
       " 'in_reply_to_user_id': None,\n",
       " 'in_reply_to_user_id_str': None,\n",
       " 'is_quote_status': True,\n",
       " 'lang': 'es',\n",
       " 'metadata': {'iso_language_code': 'es', 'result_type': 'recent'},\n",
       " 'place': None,\n",
       " 'quoted_status_id': 789368659512848384,\n",
       " 'quoted_status_id_str': '789368659512848384',\n",
       " 'retweet_count': 3,\n",
       " 'retweeted': False,\n",
       " 'retweeted_status': {'contributors': None,\n",
       "  'coordinates': None,\n",
       "  'created_at': 'Mon Oct 24 17:05:26 +0000 2016',\n",
       "  'entities': {'hashtags': [{'indices': [61, 75], 'text': 'mesuenaunpoco'},\n",
       "    {'indices': [76, 96], 'text': 'educacionfinanciera'},\n",
       "    {'indices': [97, 108], 'text': 'blockchain'}],\n",
       "   'symbols': [],\n",
       "   'urls': [{'display_url': 'twitter.com/mesuenaunpoco/…',\n",
       "     'expanded_url': 'https://twitter.com/mesuenaunpoco/status/789368659512848384',\n",
       "     'indices': [109, 132],\n",
       "     'url': 'https://t.co/tJ6hUF9bKR'}],\n",
       "   'user_mentions': [{'id': 254573994,\n",
       "     'id_str': '254573994',\n",
       "     'indices': [40, 46],\n",
       "     'name': 'CUNEF',\n",
       "     'screen_name': 'CUNEF'}]},\n",
       "  'favorite_count': 4,\n",
       "  'favorited': False,\n",
       "  'geo': None,\n",
       "  'id': 790600098199638016,\n",
       "  'id_str': '790600098199638016',\n",
       "  'in_reply_to_screen_name': None,\n",
       "  'in_reply_to_status_id': None,\n",
       "  'in_reply_to_status_id_str': None,\n",
       "  'in_reply_to_user_id': None,\n",
       "  'in_reply_to_user_id_str': None,\n",
       "  'is_quote_status': True,\n",
       "  'lang': 'es',\n",
       "  'metadata': {'iso_language_code': 'es', 'result_type': 'recent'},\n",
       "  'place': None,\n",
       "  'possibly_sensitive': False,\n",
       "  'quoted_status': {'contributors': None,\n",
       "   'coordinates': None,\n",
       "   'created_at': 'Fri Oct 21 07:32:08 +0000 2016',\n",
       "   'entities': {'hashtags': [],\n",
       "    'symbols': [],\n",
       "    'urls': [{'display_url': 'mesuenaunpoco.com',\n",
       "      'expanded_url': 'http://mesuenaunpoco.com',\n",
       "      'indices': [78, 101],\n",
       "      'url': 'https://t.co/OLYMuBK35M'},\n",
       "     {'display_url': 'twitter.com/i/web/status/7…',\n",
       "      'expanded_url': 'https://twitter.com/i/web/status/789368659512848384',\n",
       "      'indices': [103, 126],\n",
       "      'url': 'https://t.co/TCwla4j4ou'}],\n",
       "    'user_mentions': [{'id': 290124869,\n",
       "      'id_str': '290124869',\n",
       "      'indices': [35, 48],\n",
       "      'name': 'Macarena Gómez',\n",
       "      'screen_name': 'GmezMacarena'}]},\n",
       "   'favorite_count': 9,\n",
       "   'favorited': False,\n",
       "   'geo': None,\n",
       "   'id': 789368659512848384,\n",
       "   'id_str': '789368659512848384',\n",
       "   'in_reply_to_screen_name': None,\n",
       "   'in_reply_to_status_id': None,\n",
       "   'in_reply_to_status_id_str': None,\n",
       "   'in_reply_to_user_id': None,\n",
       "   'in_reply_to_user_id_str': None,\n",
       "   'is_quote_status': False,\n",
       "   'lang': 'es',\n",
       "   'metadata': {'iso_language_code': 'es', 'result_type': 'recent'},\n",
       "   'place': None,\n",
       "   'possibly_sensitive': False,\n",
       "   'retweet_count': 8,\n",
       "   'retweeted': False,\n",
       "   'source': '<a href=\"http://twitter.com\" rel=\"nofollow\">Twitter Web Client</a>',\n",
       "   'text': 'Fondo de inversión... ¿te suena?. \\n@GmezMacarena te lo explica, dale al play. https://t.co/OLYMuBK35M… https://t.co/TCwla4j4ou',\n",
       "   'truncated': True,\n",
       "   'user': {'contributors_enabled': False,\n",
       "    'created_at': 'Thu Sep 29 09:06:15 +0000 2016',\n",
       "    'default_profile': False,\n",
       "    'default_profile_image': False,\n",
       "    'description': '¿Es posible que algunos términos financieros nos suenen más de lo que pensamos? #mesuenaunpoco es cultura financiera en pequeñas dosis.',\n",
       "    'entities': {'description': {'urls': []},\n",
       "     'url': {'urls': [{'display_url': 'mesuenaunpoco.com',\n",
       "        'expanded_url': 'http://www.mesuenaunpoco.com',\n",
       "        'indices': [0, 23],\n",
       "        'url': 'https://t.co/LCvhYQfwvv'}]}},\n",
       "    'favourites_count': 88,\n",
       "    'follow_request_sent': False,\n",
       "    'followers_count': 120,\n",
       "    'following': False,\n",
       "    'friends_count': 68,\n",
       "    'geo_enabled': False,\n",
       "    'has_extended_profile': False,\n",
       "    'id': 781419807686201344,\n",
       "    'id_str': '781419807686201344',\n",
       "    'is_translation_enabled': False,\n",
       "    'is_translator': False,\n",
       "    'lang': 'es',\n",
       "    'listed_count': 1,\n",
       "    'location': '',\n",
       "    'name': 'me suena un poco',\n",
       "    'notifications': False,\n",
       "    'profile_background_color': '000000',\n",
       "    'profile_background_image_url': 'http://abs.twimg.com/images/themes/theme1/bg.png',\n",
       "    'profile_background_image_url_https': 'https://abs.twimg.com/images/themes/theme1/bg.png',\n",
       "    'profile_background_tile': False,\n",
       "    'profile_banner_url': 'https://pbs.twimg.com/profile_banners/781419807686201344/1476104759',\n",
       "    'profile_image_url': 'http://pbs.twimg.com/profile_images/785121160958709761/CgKmb3Su_normal.jpg',\n",
       "    'profile_image_url_https': 'https://pbs.twimg.com/profile_images/785121160958709761/CgKmb3Su_normal.jpg',\n",
       "    'profile_link_color': '19CF86',\n",
       "    'profile_sidebar_border_color': '000000',\n",
       "    'profile_sidebar_fill_color': '000000',\n",
       "    'profile_text_color': '000000',\n",
       "    'profile_use_background_image': False,\n",
       "    'protected': False,\n",
       "    'screen_name': 'mesuenaunpoco',\n",
       "    'statuses_count': 48,\n",
       "    'time_zone': 'Madrid',\n",
       "    'translator_type': 'none',\n",
       "    'url': 'https://t.co/LCvhYQfwvv',\n",
       "    'utc_offset': 3600,\n",
       "    'verified': False}},\n",
       "  'quoted_status_id': 789368659512848384,\n",
       "  'quoted_status_id_str': '789368659512848384',\n",
       "  'retweet_count': 3,\n",
       "  'retweeted': False,\n",
       "  'source': '<a href=\"http://twitter.com/download/iphone\" rel=\"nofollow\">Twitter for iPhone</a>',\n",
       "  'text': 'Genial@GmezMacarena y genial iniciativa @CUNEF @fundacionAEB #mesuenaunpoco #educacionfinanciera #blockchain https://t.co/tJ6hUF9bKR',\n",
       "  'truncated': False,\n",
       "  'user': {'contributors_enabled': False,\n",
       "   'created_at': 'Tue Jul 05 08:34:47 +0000 2011',\n",
       "   'default_profile': True,\n",
       "   'default_profile_image': False,\n",
       "   'description': 'Learning something new, everyday...',\n",
       "   'entities': {'description': {'urls': []},\n",
       "    'url': {'urls': [{'display_url': 'cunef.edu',\n",
       "       'expanded_url': 'http://www.cunef.edu',\n",
       "       'indices': [0, 23],\n",
       "       'url': 'https://t.co/nJNaunPMqO'}]}},\n",
       "   'favourites_count': 116,\n",
       "   'follow_request_sent': False,\n",
       "   'followers_count': 67,\n",
       "   'following': False,\n",
       "   'friends_count': 42,\n",
       "   'geo_enabled': False,\n",
       "   'has_extended_profile': False,\n",
       "   'id': 329560530,\n",
       "   'id_str': '329560530',\n",
       "   'is_translation_enabled': False,\n",
       "   'is_translator': False,\n",
       "   'lang': 'es',\n",
       "   'listed_count': 20,\n",
       "   'location': 'Madrid, Comunidad de Madrid',\n",
       "   'name': 'Patricia Enríquez',\n",
       "   'notifications': False,\n",
       "   'profile_background_color': 'C0DEED',\n",
       "   'profile_background_image_url': 'http://abs.twimg.com/images/themes/theme1/bg.png',\n",
       "   'profile_background_image_url_https': 'https://abs.twimg.com/images/themes/theme1/bg.png',\n",
       "   'profile_background_tile': False,\n",
       "   'profile_image_url': 'http://pbs.twimg.com/profile_images/1663931900/pati1_normal.JPG',\n",
       "   'profile_image_url_https': 'https://pbs.twimg.com/profile_images/1663931900/pati1_normal.JPG',\n",
       "   'profile_link_color': '0084B4',\n",
       "   'profile_sidebar_border_color': 'C0DEED',\n",
       "   'profile_sidebar_fill_color': 'DDEEF6',\n",
       "   'profile_text_color': '333333',\n",
       "   'profile_use_background_image': True,\n",
       "   'protected': False,\n",
       "   'screen_name': 'penistal',\n",
       "   'statuses_count': 618,\n",
       "   'time_zone': 'Athens',\n",
       "   'translator_type': 'none',\n",
       "   'url': 'https://t.co/nJNaunPMqO',\n",
       "   'utc_offset': 7200,\n",
       "   'verified': False}},\n",
       " 'source': '<a href=\"http://twitter.com/download/iphone\" rel=\"nofollow\">Twitter for iPhone</a>',\n",
       " 'text': 'RT @penistal: Genial@GmezMacarena y genial iniciativa @CUNEF @fundacionAEB #mesuenaunpoco #educacionfinanciera #blockchain https://t.co/tJ6…',\n",
       " 'truncated': False,\n",
       " 'user': {'contributors_enabled': False,\n",
       "  'created_at': 'Sat Feb 19 15:15:44 +0000 2011',\n",
       "  'default_profile': False,\n",
       "  'default_profile_image': False,\n",
       "  'description': 'Twitter oficial de CUNEF - Financial [Thinking] Grado en Derecho y ADE https://t.co/nhKRk2Wtz9. Escuela de Postgrado https://t.co/1NpEMQgOvx',\n",
       "  'entities': {'description': {'urls': [{'display_url': 'bit.ly/1N25wfd',\n",
       "      'expanded_url': 'http://bit.ly/1N25wfd',\n",
       "      'indices': [71, 94],\n",
       "      'url': 'https://t.co/nhKRk2Wtz9'},\n",
       "     {'display_url': 'bit.ly/1MOoi5g',\n",
       "      'expanded_url': 'http://bit.ly/1MOoi5g',\n",
       "      'indices': [117, 140],\n",
       "      'url': 'https://t.co/1NpEMQgOvx'}]},\n",
       "   'url': {'urls': [{'display_url': 'cunef.edu',\n",
       "      'expanded_url': 'http://www.cunef.edu',\n",
       "      'indices': [0, 22],\n",
       "      'url': 'http://t.co/q8FCoR3jgA'}]}},\n",
       "  'favourites_count': 1148,\n",
       "  'follow_request_sent': False,\n",
       "  'followers_count': 2677,\n",
       "  'following': False,\n",
       "  'friends_count': 797,\n",
       "  'geo_enabled': True,\n",
       "  'has_extended_profile': False,\n",
       "  'id': 254573994,\n",
       "  'id_str': '254573994',\n",
       "  'is_translation_enabled': False,\n",
       "  'is_translator': False,\n",
       "  'lang': 'es',\n",
       "  'listed_count': 98,\n",
       "  'location': 'Madrid',\n",
       "  'name': 'CUNEF',\n",
       "  'notifications': False,\n",
       "  'profile_background_color': '131516',\n",
       "  'profile_background_image_url': 'http://pbs.twimg.com/profile_background_images/378800000165402649/G1QvgiCO.jpeg',\n",
       "  'profile_background_image_url_https': 'https://pbs.twimg.com/profile_background_images/378800000165402649/G1QvgiCO.jpeg',\n",
       "  'profile_background_tile': False,\n",
       "  'profile_banner_url': 'https://pbs.twimg.com/profile_banners/254573994/1473849370',\n",
       "  'profile_image_url': 'http://pbs.twimg.com/profile_images/542990503310921729/5rV43U3f_normal.jpeg',\n",
       "  'profile_image_url_https': 'https://pbs.twimg.com/profile_images/542990503310921729/5rV43U3f_normal.jpeg',\n",
       "  'profile_link_color': '009999',\n",
       "  'profile_sidebar_border_color': 'FFFFFF',\n",
       "  'profile_sidebar_fill_color': 'EFEFEF',\n",
       "  'profile_text_color': '333333',\n",
       "  'profile_use_background_image': True,\n",
       "  'protected': False,\n",
       "  'screen_name': 'CUNEF',\n",
       "  'statuses_count': 3748,\n",
       "  'time_zone': None,\n",
       "  'translator_type': 'none',\n",
       "  'url': 'http://t.co/q8FCoR3jgA',\n",
       "  'utc_offset': None,\n",
       "  'verified': False}}"
      ]
     },
     "execution_count": 64,
     "metadata": {},
     "output_type": "execute_result"
    }
   ],
   "source": [
    "# Solución:\n",
    "primer_tweet = lista_tweets[0]\n",
    "primer_tweet"
   ]
  },
  {
   "cell_type": "markdown",
   "metadata": {},
   "source": [
    "__* Obtener la lista de claves del primer tweet.__"
   ]
  },
  {
   "cell_type": "code",
   "execution_count": 61,
   "metadata": {
    "ExecuteTime": {
     "end_time": "2018-07-22T14:37:27.141321Z",
     "start_time": "2018-07-22T14:37:27.051Z"
    }
   },
   "outputs": [
    {
     "data": {
      "text/plain": [
       "dict_keys(['contributors', 'user', 'in_reply_to_status_id', 'quoted_status_id_str', 'metadata', 'retweeted_status', 'text', 'favorited', 'id_str', 'id', 'entities', 'retweet_count', 'coordinates', 'lang', 'in_reply_to_screen_name', 'in_reply_to_status_id_str', 'is_quote_status', 'retweeted', 'geo', 'place', 'favorite_count', 'in_reply_to_user_id_str', 'source', 'in_reply_to_user_id', 'created_at', 'truncated', 'quoted_status_id'])"
      ]
     },
     "execution_count": 61,
     "metadata": {},
     "output_type": "execute_result"
    }
   ],
   "source": [
    "# Sol\n",
    "\n",
    "primer_tweet.keys()"
   ]
  },
  {
   "cell_type": "code",
   "execution_count": 62,
   "metadata": {},
   "outputs": [
    {
     "data": {
      "text/plain": [
       "dict_keys(['default_profile', 'profile_text_color', 'favourites_count', 'translator_type', 'followers_count', 'notifications', 'profile_banner_url', 'id_str', 'id', 'entities', 'protected', 'profile_link_color', 'contributors_enabled', 'profile_background_image_url_https', 'lang', 'utc_offset', 'geo_enabled', 'profile_image_url', 'verified', 'name', 'statuses_count', 'location', 'description', 'screen_name', 'url', 'profile_sidebar_border_color', 'is_translator', 'default_profile_image', 'profile_use_background_image', 'profile_background_color', 'friends_count', 'profile_sidebar_fill_color', 'profile_image_url_https', 'follow_request_sent', 'following', 'has_extended_profile', 'created_at', 'is_translation_enabled', 'listed_count', 'profile_background_image_url', 'profile_background_tile', 'time_zone'])"
      ]
     },
     "execution_count": 62,
     "metadata": {},
     "output_type": "execute_result"
    }
   ],
   "source": [
    "primer_tweet['user'].keys()"
   ]
  },
  {
   "cell_type": "markdown",
   "metadata": {},
   "source": [
    "__* Obtener la fecha de creación del tercer tweet.__"
   ]
  },
  {
   "cell_type": "code",
   "execution_count": 65,
   "metadata": {
    "ExecuteTime": {
     "end_time": "2018-07-22T14:37:27.143316Z",
     "start_time": "2018-07-22T14:37:27.059Z"
    },
    "scrolled": true
   },
   "outputs": [
    {
     "data": {
      "text/plain": [
       "'Mon Oct 24 15:36:58 +0000 2016'"
      ]
     },
     "execution_count": 65,
     "metadata": {},
     "output_type": "execute_result"
    }
   ],
   "source": [
    "# Sol\n",
    "\n",
    "lista_tweets[2]['created_at']"
   ]
  },
  {
   "cell_type": "code",
   "execution_count": 67,
   "metadata": {},
   "outputs": [
    {
     "data": {
      "text/plain": [
       "'CUNEF'"
      ]
     },
     "execution_count": 67,
     "metadata": {},
     "output_type": "execute_result"
    }
   ],
   "source": [
    "lista_tweets[2]['user']['name']"
   ]
  },
  {
   "cell_type": "code",
   "execution_count": 72,
   "metadata": {},
   "outputs": [
    {
     "data": {
      "text/plain": [
       "'Cuenta atrás para #Unitour 16/17. Visitando Bilbao el próximo 2/11, @CUNEF inicia su participación en la 11ª edición https://t.co/ZyLeARQqgr'"
      ]
     },
     "execution_count": 72,
     "metadata": {},
     "output_type": "execute_result"
    }
   ],
   "source": [
    "lista_tweets[2]['text'] "
   ]
  },
  {
   "cell_type": "code",
   "execution_count": 73,
   "metadata": {},
   "outputs": [
    {
     "data": {
      "text/plain": [
       "'Cuenta atrás para #Unitour 16/17. Visitando Bilbao el próximo 2/11, @CUNEF inicia su participación en la 11ª edición https://t.co/ZyLeARQqgr'"
      ]
     },
     "execution_count": 73,
     "metadata": {},
     "output_type": "execute_result"
    }
   ],
   "source": [
    "lista_tweets[2]['text'] # Texto del tercer tweet"
   ]
  },
  {
   "cell_type": "code",
   "execution_count": 82,
   "metadata": {},
   "outputs": [
    {
     "name": "stdout",
     "output_type": "stream",
     "text": [
      "12\n"
     ]
    }
   ],
   "source": [
    "lista_tweets[2]['entities']['hashtags'][0]['text'] # Texto del primer hashtag usado en el tercer tweet"
   ]
  },
  {
   "cell_type": "code",
   "execution_count": 127,
   "metadata": {},
   "outputs": [
    {
     "name": "stdout",
     "output_type": "stream",
     "text": [
      "Tweet n 0 \n",
      " RT @penistal: Genial@GmezMacarena y genial iniciativa @CUNEF @fundacionAEB #mesuenaunpoco #educacionfinanciera #blockchain https://t.co/tJ6… \n",
      "\n",
      "Tweet n 1 \n",
      " Genial@GmezMacarena y genial iniciativa @CUNEF @fundacionAEB #mesuenaunpoco #educacionfinanciera #blockchain https://t.co/tJ6hUF9bKR \n",
      "\n",
      "Tweet n 2 \n",
      " Cuenta atrás para #Unitour 16/17. Visitando Bilbao el próximo 2/11, @CUNEF inicia su participación en la 11ª edición https://t.co/ZyLeARQqgr \n",
      "\n",
      "Tweet n 3 \n",
      " ¡The CubaLeno Daily está disponible! https://t.co/9MsAVhwEuC Gracias a @ofertaparaviaje @reyleon1962 @CUNEF #cuba #venezuela \n",
      "\n",
      "Tweet n 4 \n",
      " ¿Es posible que algunos términos financieros nos suenen más de lo que pensamos? ¡Cónoce @mesuenaunpoco!… https://t.co/3rQUwWrEns \n",
      "\n",
      "Tweet n 5 \n",
      " RT @FundacionBKT: Los mejores profesionales para formarte en #innovación están en #Akademia. Si eres alumno de @CUNEF ¡apúntate! https://t.… \n",
      "\n",
      "Tweet n 6 \n",
      " RT @FundacionBKT: Los mejores profesionales para formarte en #innovación están en #Akademia. Si eres alumno de @CUNEF ¡apúntate! https://t.… \n",
      "\n",
      "Tweet n 7 \n",
      " Los mejores profesionales para formarte en #innovación están en #Akademia. Si eres alumno de @CUNEF ¡apúntate! https://t.co/tWSemQZ6qr \n",
      "\n",
      "Tweet n 8 \n",
      " @CUNEF Análisis Técnico del IBEX 35 con ICHIMOKU\n",
      "https://t.co/2sIwSVLDB6  Fco Javier Muñoz Alvarez, CFTe, MFTA, MBA \n",
      "\n",
      "Tweet n 9 \n",
      " RT @AncirSalazar: @CUNEF Acoge con gran éxito el XI Congreso de Estudiantes de Derecho @CONEDE  https://t.co/nPIIuG0Szf \n",
      "\n",
      "Tweet n 10 \n",
      " \"Una pantalla abierta a la educación financiera\" vía @CincoDiascom https://t.co/xCe7oULZxQ  @mesuenaunpoco @CUNEF #AEB #EducaciónFinanciera \n",
      "\n",
      "Tweet n 11 \n",
      " @CUNEF Acoge con gran éxito el XI Congreso de Estudiantes de Derecho @CONEDE  https://t.co/nPIIuG0Szf \n",
      "\n"
     ]
    }
   ],
   "source": [
    "# imprime el texto de todos los tweets recogidos\n",
    "for ind, tweet in enumerate(lista_tweets):\n",
    "    print('Tweet n', ind + 1, '\\n', tweet['text'], '\\n') \n",
    "    "
   ]
  },
  {
   "cell_type": "markdown",
   "metadata": {},
   "source": [
    "##  Funciones y estructuras de control"
   ]
  },
  {
   "cell_type": "markdown",
   "metadata": {},
   "source": [
    "Las funciones tienen un _nombre_ y se declaran con la palabra reservada __def__ y devuelve un valor usando la palabra reservada __return__.\n",
    "Los bloques se representan con los tabuladores."
   ]
  },
  {
   "cell_type": "code",
   "execution_count": 89,
   "metadata": {
    "ExecuteTime": {
     "end_time": "2018-07-22T14:37:27.144313Z",
     "start_time": "2018-07-22T14:37:27.107Z"
    }
   },
   "outputs": [],
   "source": [
    "# función que suma 3 números y devuelve el resultado\n",
    "def suma_tres(x, y, z):   # 3 argumentos posicionales.\n",
    "    m1 = x + y\n",
    "    m2 = m1 + z    \n",
    "    return m2, [m1, m2]"
   ]
  },
  {
   "cell_type": "code",
   "execution_count": 87,
   "metadata": {},
   "outputs": [
    {
     "name": "stdout",
     "output_type": "stream",
     "text": [
      "data\t data_file\t dic\t i\t json\t lista_tweets\t primer_tweet\t total\t tup\t \n",
      "\n"
     ]
    }
   ],
   "source": [
    "who"
   ]
  },
  {
   "cell_type": "code",
   "execution_count": 93,
   "metadata": {
    "ExecuteTime": {
     "end_time": "2018-07-22T14:37:27.145311Z",
     "start_time": "2018-07-22T14:37:27.112Z"
    }
   },
   "outputs": [
    {
     "name": "stdout",
     "output_type": "stream",
     "text": [
      "6 [3, 6]\n"
     ]
    }
   ],
   "source": [
    "# invocación de la función\n",
    "total, _ = suma_tres(1, 2, 3)\n",
    "print(total, _)"
   ]
  },
  {
   "cell_type": "code",
   "execution_count": 107,
   "metadata": {
    "ExecuteTime": {
     "end_time": "2018-07-22T14:37:27.147305Z",
     "start_time": "2018-07-22T14:37:27.118Z"
    }
   },
   "outputs": [],
   "source": [
    "# instrucción if     (Ojo a los bloques)\n",
    "def orden(x = 0, y = 0):\n",
    "    if x < y :  \n",
    "        print('primera rama')\n",
    "        return x\n",
    "    elif x > y:\n",
    "        print('segunda rama')\n",
    "        return y\n",
    "    else:\n",
    "        print('tercera rama')\n",
    "        return 'Son iguales'   "
   ]
  },
  {
   "cell_type": "code",
   "execution_count": 108,
   "metadata": {
    "ExecuteTime": {
     "end_time": "2018-07-22T14:37:27.148303Z",
     "start_time": "2018-07-22T14:37:27.122Z"
    }
   },
   "outputs": [
    {
     "name": "stdout",
     "output_type": "stream",
     "text": [
      "primera rama\n"
     ]
    },
    {
     "data": {
      "text/plain": [
       "2"
      ]
     },
     "execution_count": 108,
     "metadata": {},
     "output_type": "execute_result"
    }
   ],
   "source": [
    "orden(2,9)"
   ]
  },
  {
   "cell_type": "code",
   "execution_count": 109,
   "metadata": {},
   "outputs": [
    {
     "name": "stdout",
     "output_type": "stream",
     "text": [
      "tercera rama\n"
     ]
    },
    {
     "data": {
      "text/plain": [
       "'Son iguales'"
      ]
     },
     "execution_count": 109,
     "metadata": {},
     "output_type": "execute_result"
    }
   ],
   "source": [
    "orden()"
   ]
  },
  {
   "cell_type": "code",
   "execution_count": 105,
   "metadata": {},
   "outputs": [
    {
     "name": "stdout",
     "output_type": "stream",
     "text": [
      "primera rama\n"
     ]
    },
    {
     "data": {
      "text/plain": [
       "[2, 4]"
      ]
     },
     "execution_count": 105,
     "metadata": {},
     "output_type": "execute_result"
    }
   ],
   "source": [
    "orden([2,4],[5]) # comparacion de listas"
   ]
  },
  {
   "cell_type": "raw",
   "metadata": {},
   "source": [
    "orden({'Ana':0},{'Ana':0})"
   ]
  },
  {
   "cell_type": "code",
   "execution_count": 46,
   "metadata": {
    "ExecuteTime": {
     "end_time": "2018-07-22T14:37:27.156281Z",
     "start_time": "2018-07-22T14:37:27.147Z"
    }
   },
   "outputs": [],
   "source": [
    "def recorrido(lista):\n",
    "    for elemento in lista:   # Bucle FOR :itera soble los elementos de m\n",
    "        print(elemento)"
   ]
  },
  {
   "cell_type": "code",
   "execution_count": 47,
   "metadata": {
    "ExecuteTime": {
     "end_time": "2018-07-22T14:37:27.164265Z",
     "start_time": "2018-07-22T14:37:27.153Z"
    }
   },
   "outputs": [
    {
     "name": "stdout",
     "output_type": "stream",
     "text": [
      "9\n",
      "8\n",
      "7\n",
      "6\n",
      "4\n"
     ]
    }
   ],
   "source": [
    "recorrido([9, 8, 7, 6, 4])"
   ]
  },
  {
   "cell_type": "code",
   "execution_count": 116,
   "metadata": {},
   "outputs": [
    {
     "name": "stdout",
     "output_type": "stream",
     "text": [
      "0\n",
      "2\n",
      "4\n",
      "6\n",
      "8\n",
      "10\n"
     ]
    }
   ],
   "source": [
    "def imprime_pares(n = 0):\n",
    "    for elem in range(0, n+1, 2):\n",
    "        print(elem)\n",
    "    \n",
    "imprime_pares(10)"
   ]
  },
  {
   "cell_type": "code",
   "execution_count": 122,
   "metadata": {},
   "outputs": [
    {
     "data": {
      "text/plain": [
       "2550"
      ]
     },
     "execution_count": 122,
     "metadata": {},
     "output_type": "execute_result"
    }
   ],
   "source": [
    "def suma_pares(n):\n",
    "    suma = 0\n",
    "    for elem in range(0, n+1, 2):\n",
    "        suma = suma + elem\n",
    "    return suma\n",
    "suma_pares(100)"
   ]
  },
  {
   "cell_type": "code",
   "execution_count": 48,
   "metadata": {
    "ExecuteTime": {
     "end_time": "2018-07-22T14:37:27.172244Z",
     "start_time": "2018-07-22T14:37:27.155Z"
    }
   },
   "outputs": [
    {
     "name": "stdout",
     "output_type": "stream",
     "text": [
      "La clave es: 1 y el valor es: Lunes\n",
      "La clave es: 2 y el valor es: Martes\n",
      "La clave es: 3 y el valor es: Miércoles\n"
     ]
    }
   ],
   "source": [
    "# iterar sobre los elementos de un diccionario\n",
    "dic =  {1:'Lunes', 2:'Martes', 3:'Miércoles' }\n",
    "\n",
    "for (clave, valor) in dic.items():\n",
    "    print(\"La clave es: \" + str(clave) + \" y el valor es: \" + valor)"
   ]
  },
  {
   "cell_type": "code",
   "execution_count": 49,
   "metadata": {
    "ExecuteTime": {
     "end_time": "2018-07-22T14:37:27.180217Z",
     "start_time": "2018-07-22T14:37:27.162Z"
    }
   },
   "outputs": [
    {
     "name": "stdout",
     "output_type": "stream",
     "text": [
      "(1, 'Lunes')\n",
      "(2, 'Martes')\n",
      "(3, 'Miércoles')\n"
     ]
    }
   ],
   "source": [
    "# iterar sobre los elementos de un diccionario\n",
    "dic =  {1:'Lunes', 2:'Martes', 3:'Miércoles' }\n",
    "\n",
    "for elemento in dic.items():\n",
    "    print( elemento)"
   ]
  },
  {
   "cell_type": "code",
   "execution_count": 50,
   "metadata": {
    "ExecuteTime": {
     "end_time": "2018-07-22T14:37:27.187198Z",
     "start_time": "2018-07-22T14:37:27.167Z"
    }
   },
   "outputs": [
    {
     "name": "stdout",
     "output_type": "stream",
     "text": [
      "El valor es: Lunes\n",
      "El valor es: Martes\n",
      "El valor es: Miércoles\n"
     ]
    }
   ],
   "source": [
    "# iterar sobre los elementos de un diccionario\n",
    "dic =  {1:'Lunes', 2:'Martes', 3:'Miércoles' }\n",
    "\n",
    "for _ , v in dic.items():\n",
    "    print('El valor es: ' + v)"
   ]
  },
  {
   "cell_type": "code",
   "execution_count": 52,
   "metadata": {
    "ExecuteTime": {
     "end_time": "2018-07-22T14:37:27.195177Z",
     "start_time": "2018-07-22T14:37:27.171Z"
    }
   },
   "outputs": [
    {
     "name": "stdout",
     "output_type": "stream",
     "text": [
      "0\n",
      "1\n",
      "2\n",
      "3\n",
      "4\n",
      "Estoy fuera del while\n"
     ]
    }
   ],
   "source": [
    "i = 0\n",
    "while i < 5:    # bucle WHILE: itera mientras la condición sea cierta\n",
    "    print(i)\n",
    "    i = i + 1\n",
    "    \n",
    "print(\"Estoy fuera del while\")"
   ]
  },
  {
   "cell_type": "markdown",
   "metadata": {},
   "source": [
    "\n",
    "\n",
    "-----"
   ]
  }
 ],
 "metadata": {
  "anaconda-cloud": {},
  "kernelspec": {
   "display_name": "Python 3",
   "language": "python",
   "name": "python3"
  },
  "language_info": {
   "codemirror_mode": {
    "name": "ipython",
    "version": 3
   },
   "file_extension": ".py",
   "mimetype": "text/x-python",
   "name": "python",
   "nbconvert_exporter": "python",
   "pygments_lexer": "ipython3",
   "version": "3.6.4"
  },
  "toc": {
   "nav_menu": {
    "height": "137px",
    "width": "252px"
   },
   "number_sections": true,
   "sideBar": true,
   "skip_h1_title": false,
   "title_cell": "Table of Contents",
   "title_sidebar": "Contents",
   "toc_cell": false,
   "toc_position": {},
   "toc_section_display": "block",
   "toc_window_display": false
  }
 },
 "nbformat": 4,
 "nbformat_minor": 1
}
