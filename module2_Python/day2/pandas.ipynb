{
 "cells": [
  {
   "cell_type": "markdown",
   "metadata": {},
   "source": [
    "<img src=\"../logo/logo_ev2017.png\">"
   ]
  },
  {
   "cell_type": "markdown",
   "metadata": {},
   "source": [
    "# Table of Contents\n",
    "* [1. Pandas](#1.-Pandas)\n",
    "\t* [1.1 DataFrames](#1.1-DataFrames)\n",
    "\t\t* [1.1.1 Crear un DataFrame](#1.1.1-Crear-un-DataFrame)\n",
    "\t* [1.2 Cargar Datasets mediante Pandas](#1.2-Cargar-Datasets-mediante-Pandas)\n",
    "\t* [1.4 Exportando DataFrames](#1.4-Exportando-DataFrames)\n",
    "\t* [1.5 Operaciones del álgebra relacional. Función Merge](#1.5-Operaciones-del-álgebra-relacional.-Función-Merge)\n",
    "\t* [1.6 Acceso a los datos (filas y columnas)](#1.6-Acceso-a-los-datos-%28filas-y-columnas%29)\n",
    "\t* [1.7 Actualización de datos de un DataFrame](#1.7-Actualización-de-datos-de-un-DataFrame)\n",
    "\t\t* [1.7.1 Modificando valores del DataFrame](#1.7.1-Modificando-valores-del-DataFrame)\n",
    "\t\t* [1.7.2 Borrando columnas en un DataFrame (__pop__ y __drop__)](#1.7.2-Borrando-columnas-en-un-DataFrame-%28__pop__-y-__drop__%29)\n",
    "\t\t* [1.7.3 Insertar datos en un DataFrame](#1.7.3-Insertar-datos-en-un-DataFrame)\n",
    "\t* [1.8 Tratamiento de valores nulos](#1.8-Tratamiento-de-valores-nulos)\n",
    "\t* [1.9 Consultas](#1.9-Consultas)\n",
    "\t* [1.10 Grupos y funciones de agrupación](#1.10-Grupos-y-funciones-de-agrupación)\n",
    "\t* [1.11 Primeros estadísticos](#1.11-Primeros-estadísticos)\n",
    "\t\t* [1.11.1 Matriz de correlación](#1.11.1-Matriz-de-correlación)\n",
    "* [2. Maching Learning](#2.-Maching-Learning)\n",
    "\t* [2.2 Predicción con Arboles de decisión](#2.2-Predicción-con-Arboles-de-decisión)\n",
    "\t* [2.3 Predicción con Random Forest](#2.3-Predicción-con-Random-Forest)\n"
   ]
  },
  {
   "cell_type": "markdown",
   "metadata": {},
   "source": [
    "#  Pandas"
   ]
  },
  {
   "cell_type": "markdown",
   "metadata": {},
   "source": [
    "La librería __pandas__ de Python proporciona estructuras de datos de alto nivel y herramientas diseñadas específicamente para conseguir un análisis de los datos rápido y sencillo.\n",
    "\n",
    "* Pandas está construida sobre la librería __NumPy__\n",
    "\n",
    "__Aspectos más importantes__:\n",
    "    \n",
    "* Ofrece una estructurade datos bidimensional : DataFrame\n",
    "* Filas y  columnas indexadas (Selección de filas y columas a través de su nombre)\n",
    "* Selección mediante máscaras\n",
    "* Permite el tratamiento de datos perdidos (missing data)\n",
    "* Operaciones elemento a elemento (sin iteración al igual que en NumPy)\n",
    "* Soporta Grupos y operaciones de agrupación\n",
    "* Amplia gama de operaciones estadísticas (mean, std, corr, etc.)\n",
    "* Operaciones aritméticas y operaciones del álgebra relacional (Merging, joining, data set concatenation)"
   ]
  },
  {
   "cell_type": "code",
   "execution_count": 1,
   "metadata": {},
   "outputs": [],
   "source": [
    "import numpy as np\n",
    "import pandas as pd     # importamos el módulo pandas"
   ]
  },
  {
   "cell_type": "markdown",
   "metadata": {},
   "source": [
    "##  DataFrames"
   ]
  },
  {
   "cell_type": "markdown",
   "metadata": {},
   "source": [
    "La estructura __DataFrame__ está diseñada para manejar datos representados en forma de tabla. Esta será la estructura de datos más habitual.\n",
    "* Las filas están indexadas.\n",
    "    * Podemos verlo como filas con nombre. Por defecto, si no decimos otra cosa, dicho nombre será un número entero\n",
    "* Las columnas están etiquetadas.\n",
    "    * La etiqueta se corresponde con el nombre de la columna.\n",
    "\n",
    "Un __DataFrame__ puede verse como una tabla de SQL o una hoja de cálculo.\n"
   ]
  },
  {
   "cell_type": "markdown",
   "metadata": {},
   "source": [
    "###  Crear un DataFrame"
   ]
  },
  {
   "cell_type": "markdown",
   "metadata": {},
   "source": [
    "Hay varias formas de crear un __DataFrame__. Podemos crearlo indicando los datos que contiene y el nombre de las columnas."
   ]
  },
  {
   "cell_type": "code",
   "execution_count": 7,
   "metadata": {
    "scrolled": true
   },
   "outputs": [
    {
     "data": {
      "text/plain": [
       "[('Rafa', 968), ('Rafa', 155), ('Antonio', 77), ('Pedro', 578), ('Elena', 100)]"
      ]
     },
     "execution_count": 7,
     "metadata": {},
     "output_type": "execute_result"
    }
   ],
   "source": [
    "# crear un array de tuplas\n",
    "clientes = ['Rafa','Rafa','Antonio','Pedro','Elena']\n",
    "importes = [968, 155, 77, 578, 100]\n",
    "\n",
    "lista_datos = list(zip(clientes, importes))\n",
    "lista_datos"
   ]
  },
  {
   "cell_type": "code",
   "execution_count": 3,
   "metadata": {},
   "outputs": [],
   "source": [
    "zip?"
   ]
  },
  {
   "cell_type": "code",
   "execution_count": 8,
   "metadata": {
    "scrolled": true
   },
   "outputs": [
    {
     "data": {
      "text/html": [
       "<div>\n",
       "<style scoped>\n",
       "    .dataframe tbody tr th:only-of-type {\n",
       "        vertical-align: middle;\n",
       "    }\n",
       "\n",
       "    .dataframe tbody tr th {\n",
       "        vertical-align: top;\n",
       "    }\n",
       "\n",
       "    .dataframe thead th {\n",
       "        text-align: right;\n",
       "    }\n",
       "</style>\n",
       "<table border=\"1\" class=\"dataframe\">\n",
       "  <thead>\n",
       "    <tr style=\"text-align: right;\">\n",
       "      <th></th>\n",
       "      <th>nombres_clientes</th>\n",
       "      <th>importe_factura</th>\n",
       "    </tr>\n",
       "  </thead>\n",
       "  <tbody>\n",
       "    <tr>\n",
       "      <th>0</th>\n",
       "      <td>Rafa</td>\n",
       "      <td>968</td>\n",
       "    </tr>\n",
       "    <tr>\n",
       "      <th>1</th>\n",
       "      <td>Rafa</td>\n",
       "      <td>155</td>\n",
       "    </tr>\n",
       "    <tr>\n",
       "      <th>2</th>\n",
       "      <td>Antonio</td>\n",
       "      <td>77</td>\n",
       "    </tr>\n",
       "    <tr>\n",
       "      <th>3</th>\n",
       "      <td>Pedro</td>\n",
       "      <td>578</td>\n",
       "    </tr>\n",
       "    <tr>\n",
       "      <th>4</th>\n",
       "      <td>Elena</td>\n",
       "      <td>100</td>\n",
       "    </tr>\n",
       "  </tbody>\n",
       "</table>\n",
       "</div>"
      ],
      "text/plain": [
       "  nombres_clientes  importe_factura\n",
       "0             Rafa              968\n",
       "1             Rafa              155\n",
       "2          Antonio               77\n",
       "3            Pedro              578\n",
       "4            Elena              100"
      ]
     },
     "execution_count": 8,
     "metadata": {},
     "output_type": "execute_result"
    }
   ],
   "source": [
    "# crear un DataFrame\n",
    "tabla = pd.DataFrame( data    = lista_datos,            # lista de tuplas\n",
    "                      columns = ['nombres_clientes', 'importe_factura'])  \n",
    "tabla"
   ]
  },
  {
   "cell_type": "markdown",
   "metadata": {},
   "source": [
    "La función __describe__ permite hacer un análisis de los datos de cada una de las columnas de la tabla mostrando varias medidas estadísticas. Los datos que muestra son mínimo valor, máximo, media, percentiles, etc. de las columnas numéricas (variables cuantitativas). En caso de las columnas de otro tipo (string, tipo fecha) muestra otro tipo de valores (cantidad de valores, cantidad de valores distintos, etc)."
   ]
  },
  {
   "cell_type": "markdown",
   "metadata": {},
   "source": [
    "Como podemos ver, el intérprete de Python indexa las filas con un número entero comenzando por el cero (0,1, ...)."
   ]
  },
  {
   "cell_type": "code",
   "execution_count": 9,
   "metadata": {},
   "outputs": [
    {
     "data": {
      "text/html": [
       "<div>\n",
       "<style scoped>\n",
       "    .dataframe tbody tr th:only-of-type {\n",
       "        vertical-align: middle;\n",
       "    }\n",
       "\n",
       "    .dataframe tbody tr th {\n",
       "        vertical-align: top;\n",
       "    }\n",
       "\n",
       "    .dataframe thead th {\n",
       "        text-align: right;\n",
       "    }\n",
       "</style>\n",
       "<table border=\"1\" class=\"dataframe\">\n",
       "  <thead>\n",
       "    <tr style=\"text-align: right;\">\n",
       "      <th></th>\n",
       "      <th>importe_factura</th>\n",
       "    </tr>\n",
       "  </thead>\n",
       "  <tbody>\n",
       "    <tr>\n",
       "      <th>count</th>\n",
       "      <td>5.000000</td>\n",
       "    </tr>\n",
       "    <tr>\n",
       "      <th>mean</th>\n",
       "      <td>375.600000</td>\n",
       "    </tr>\n",
       "    <tr>\n",
       "      <th>std</th>\n",
       "      <td>389.128899</td>\n",
       "    </tr>\n",
       "    <tr>\n",
       "      <th>min</th>\n",
       "      <td>77.000000</td>\n",
       "    </tr>\n",
       "    <tr>\n",
       "      <th>25%</th>\n",
       "      <td>100.000000</td>\n",
       "    </tr>\n",
       "    <tr>\n",
       "      <th>50%</th>\n",
       "      <td>155.000000</td>\n",
       "    </tr>\n",
       "    <tr>\n",
       "      <th>75%</th>\n",
       "      <td>578.000000</td>\n",
       "    </tr>\n",
       "    <tr>\n",
       "      <th>max</th>\n",
       "      <td>968.000000</td>\n",
       "    </tr>\n",
       "  </tbody>\n",
       "</table>\n",
       "</div>"
      ],
      "text/plain": [
       "       importe_factura\n",
       "count         5.000000\n",
       "mean        375.600000\n",
       "std         389.128899\n",
       "min          77.000000\n",
       "25%         100.000000\n",
       "50%         155.000000\n",
       "75%         578.000000\n",
       "max         968.000000"
      ]
     },
     "execution_count": 9,
     "metadata": {},
     "output_type": "execute_result"
    }
   ],
   "source": [
    "# analisis de los datos de las columnas\n",
    "tabla.describe()    # por defecto, medidas para variables cuantitativas"
   ]
  },
  {
   "cell_type": "code",
   "execution_count": 11,
   "metadata": {},
   "outputs": [
    {
     "data": {
      "text/plain": [
       "(5, 2)"
      ]
     },
     "execution_count": 11,
     "metadata": {},
     "output_type": "execute_result"
    }
   ],
   "source": [
    "tabla.shape"
   ]
  },
  {
   "cell_type": "markdown",
   "metadata": {},
   "source": [
    "También es posible crear un __DataFrame__ a partir de un diccionario. \n",
    "* Las claves del diccionario serán los nombres de las columnas \n",
    "* Los valores del diccionario constituirán las filas"
   ]
  },
  {
   "cell_type": "code",
   "execution_count": 12,
   "metadata": {},
   "outputs": [
    {
     "data": {
      "text/html": [
       "<div>\n",
       "<style scoped>\n",
       "    .dataframe tbody tr th:only-of-type {\n",
       "        vertical-align: middle;\n",
       "    }\n",
       "\n",
       "    .dataframe tbody tr th {\n",
       "        vertical-align: top;\n",
       "    }\n",
       "\n",
       "    .dataframe thead th {\n",
       "        text-align: right;\n",
       "    }\n",
       "</style>\n",
       "<table border=\"1\" class=\"dataframe\">\n",
       "  <thead>\n",
       "    <tr style=\"text-align: right;\">\n",
       "      <th></th>\n",
       "      <th>clientes</th>\n",
       "      <th>importes</th>\n",
       "    </tr>\n",
       "  </thead>\n",
       "  <tbody>\n",
       "    <tr>\n",
       "      <th>1971</th>\n",
       "      <td>Rafa</td>\n",
       "      <td>968</td>\n",
       "    </tr>\n",
       "    <tr>\n",
       "      <th>1971</th>\n",
       "      <td>Rafa</td>\n",
       "      <td>155</td>\n",
       "    </tr>\n",
       "    <tr>\n",
       "      <th>1985</th>\n",
       "      <td>Antonio</td>\n",
       "      <td>77</td>\n",
       "    </tr>\n",
       "    <tr>\n",
       "      <th>1985</th>\n",
       "      <td>Pedro</td>\n",
       "      <td>578</td>\n",
       "    </tr>\n",
       "    <tr>\n",
       "      <th>1987</th>\n",
       "      <td>Elena</td>\n",
       "      <td>100</td>\n",
       "    </tr>\n",
       "  </tbody>\n",
       "</table>\n",
       "</div>"
      ],
      "text/plain": [
       "     clientes  importes\n",
       "1971     Rafa       968\n",
       "1971     Rafa       155\n",
       "1985  Antonio        77\n",
       "1985    Pedro       578\n",
       "1987    Elena       100"
      ]
     },
     "execution_count": 12,
     "metadata": {},
     "output_type": "execute_result"
    }
   ],
   "source": [
    "datos = {\"clientes\" : ['Rafa','Rafa','Antonio','Pedro','Elena'], \n",
    "         \"importes\" : [968, 155, 77, 578, 100]\n",
    "         }\n",
    "mi_tabla = pd.DataFrame(datos, index = [1971, 1971, 1985, 1985, 1987])\n",
    "mi_tabla.head()"
   ]
  },
  {
   "cell_type": "markdown",
   "metadata": {},
   "source": [
    "* Podemos crear un DataFrame indexando las filas con un tipo de dato que no sea por defecto (int).\n",
    "* Podemos crear un DataFrame cambiando la posición de las columnas, incluso con menos columnas."
   ]
  },
  {
   "cell_type": "markdown",
   "metadata": {},
   "source": [
    "En el caso de DataFrames, los principales atributos son los siguientes:\n",
    "\n",
    "* __columns__ : devuelve las etiquetas de las columnas del DataFrame\n",
    "* __index__ : devuelve los índices de las filas del DataFrame\n",
    "* __values__ : devuelve los datos del DataFrame. \n"
   ]
  },
  {
   "cell_type": "code",
   "execution_count": 16,
   "metadata": {},
   "outputs": [
    {
     "name": "stdout",
     "output_type": "stream",
     "text": [
      "<class 'pandas.core.frame.DataFrame'>\n",
      "Int64Index: 5 entries, 1971 to 1987\n",
      "Data columns (total 2 columns):\n",
      "clientes    5 non-null object\n",
      "importes    5 non-null int64\n",
      "dtypes: int64(1), object(1)\n",
      "memory usage: 120.0+ bytes\n"
     ]
    }
   ],
   "source": [
    "mi_tabla.info()"
   ]
  },
  {
   "cell_type": "code",
   "execution_count": 18,
   "metadata": {},
   "outputs": [
    {
     "data": {
      "text/plain": [
       "1971    Rafa\n",
       "1971    Rafa\n",
       "Name: clientes, dtype: object"
      ]
     },
     "execution_count": 18,
     "metadata": {},
     "output_type": "execute_result"
    }
   ],
   "source": [
    "mi_tabla.loc[1971]['clientes']"
   ]
  },
  {
   "cell_type": "code",
   "execution_count": 6,
   "metadata": {},
   "outputs": [
    {
     "data": {
      "text/plain": [
       "Index(['clientes', 'importes'], dtype='object')"
      ]
     },
     "execution_count": 6,
     "metadata": {},
     "output_type": "execute_result"
    }
   ],
   "source": [
    "mi_tabla.columns"
   ]
  },
  {
   "cell_type": "code",
   "execution_count": 14,
   "metadata": {},
   "outputs": [
    {
     "data": {
      "text/plain": [
       "Int64Index([1971, 1971, 1985, 1985, 1987], dtype='int64')"
      ]
     },
     "execution_count": 14,
     "metadata": {},
     "output_type": "execute_result"
    }
   ],
   "source": [
    "mi_tabla.index"
   ]
  },
  {
   "cell_type": "markdown",
   "metadata": {},
   "source": [
    "Los datos del DateFrame se pueden obtener usando el atributo __values__. El resultado será un array de NumPy:"
   ]
  },
  {
   "cell_type": "code",
   "execution_count": 15,
   "metadata": {},
   "outputs": [
    {
     "data": {
      "text/plain": [
       "array([['Rafa', 968],\n",
       "       ['Rafa', 155],\n",
       "       ['Antonio', 77],\n",
       "       ['Pedro', 578],\n",
       "       ['Elena', 100]], dtype=object)"
      ]
     },
     "execution_count": 15,
     "metadata": {},
     "output_type": "execute_result"
    }
   ],
   "source": [
    "mi_tabla.values"
   ]
  },
  {
   "cell_type": "code",
   "execution_count": 9,
   "metadata": {},
   "outputs": [
    {
     "data": {
      "text/plain": [
       "numpy.ndarray"
      ]
     },
     "execution_count": 9,
     "metadata": {},
     "output_type": "execute_result"
    }
   ],
   "source": [
    "type(mi_tabla.values)"
   ]
  },
  {
   "cell_type": "markdown",
   "metadata": {},
   "source": [
    "##  Cargar Datasets mediante Pandas"
   ]
  },
  {
   "cell_type": "markdown",
   "metadata": {},
   "source": [
    "Pandas es capaz de leer datos de ficheros en formatos:\n",
    "     * csv, \n",
    "     * txt,\n",
    "     * excel, \n",
    "     * json, \n",
    "     * html,\n",
    "     * xml, \n",
    "     * ..."
   ]
  },
  {
   "cell_type": "markdown",
   "metadata": {},
   "source": [
    "Las funciones  más utilizadas en pandas para leer datos en formato texto son __read_csv__ y __read_table__. Estas funciones ofrecen una gran flexibilidad a la hora de leer un fichero de texto plano.\n",
    "\n",
    "__Ejemplo 1__\n",
    "\n",
    "El dataset [HR_comma.csv  (612 KB)](./datos/HR_comma.csv) contiene ciertos registros relacionados con los empleados de una empresa de los últimos 5 años."
   ]
  },
  {
   "cell_type": "code",
   "execution_count": 20,
   "metadata": {},
   "outputs": [
    {
     "data": {
      "text/html": [
       "<div>\n",
       "<style scoped>\n",
       "    .dataframe tbody tr th:only-of-type {\n",
       "        vertical-align: middle;\n",
       "    }\n",
       "\n",
       "    .dataframe tbody tr th {\n",
       "        vertical-align: top;\n",
       "    }\n",
       "\n",
       "    .dataframe thead th {\n",
       "        text-align: right;\n",
       "    }\n",
       "</style>\n",
       "<table border=\"1\" class=\"dataframe\">\n",
       "  <thead>\n",
       "    <tr style=\"text-align: right;\">\n",
       "      <th></th>\n",
       "      <th>nivel_de_satisfaccion</th>\n",
       "      <th>ultima_encuesta</th>\n",
       "      <th>numero_de_proyectos</th>\n",
       "      <th>media_horas_mes</th>\n",
       "      <th>horas_en_la_empresa</th>\n",
       "      <th>accidente_de_trabajo</th>\n",
       "      <th>deja_la_empresa</th>\n",
       "      <th>promociona</th>\n",
       "      <th>dep</th>\n",
       "      <th>salario</th>\n",
       "    </tr>\n",
       "  </thead>\n",
       "  <tbody>\n",
       "    <tr>\n",
       "      <th>0</th>\n",
       "      <td>0.38</td>\n",
       "      <td>0.53</td>\n",
       "      <td>2.0</td>\n",
       "      <td>157</td>\n",
       "      <td>3</td>\n",
       "      <td>0</td>\n",
       "      <td>1.0</td>\n",
       "      <td>0</td>\n",
       "      <td>sales</td>\n",
       "      <td>low</td>\n",
       "    </tr>\n",
       "    <tr>\n",
       "      <th>1</th>\n",
       "      <td>0.80</td>\n",
       "      <td>0.86</td>\n",
       "      <td>5.0</td>\n",
       "      <td>262</td>\n",
       "      <td>6</td>\n",
       "      <td>0</td>\n",
       "      <td>1.0</td>\n",
       "      <td>0</td>\n",
       "      <td>sales</td>\n",
       "      <td>medium</td>\n",
       "    </tr>\n",
       "    <tr>\n",
       "      <th>2</th>\n",
       "      <td>0.11</td>\n",
       "      <td>0.88</td>\n",
       "      <td>7.0</td>\n",
       "      <td>272</td>\n",
       "      <td>4</td>\n",
       "      <td>0</td>\n",
       "      <td>1.0</td>\n",
       "      <td>0</td>\n",
       "      <td>NaN</td>\n",
       "      <td>medium</td>\n",
       "    </tr>\n",
       "    <tr>\n",
       "      <th>3</th>\n",
       "      <td>0.72</td>\n",
       "      <td>0.87</td>\n",
       "      <td>5.0</td>\n",
       "      <td>223</td>\n",
       "      <td>5</td>\n",
       "      <td>0</td>\n",
       "      <td>1.0</td>\n",
       "      <td>0</td>\n",
       "      <td>sales</td>\n",
       "      <td>low</td>\n",
       "    </tr>\n",
       "    <tr>\n",
       "      <th>4</th>\n",
       "      <td>0.37</td>\n",
       "      <td>0.52</td>\n",
       "      <td>NaN</td>\n",
       "      <td>159</td>\n",
       "      <td>3</td>\n",
       "      <td>0</td>\n",
       "      <td>1.0</td>\n",
       "      <td>0</td>\n",
       "      <td>sales</td>\n",
       "      <td>low</td>\n",
       "    </tr>\n",
       "    <tr>\n",
       "      <th>5</th>\n",
       "      <td>0.41</td>\n",
       "      <td>0.50</td>\n",
       "      <td>2.0</td>\n",
       "      <td>153</td>\n",
       "      <td>3</td>\n",
       "      <td>0</td>\n",
       "      <td>1.0</td>\n",
       "      <td>0</td>\n",
       "      <td>sales</td>\n",
       "      <td>low</td>\n",
       "    </tr>\n",
       "  </tbody>\n",
       "</table>\n",
       "</div>"
      ],
      "text/plain": [
       "   nivel_de_satisfaccion  ultima_encuesta  numero_de_proyectos  \\\n",
       "0                   0.38             0.53                  2.0   \n",
       "1                   0.80             0.86                  5.0   \n",
       "2                   0.11             0.88                  7.0   \n",
       "3                   0.72             0.87                  5.0   \n",
       "4                   0.37             0.52                  NaN   \n",
       "5                   0.41             0.50                  2.0   \n",
       "\n",
       "   media_horas_mes   horas_en_la_empresa  accidente_de_trabajo  \\\n",
       "0               157                    3                     0   \n",
       "1               262                    6                     0   \n",
       "2               272                    4                     0   \n",
       "3               223                    5                     0   \n",
       "4               159                    3                     0   \n",
       "5               153                    3                     0   \n",
       "\n",
       "   deja_la_empresa  promociona    dep salario  \n",
       "0              1.0           0  sales     low  \n",
       "1              1.0           0  sales  medium  \n",
       "2              1.0           0    NaN  medium  \n",
       "3              1.0           0  sales     low  \n",
       "4              1.0           0  sales     low  \n",
       "5              1.0           0  sales     low  "
      ]
     },
     "execution_count": 20,
     "metadata": {},
     "output_type": "execute_result"
    }
   ],
   "source": [
    "tabla = pd.read_csv('./datos/HR_comma.csv')\n",
    "tabla.head(6)    # muestro solo las 6 primeras entradas"
   ]
  },
  {
   "cell_type": "code",
   "execution_count": 21,
   "metadata": {},
   "outputs": [],
   "source": [
    "pd.read_excel?"
   ]
  },
  {
   "cell_type": "markdown",
   "metadata": {},
   "source": [
    "Podemos preguntar por la forma que tiene el DataFrame:"
   ]
  },
  {
   "cell_type": "code",
   "execution_count": 22,
   "metadata": {},
   "outputs": [
    {
     "data": {
      "text/plain": [
       "(14999, 10)"
      ]
     },
     "execution_count": 22,
     "metadata": {},
     "output_type": "execute_result"
    }
   ],
   "source": [
    "tabla.shape       # informa del número de filas y columnas"
   ]
  },
  {
   "cell_type": "markdown",
   "metadata": {},
   "source": [
    "La función __info__ nos proporciona más información. Nombre de las variables, su tipo, el número de valores no nulos, etc."
   ]
  },
  {
   "cell_type": "code",
   "execution_count": 23,
   "metadata": {},
   "outputs": [
    {
     "name": "stdout",
     "output_type": "stream",
     "text": [
      "<class 'pandas.core.frame.DataFrame'>\n",
      "RangeIndex: 14999 entries, 0 to 14998\n",
      "Data columns (total 10 columns):\n",
      "nivel_de_satisfaccion    14999 non-null float64\n",
      "ultima_encuesta          14999 non-null float64\n",
      "numero_de_proyectos      14998 non-null float64\n",
      "media_horas_mes          14999 non-null int64\n",
      "horas_en_la_empresa      14999 non-null int64\n",
      "accidente_de_trabajo     14999 non-null int64\n",
      "deja_la_empresa          14998 non-null float64\n",
      "promociona               14999 non-null int64\n",
      "dep                      14998 non-null object\n",
      "salario                  14997 non-null object\n",
      "dtypes: float64(4), int64(4), object(2)\n",
      "memory usage: 1.1+ MB\n"
     ]
    }
   ],
   "source": [
    "tabla.info()"
   ]
  },
  {
   "cell_type": "code",
   "execution_count": 24,
   "metadata": {},
   "outputs": [
    {
     "data": {
      "text/html": [
       "<div>\n",
       "<style scoped>\n",
       "    .dataframe tbody tr th:only-of-type {\n",
       "        vertical-align: middle;\n",
       "    }\n",
       "\n",
       "    .dataframe tbody tr th {\n",
       "        vertical-align: top;\n",
       "    }\n",
       "\n",
       "    .dataframe thead th {\n",
       "        text-align: right;\n",
       "    }\n",
       "</style>\n",
       "<table border=\"1\" class=\"dataframe\">\n",
       "  <thead>\n",
       "    <tr style=\"text-align: right;\">\n",
       "      <th></th>\n",
       "      <th>nivel_de_satisfaccion</th>\n",
       "      <th>ultima_encuesta</th>\n",
       "      <th>numero_de_proyectos</th>\n",
       "      <th>media_horas_mes</th>\n",
       "      <th>horas_en_la_empresa</th>\n",
       "      <th>accidente_de_trabajo</th>\n",
       "      <th>deja_la_empresa</th>\n",
       "      <th>promociona</th>\n",
       "    </tr>\n",
       "  </thead>\n",
       "  <tbody>\n",
       "    <tr>\n",
       "      <th>count</th>\n",
       "      <td>14999.000000</td>\n",
       "      <td>14999.000000</td>\n",
       "      <td>14998.000000</td>\n",
       "      <td>14999.000000</td>\n",
       "      <td>14999.000000</td>\n",
       "      <td>14999.000000</td>\n",
       "      <td>14998.000000</td>\n",
       "      <td>14999.000000</td>\n",
       "    </tr>\n",
       "    <tr>\n",
       "      <th>mean</th>\n",
       "      <td>0.612834</td>\n",
       "      <td>0.716102</td>\n",
       "      <td>3.803174</td>\n",
       "      <td>201.050337</td>\n",
       "      <td>3.498233</td>\n",
       "      <td>0.144610</td>\n",
       "      <td>0.238032</td>\n",
       "      <td>0.021268</td>\n",
       "    </tr>\n",
       "    <tr>\n",
       "      <th>std</th>\n",
       "      <td>0.248631</td>\n",
       "      <td>0.171169</td>\n",
       "      <td>1.232546</td>\n",
       "      <td>49.943099</td>\n",
       "      <td>1.460136</td>\n",
       "      <td>0.351719</td>\n",
       "      <td>0.425893</td>\n",
       "      <td>0.144281</td>\n",
       "    </tr>\n",
       "    <tr>\n",
       "      <th>min</th>\n",
       "      <td>0.090000</td>\n",
       "      <td>0.360000</td>\n",
       "      <td>2.000000</td>\n",
       "      <td>96.000000</td>\n",
       "      <td>2.000000</td>\n",
       "      <td>0.000000</td>\n",
       "      <td>0.000000</td>\n",
       "      <td>0.000000</td>\n",
       "    </tr>\n",
       "    <tr>\n",
       "      <th>25%</th>\n",
       "      <td>0.440000</td>\n",
       "      <td>0.560000</td>\n",
       "      <td>3.000000</td>\n",
       "      <td>156.000000</td>\n",
       "      <td>3.000000</td>\n",
       "      <td>0.000000</td>\n",
       "      <td>0.000000</td>\n",
       "      <td>0.000000</td>\n",
       "    </tr>\n",
       "    <tr>\n",
       "      <th>50%</th>\n",
       "      <td>0.640000</td>\n",
       "      <td>0.720000</td>\n",
       "      <td>4.000000</td>\n",
       "      <td>200.000000</td>\n",
       "      <td>3.000000</td>\n",
       "      <td>0.000000</td>\n",
       "      <td>0.000000</td>\n",
       "      <td>0.000000</td>\n",
       "    </tr>\n",
       "    <tr>\n",
       "      <th>75%</th>\n",
       "      <td>0.820000</td>\n",
       "      <td>0.870000</td>\n",
       "      <td>5.000000</td>\n",
       "      <td>245.000000</td>\n",
       "      <td>4.000000</td>\n",
       "      <td>0.000000</td>\n",
       "      <td>0.000000</td>\n",
       "      <td>0.000000</td>\n",
       "    </tr>\n",
       "    <tr>\n",
       "      <th>max</th>\n",
       "      <td>1.000000</td>\n",
       "      <td>1.000000</td>\n",
       "      <td>7.000000</td>\n",
       "      <td>310.000000</td>\n",
       "      <td>10.000000</td>\n",
       "      <td>1.000000</td>\n",
       "      <td>1.000000</td>\n",
       "      <td>1.000000</td>\n",
       "    </tr>\n",
       "  </tbody>\n",
       "</table>\n",
       "</div>"
      ],
      "text/plain": [
       "       nivel_de_satisfaccion  ultima_encuesta  numero_de_proyectos  \\\n",
       "count           14999.000000     14999.000000         14998.000000   \n",
       "mean                0.612834         0.716102             3.803174   \n",
       "std                 0.248631         0.171169             1.232546   \n",
       "min                 0.090000         0.360000             2.000000   \n",
       "25%                 0.440000         0.560000             3.000000   \n",
       "50%                 0.640000         0.720000             4.000000   \n",
       "75%                 0.820000         0.870000             5.000000   \n",
       "max                 1.000000         1.000000             7.000000   \n",
       "\n",
       "       media_horas_mes   horas_en_la_empresa  accidente_de_trabajo  \\\n",
       "count      14999.000000         14999.000000          14999.000000   \n",
       "mean         201.050337             3.498233              0.144610   \n",
       "std           49.943099             1.460136              0.351719   \n",
       "min           96.000000             2.000000              0.000000   \n",
       "25%          156.000000             3.000000              0.000000   \n",
       "50%          200.000000             3.000000              0.000000   \n",
       "75%          245.000000             4.000000              0.000000   \n",
       "max          310.000000            10.000000              1.000000   \n",
       "\n",
       "       deja_la_empresa    promociona  \n",
       "count     14998.000000  14999.000000  \n",
       "mean          0.238032      0.021268  \n",
       "std           0.425893      0.144281  \n",
       "min           0.000000      0.000000  \n",
       "25%           0.000000      0.000000  \n",
       "50%           0.000000      0.000000  \n",
       "75%           0.000000      0.000000  \n",
       "max           1.000000      1.000000  "
      ]
     },
     "execution_count": 24,
     "metadata": {},
     "output_type": "execute_result"
    }
   ],
   "source": [
    "tabla.describe()"
   ]
  },
  {
   "cell_type": "markdown",
   "metadata": {},
   "source": [
    "__Ejemplo 2:__\n",
    "\n",
    "Si no nos interesan todas las columnas, podemos indicar mediante una lista las columnas en las que estamos interesados."
   ]
  },
  {
   "cell_type": "code",
   "execution_count": 15,
   "metadata": {},
   "outputs": [
    {
     "data": {
      "text/html": [
       "<div>\n",
       "<style scoped>\n",
       "    .dataframe tbody tr th:only-of-type {\n",
       "        vertical-align: middle;\n",
       "    }\n",
       "\n",
       "    .dataframe tbody tr th {\n",
       "        vertical-align: top;\n",
       "    }\n",
       "\n",
       "    .dataframe thead th {\n",
       "        text-align: right;\n",
       "    }\n",
       "</style>\n",
       "<table border=\"1\" class=\"dataframe\">\n",
       "  <thead>\n",
       "    <tr style=\"text-align: right;\">\n",
       "      <th></th>\n",
       "      <th>nivel_de_satisfaccion</th>\n",
       "      <th>numero_de_proyectos</th>\n",
       "      <th>dep</th>\n",
       "      <th>salario</th>\n",
       "    </tr>\n",
       "  </thead>\n",
       "  <tbody>\n",
       "    <tr>\n",
       "      <th>0</th>\n",
       "      <td>0.38</td>\n",
       "      <td>2.0</td>\n",
       "      <td>sales</td>\n",
       "      <td>low</td>\n",
       "    </tr>\n",
       "    <tr>\n",
       "      <th>1</th>\n",
       "      <td>0.80</td>\n",
       "      <td>5.0</td>\n",
       "      <td>sales</td>\n",
       "      <td>medium</td>\n",
       "    </tr>\n",
       "    <tr>\n",
       "      <th>2</th>\n",
       "      <td>0.11</td>\n",
       "      <td>7.0</td>\n",
       "      <td>NaN</td>\n",
       "      <td>medium</td>\n",
       "    </tr>\n",
       "    <tr>\n",
       "      <th>3</th>\n",
       "      <td>0.72</td>\n",
       "      <td>5.0</td>\n",
       "      <td>sales</td>\n",
       "      <td>low</td>\n",
       "    </tr>\n",
       "    <tr>\n",
       "      <th>4</th>\n",
       "      <td>0.37</td>\n",
       "      <td>NaN</td>\n",
       "      <td>sales</td>\n",
       "      <td>low</td>\n",
       "    </tr>\n",
       "    <tr>\n",
       "      <th>5</th>\n",
       "      <td>0.41</td>\n",
       "      <td>2.0</td>\n",
       "      <td>sales</td>\n",
       "      <td>low</td>\n",
       "    </tr>\n",
       "  </tbody>\n",
       "</table>\n",
       "</div>"
      ],
      "text/plain": [
       "   nivel_de_satisfaccion  numero_de_proyectos    dep salario\n",
       "0                   0.38                  2.0  sales     low\n",
       "1                   0.80                  5.0  sales  medium\n",
       "2                   0.11                  7.0    NaN  medium\n",
       "3                   0.72                  5.0  sales     low\n",
       "4                   0.37                  NaN  sales     low\n",
       "5                   0.41                  2.0  sales     low"
      ]
     },
     "execution_count": 15,
     "metadata": {},
     "output_type": "execute_result"
    }
   ],
   "source": [
    "columnas_carga = ['nivel_de_satisfaccion', 'numero_de_proyectos', 'dep', 'salario' ]\n",
    "tabla = pd.read_csv('./datos/HR_comma.csv',\n",
    "                     usecols = columnas_carga )\n",
    "\n",
    "tabla.head(6)    # muestro solo las 6 primeras entradas"
   ]
  },
  {
   "cell_type": "markdown",
   "metadata": {},
   "source": [
    "__Ejemplo 3:__\n",
    "\n",
    "También nos puede interesar que alguna de las columnas sea el índice de la tabla. Por ejemplo, la columna de departamento."
   ]
  },
  {
   "cell_type": "code",
   "execution_count": 16,
   "metadata": {},
   "outputs": [
    {
     "data": {
      "text/html": [
       "<div>\n",
       "<style scoped>\n",
       "    .dataframe tbody tr th:only-of-type {\n",
       "        vertical-align: middle;\n",
       "    }\n",
       "\n",
       "    .dataframe tbody tr th {\n",
       "        vertical-align: top;\n",
       "    }\n",
       "\n",
       "    .dataframe thead th {\n",
       "        text-align: right;\n",
       "    }\n",
       "</style>\n",
       "<table border=\"1\" class=\"dataframe\">\n",
       "  <thead>\n",
       "    <tr style=\"text-align: right;\">\n",
       "      <th></th>\n",
       "      <th>nivel_de_satisfaccion</th>\n",
       "      <th>numero_de_proyectos</th>\n",
       "      <th>salario</th>\n",
       "    </tr>\n",
       "    <tr>\n",
       "      <th>dep</th>\n",
       "      <th></th>\n",
       "      <th></th>\n",
       "      <th></th>\n",
       "    </tr>\n",
       "  </thead>\n",
       "  <tbody>\n",
       "    <tr>\n",
       "      <th>technical</th>\n",
       "      <td>0.40</td>\n",
       "      <td>2.0</td>\n",
       "      <td>medium</td>\n",
       "    </tr>\n",
       "    <tr>\n",
       "      <th>technical</th>\n",
       "      <td>0.91</td>\n",
       "      <td>5.0</td>\n",
       "      <td>medium</td>\n",
       "    </tr>\n",
       "    <tr>\n",
       "      <th>technical</th>\n",
       "      <td>0.85</td>\n",
       "      <td>4.0</td>\n",
       "      <td>low</td>\n",
       "    </tr>\n",
       "    <tr>\n",
       "      <th>technical</th>\n",
       "      <td>0.90</td>\n",
       "      <td>5.0</td>\n",
       "      <td>low</td>\n",
       "    </tr>\n",
       "    <tr>\n",
       "      <th>technical</th>\n",
       "      <td>0.46</td>\n",
       "      <td>2.0</td>\n",
       "      <td>low</td>\n",
       "    </tr>\n",
       "    <tr>\n",
       "      <th>technical</th>\n",
       "      <td>0.43</td>\n",
       "      <td>2.0</td>\n",
       "      <td>low</td>\n",
       "    </tr>\n",
       "    <tr>\n",
       "      <th>support</th>\n",
       "      <td>0.89</td>\n",
       "      <td>5.0</td>\n",
       "      <td>low</td>\n",
       "    </tr>\n",
       "    <tr>\n",
       "      <th>support</th>\n",
       "      <td>0.09</td>\n",
       "      <td>6.0</td>\n",
       "      <td>low</td>\n",
       "    </tr>\n",
       "    <tr>\n",
       "      <th>support</th>\n",
       "      <td>0.40</td>\n",
       "      <td>2.0</td>\n",
       "      <td>low</td>\n",
       "    </tr>\n",
       "    <tr>\n",
       "      <th>support</th>\n",
       "      <td>0.76</td>\n",
       "      <td>6.0</td>\n",
       "      <td>low</td>\n",
       "    </tr>\n",
       "    <tr>\n",
       "      <th>support</th>\n",
       "      <td>0.40</td>\n",
       "      <td>2.0</td>\n",
       "      <td>low</td>\n",
       "    </tr>\n",
       "    <tr>\n",
       "      <th>support</th>\n",
       "      <td>0.37</td>\n",
       "      <td>2.0</td>\n",
       "      <td>low</td>\n",
       "    </tr>\n",
       "    <tr>\n",
       "      <th>support</th>\n",
       "      <td>0.37</td>\n",
       "      <td>2.0</td>\n",
       "      <td>low</td>\n",
       "    </tr>\n",
       "    <tr>\n",
       "      <th>support</th>\n",
       "      <td>0.11</td>\n",
       "      <td>6.0</td>\n",
       "      <td>low</td>\n",
       "    </tr>\n",
       "    <tr>\n",
       "      <th>support</th>\n",
       "      <td>0.37</td>\n",
       "      <td>2.0</td>\n",
       "      <td>low</td>\n",
       "    </tr>\n",
       "  </tbody>\n",
       "</table>\n",
       "</div>"
      ],
      "text/plain": [
       "           nivel_de_satisfaccion  numero_de_proyectos salario\n",
       "dep                                                          \n",
       "technical                   0.40                  2.0  medium\n",
       "technical                   0.91                  5.0  medium\n",
       "technical                   0.85                  4.0     low\n",
       "technical                   0.90                  5.0     low\n",
       "technical                   0.46                  2.0     low\n",
       "technical                   0.43                  2.0     low\n",
       "support                     0.89                  5.0     low\n",
       "support                     0.09                  6.0     low\n",
       "support                     0.40                  2.0     low\n",
       "support                     0.76                  6.0     low\n",
       "support                     0.40                  2.0     low\n",
       "support                     0.37                  2.0     low\n",
       "support                     0.37                  2.0     low\n",
       "support                     0.11                  6.0     low\n",
       "support                     0.37                  2.0     low"
      ]
     },
     "execution_count": 16,
     "metadata": {},
     "output_type": "execute_result"
    }
   ],
   "source": [
    "columnas_carga = ['nivel_de_satisfaccion', 'numero_de_proyectos', 'dep', 'salario' ]\n",
    "tabla = pd.read_csv('./datos/HR_comma.csv',\n",
    "                     usecols = columnas_carga, \n",
    "                     index_col = [2])\n",
    "\n",
    "tabla.tail(15)    # muestro solo las 15 últimas filas"
   ]
  },
  {
   "cell_type": "markdown",
   "metadata": {},
   "source": [
    "__Ejemplo 4:__"
   ]
  },
  {
   "cell_type": "markdown",
   "metadata": {},
   "source": [
    "Movilens Dataset recoge datos películas, valoraciones y etiquetas. La información se distribuye en 3 tablas.\n",
    "\n",
    "- ratings.dat (252 MB)) - El fichero recoge 10.000.054  valoraciones  de los usuarios\n",
    "- [tags.dat](./datos/ml-10M/movies.dat) (3.5 MB) - Contiene 95.580 etiquetas \n",
    "- movies.dat (510 KB) - Datos de 10.681 películas\n",
    "\n",
    "Toda esta información ha sido recogida por el sistema de recomendación online MovieLens y se utiliza con mucha frecuencia en los sistemas de recomendación que aplican algoritmos de aprendizaje.\n",
    "\n",
    "La url para descargar los datos:     http://grouplens.org/datasets/movielens/"
   ]
  },
  {
   "cell_type": "code",
   "execution_count": 17,
   "metadata": {},
   "outputs": [],
   "source": [
    "ruta_ratings = './datos/ml-10M/ratings.dat'\n",
    "ruta_tags = './datos/ml-10M/tags.dat'"
   ]
  },
  {
   "cell_type": "markdown",
   "metadata": {},
   "source": [
    "Tenemos la posibilidad de cargar solo algunas filas, para ver el aspecto de los datos."
   ]
  },
  {
   "cell_type": "code",
   "execution_count": 18,
   "metadata": {},
   "outputs": [],
   "source": [
    "# Parseo de fechas \n",
    "from datetime import datetime\n",
    "dateparse = lambda x: datetime.fromtimestamp(float(x))\n",
    "\n",
    "df_ratings = pd.read_csv(ruta_ratings, sep = '::', header = None,\n",
    "                         names = ['UserID', 'MovieID', 'Starts', 'Date'],\n",
    "                         engine ='python',\n",
    "                  #      nrows = 3000,\n",
    "                         parse_dates=[3], date_parser=dateparse) "
   ]
  },
  {
   "cell_type": "code",
   "execution_count": 19,
   "metadata": {},
   "outputs": [
    {
     "name": "stdout",
     "output_type": "stream",
     "text": [
      "<class 'pandas.core.frame.DataFrame'>\n",
      "RangeIndex: 10000054 entries, 0 to 10000053\n",
      "Data columns (total 4 columns):\n",
      "UserID     int64\n",
      "MovieID    int64\n",
      "Starts     float64\n",
      "Date       datetime64[ns]\n",
      "dtypes: datetime64[ns](1), float64(1), int64(2)\n",
      "memory usage: 305.2 MB\n"
     ]
    }
   ],
   "source": [
    "df_ratings.info()"
   ]
  },
  {
   "cell_type": "code",
   "execution_count": 20,
   "metadata": {},
   "outputs": [
    {
     "data": {
      "text/html": [
       "<div>\n",
       "<style scoped>\n",
       "    .dataframe tbody tr th:only-of-type {\n",
       "        vertical-align: middle;\n",
       "    }\n",
       "\n",
       "    .dataframe tbody tr th {\n",
       "        vertical-align: top;\n",
       "    }\n",
       "\n",
       "    .dataframe thead th {\n",
       "        text-align: right;\n",
       "    }\n",
       "</style>\n",
       "<table border=\"1\" class=\"dataframe\">\n",
       "  <thead>\n",
       "    <tr style=\"text-align: right;\">\n",
       "      <th></th>\n",
       "      <th>UserID</th>\n",
       "      <th>MovieID</th>\n",
       "      <th>Starts</th>\n",
       "      <th>Date</th>\n",
       "    </tr>\n",
       "  </thead>\n",
       "  <tbody>\n",
       "    <tr>\n",
       "      <th>0</th>\n",
       "      <td>1</td>\n",
       "      <td>122</td>\n",
       "      <td>5.0</td>\n",
       "      <td>1996-08-02 13:24:06</td>\n",
       "    </tr>\n",
       "    <tr>\n",
       "      <th>1</th>\n",
       "      <td>1</td>\n",
       "      <td>185</td>\n",
       "      <td>5.0</td>\n",
       "      <td>1996-08-02 12:58:45</td>\n",
       "    </tr>\n",
       "    <tr>\n",
       "      <th>2</th>\n",
       "      <td>1</td>\n",
       "      <td>231</td>\n",
       "      <td>5.0</td>\n",
       "      <td>1996-08-02 12:56:32</td>\n",
       "    </tr>\n",
       "    <tr>\n",
       "      <th>3</th>\n",
       "      <td>1</td>\n",
       "      <td>292</td>\n",
       "      <td>5.0</td>\n",
       "      <td>1996-08-02 12:57:01</td>\n",
       "    </tr>\n",
       "    <tr>\n",
       "      <th>4</th>\n",
       "      <td>1</td>\n",
       "      <td>316</td>\n",
       "      <td>5.0</td>\n",
       "      <td>1996-08-02 12:56:32</td>\n",
       "    </tr>\n",
       "  </tbody>\n",
       "</table>\n",
       "</div>"
      ],
      "text/plain": [
       "   UserID  MovieID  Starts                Date\n",
       "0       1      122     5.0 1996-08-02 13:24:06\n",
       "1       1      185     5.0 1996-08-02 12:58:45\n",
       "2       1      231     5.0 1996-08-02 12:56:32\n",
       "3       1      292     5.0 1996-08-02 12:57:01\n",
       "4       1      316     5.0 1996-08-02 12:56:32"
      ]
     },
     "execution_count": 20,
     "metadata": {},
     "output_type": "execute_result"
    }
   ],
   "source": [
    "df_ratings.head()"
   ]
  },
  {
   "cell_type": "markdown",
   "metadata": {},
   "source": [
    "__Ejemplo:__"
   ]
  },
  {
   "cell_type": "code",
   "execution_count": 21,
   "metadata": {},
   "outputs": [],
   "source": [
    "# Parseo de fechas \n",
    "from datetime import datetime\n",
    "dateparse = lambda x: datetime.fromtimestamp(float(x))\n",
    "\n",
    "df_ratings_2 = pd.read_csv(ruta_ratings, sep = '::', header = None,\n",
    "                         names = ['id_usuario', 'id_peli', 'puntuacion', 'Fecha'],\n",
    "                         engine ='python',\n",
    "                         nrows = 3000,\n",
    "                         index_col =['id_usuario', 'id_peli'],\n",
    "                         parse_dates=[3], date_parser=dateparse) "
   ]
  },
  {
   "cell_type": "code",
   "execution_count": 22,
   "metadata": {},
   "outputs": [
    {
     "data": {
      "text/html": [
       "<div>\n",
       "<style scoped>\n",
       "    .dataframe tbody tr th:only-of-type {\n",
       "        vertical-align: middle;\n",
       "    }\n",
       "\n",
       "    .dataframe tbody tr th {\n",
       "        vertical-align: top;\n",
       "    }\n",
       "\n",
       "    .dataframe thead th {\n",
       "        text-align: right;\n",
       "    }\n",
       "</style>\n",
       "<table border=\"1\" class=\"dataframe\">\n",
       "  <thead>\n",
       "    <tr style=\"text-align: right;\">\n",
       "      <th></th>\n",
       "      <th></th>\n",
       "      <th>puntuacion</th>\n",
       "      <th>Fecha</th>\n",
       "    </tr>\n",
       "    <tr>\n",
       "      <th>id_usuario</th>\n",
       "      <th>id_peli</th>\n",
       "      <th></th>\n",
       "      <th></th>\n",
       "    </tr>\n",
       "  </thead>\n",
       "  <tbody>\n",
       "    <tr>\n",
       "      <th rowspan=\"22\" valign=\"top\">1</th>\n",
       "      <th>122</th>\n",
       "      <td>5.0</td>\n",
       "      <td>1996-08-02 13:24:06</td>\n",
       "    </tr>\n",
       "    <tr>\n",
       "      <th>185</th>\n",
       "      <td>5.0</td>\n",
       "      <td>1996-08-02 12:58:45</td>\n",
       "    </tr>\n",
       "    <tr>\n",
       "      <th>231</th>\n",
       "      <td>5.0</td>\n",
       "      <td>1996-08-02 12:56:32</td>\n",
       "    </tr>\n",
       "    <tr>\n",
       "      <th>292</th>\n",
       "      <td>5.0</td>\n",
       "      <td>1996-08-02 12:57:01</td>\n",
       "    </tr>\n",
       "    <tr>\n",
       "      <th>316</th>\n",
       "      <td>5.0</td>\n",
       "      <td>1996-08-02 12:56:32</td>\n",
       "    </tr>\n",
       "    <tr>\n",
       "      <th>329</th>\n",
       "      <td>5.0</td>\n",
       "      <td>1996-08-02 12:56:32</td>\n",
       "    </tr>\n",
       "    <tr>\n",
       "      <th>355</th>\n",
       "      <td>5.0</td>\n",
       "      <td>1996-08-02 13:14:34</td>\n",
       "    </tr>\n",
       "    <tr>\n",
       "      <th>356</th>\n",
       "      <td>5.0</td>\n",
       "      <td>1996-08-02 13:00:53</td>\n",
       "    </tr>\n",
       "    <tr>\n",
       "      <th>362</th>\n",
       "      <td>5.0</td>\n",
       "      <td>1996-08-02 13:21:25</td>\n",
       "    </tr>\n",
       "    <tr>\n",
       "      <th>364</th>\n",
       "      <td>5.0</td>\n",
       "      <td>1996-08-02 13:01:47</td>\n",
       "    </tr>\n",
       "    <tr>\n",
       "      <th>370</th>\n",
       "      <td>5.0</td>\n",
       "      <td>1996-08-02 13:16:36</td>\n",
       "    </tr>\n",
       "    <tr>\n",
       "      <th>377</th>\n",
       "      <td>5.0</td>\n",
       "      <td>1996-08-02 13:03:54</td>\n",
       "    </tr>\n",
       "    <tr>\n",
       "      <th>420</th>\n",
       "      <td>5.0</td>\n",
       "      <td>1996-08-02 13:03:54</td>\n",
       "    </tr>\n",
       "    <tr>\n",
       "      <th>466</th>\n",
       "      <td>5.0</td>\n",
       "      <td>1996-08-02 13:17:59</td>\n",
       "    </tr>\n",
       "    <tr>\n",
       "      <th>480</th>\n",
       "      <td>5.0</td>\n",
       "      <td>1996-08-02 13:00:53</td>\n",
       "    </tr>\n",
       "    <tr>\n",
       "      <th>520</th>\n",
       "      <td>5.0</td>\n",
       "      <td>1996-08-02 13:17:59</td>\n",
       "    </tr>\n",
       "    <tr>\n",
       "      <th>539</th>\n",
       "      <td>5.0</td>\n",
       "      <td>1996-08-02 13:07:48</td>\n",
       "    </tr>\n",
       "    <tr>\n",
       "      <th>586</th>\n",
       "      <td>5.0</td>\n",
       "      <td>1996-08-02 13:07:48</td>\n",
       "    </tr>\n",
       "    <tr>\n",
       "      <th>588</th>\n",
       "      <td>5.0</td>\n",
       "      <td>1996-08-02 12:55:39</td>\n",
       "    </tr>\n",
       "    <tr>\n",
       "      <th>589</th>\n",
       "      <td>5.0</td>\n",
       "      <td>1996-08-02 13:02:58</td>\n",
       "    </tr>\n",
       "    <tr>\n",
       "      <th>594</th>\n",
       "      <td>5.0</td>\n",
       "      <td>1996-08-02 13:17:59</td>\n",
       "    </tr>\n",
       "    <tr>\n",
       "      <th>616</th>\n",
       "      <td>5.0</td>\n",
       "      <td>1996-08-02 13:22:21</td>\n",
       "    </tr>\n",
       "    <tr>\n",
       "      <th rowspan=\"8\" valign=\"top\">2</th>\n",
       "      <th>110</th>\n",
       "      <td>5.0</td>\n",
       "      <td>1997-07-07 05:22:57</td>\n",
       "    </tr>\n",
       "    <tr>\n",
       "      <th>151</th>\n",
       "      <td>3.0</td>\n",
       "      <td>1997-07-07 05:34:10</td>\n",
       "    </tr>\n",
       "    <tr>\n",
       "      <th>260</th>\n",
       "      <td>5.0</td>\n",
       "      <td>1997-07-07 05:02:42</td>\n",
       "    </tr>\n",
       "    <tr>\n",
       "      <th>376</th>\n",
       "      <td>3.0</td>\n",
       "      <td>1997-07-07 05:25:20</td>\n",
       "    </tr>\n",
       "    <tr>\n",
       "      <th>539</th>\n",
       "      <td>3.0</td>\n",
       "      <td>1997-07-07 05:31:02</td>\n",
       "    </tr>\n",
       "    <tr>\n",
       "      <th>590</th>\n",
       "      <td>5.0</td>\n",
       "      <td>1997-07-07 05:20:08</td>\n",
       "    </tr>\n",
       "    <tr>\n",
       "      <th>648</th>\n",
       "      <td>2.0</td>\n",
       "      <td>1997-07-07 05:04:59</td>\n",
       "    </tr>\n",
       "    <tr>\n",
       "      <th>719</th>\n",
       "      <td>3.0</td>\n",
       "      <td>1997-07-07 05:29:51</td>\n",
       "    </tr>\n",
       "    <tr>\n",
       "      <th>...</th>\n",
       "      <th>...</th>\n",
       "      <td>...</td>\n",
       "      <td>...</td>\n",
       "    </tr>\n",
       "    <tr>\n",
       "      <th rowspan=\"30\" valign=\"top\">34</th>\n",
       "      <th>474</th>\n",
       "      <td>4.0</td>\n",
       "      <td>2001-02-18 16:38:43</td>\n",
       "    </tr>\n",
       "    <tr>\n",
       "      <th>479</th>\n",
       "      <td>3.0</td>\n",
       "      <td>2001-02-10 18:29:36</td>\n",
       "    </tr>\n",
       "    <tr>\n",
       "      <th>480</th>\n",
       "      <td>4.0</td>\n",
       "      <td>2001-02-10 18:06:33</td>\n",
       "    </tr>\n",
       "    <tr>\n",
       "      <th>481</th>\n",
       "      <td>2.0</td>\n",
       "      <td>2001-02-10 18:09:35</td>\n",
       "    </tr>\n",
       "    <tr>\n",
       "      <th>485</th>\n",
       "      <td>2.0</td>\n",
       "      <td>2001-02-18 17:15:52</td>\n",
       "    </tr>\n",
       "    <tr>\n",
       "      <th>491</th>\n",
       "      <td>4.0</td>\n",
       "      <td>2001-02-10 18:09:11</td>\n",
       "    </tr>\n",
       "    <tr>\n",
       "      <th>493</th>\n",
       "      <td>2.0</td>\n",
       "      <td>2001-02-07 16:55:28</td>\n",
       "    </tr>\n",
       "    <tr>\n",
       "      <th>500</th>\n",
       "      <td>3.0</td>\n",
       "      <td>2001-02-10 18:11:41</td>\n",
       "    </tr>\n",
       "    <tr>\n",
       "      <th>502</th>\n",
       "      <td>2.0</td>\n",
       "      <td>2001-02-18 17:16:21</td>\n",
       "    </tr>\n",
       "    <tr>\n",
       "      <th>504</th>\n",
       "      <td>2.0</td>\n",
       "      <td>2001-02-18 17:08:42</td>\n",
       "    </tr>\n",
       "    <tr>\n",
       "      <th>505</th>\n",
       "      <td>2.0</td>\n",
       "      <td>2001-02-18 17:15:52</td>\n",
       "    </tr>\n",
       "    <tr>\n",
       "      <th>508</th>\n",
       "      <td>3.0</td>\n",
       "      <td>2001-02-10 18:03:57</td>\n",
       "    </tr>\n",
       "    <tr>\n",
       "      <th>509</th>\n",
       "      <td>2.0</td>\n",
       "      <td>2001-02-18 16:56:38</td>\n",
       "    </tr>\n",
       "    <tr>\n",
       "      <th>511</th>\n",
       "      <td>3.0</td>\n",
       "      <td>2001-02-18 16:51:18</td>\n",
       "    </tr>\n",
       "    <tr>\n",
       "      <th>516</th>\n",
       "      <td>3.0</td>\n",
       "      <td>2001-02-18 16:59:19</td>\n",
       "    </tr>\n",
       "    <tr>\n",
       "      <th>517</th>\n",
       "      <td>2.0</td>\n",
       "      <td>2001-02-18 17:02:13</td>\n",
       "    </tr>\n",
       "    <tr>\n",
       "      <th>520</th>\n",
       "      <td>1.0</td>\n",
       "      <td>2001-02-18 17:01:38</td>\n",
       "    </tr>\n",
       "    <tr>\n",
       "      <th>524</th>\n",
       "      <td>3.0</td>\n",
       "      <td>2001-02-10 18:05:53</td>\n",
       "    </tr>\n",
       "    <tr>\n",
       "      <th>527</th>\n",
       "      <td>5.0</td>\n",
       "      <td>2001-02-07 16:43:01</td>\n",
       "    </tr>\n",
       "    <tr>\n",
       "      <th>528</th>\n",
       "      <td>1.0</td>\n",
       "      <td>2001-02-18 17:10:55</td>\n",
       "    </tr>\n",
       "    <tr>\n",
       "      <th>529</th>\n",
       "      <td>3.0</td>\n",
       "      <td>2001-02-18 16:39:21</td>\n",
       "    </tr>\n",
       "    <tr>\n",
       "      <th>531</th>\n",
       "      <td>3.0</td>\n",
       "      <td>2001-02-18 16:35:32</td>\n",
       "    </tr>\n",
       "    <tr>\n",
       "      <th>539</th>\n",
       "      <td>3.0</td>\n",
       "      <td>2001-02-10 18:12:24</td>\n",
       "    </tr>\n",
       "    <tr>\n",
       "      <th>540</th>\n",
       "      <td>3.0</td>\n",
       "      <td>2001-02-18 17:19:57</td>\n",
       "    </tr>\n",
       "    <tr>\n",
       "      <th>541</th>\n",
       "      <td>3.0</td>\n",
       "      <td>2001-02-07 16:39:55</td>\n",
       "    </tr>\n",
       "    <tr>\n",
       "      <th>542</th>\n",
       "      <td>4.0</td>\n",
       "      <td>2001-02-10 18:32:25</td>\n",
       "    </tr>\n",
       "    <tr>\n",
       "      <th>546</th>\n",
       "      <td>1.0</td>\n",
       "      <td>2001-02-18 17:21:41</td>\n",
       "    </tr>\n",
       "    <tr>\n",
       "      <th>547</th>\n",
       "      <td>3.0</td>\n",
       "      <td>2001-02-18 17:08:02</td>\n",
       "    </tr>\n",
       "    <tr>\n",
       "      <th>551</th>\n",
       "      <td>3.0</td>\n",
       "      <td>2001-02-07 16:57:16</td>\n",
       "    </tr>\n",
       "    <tr>\n",
       "      <th>552</th>\n",
       "      <td>4.0</td>\n",
       "      <td>2001-02-10 18:14:39</td>\n",
       "    </tr>\n",
       "  </tbody>\n",
       "</table>\n",
       "<p>3000 rows × 2 columns</p>\n",
       "</div>"
      ],
      "text/plain": [
       "                    puntuacion               Fecha\n",
       "id_usuario id_peli                                \n",
       "1          122             5.0 1996-08-02 13:24:06\n",
       "           185             5.0 1996-08-02 12:58:45\n",
       "           231             5.0 1996-08-02 12:56:32\n",
       "           292             5.0 1996-08-02 12:57:01\n",
       "           316             5.0 1996-08-02 12:56:32\n",
       "           329             5.0 1996-08-02 12:56:32\n",
       "           355             5.0 1996-08-02 13:14:34\n",
       "           356             5.0 1996-08-02 13:00:53\n",
       "           362             5.0 1996-08-02 13:21:25\n",
       "           364             5.0 1996-08-02 13:01:47\n",
       "           370             5.0 1996-08-02 13:16:36\n",
       "           377             5.0 1996-08-02 13:03:54\n",
       "           420             5.0 1996-08-02 13:03:54\n",
       "           466             5.0 1996-08-02 13:17:59\n",
       "           480             5.0 1996-08-02 13:00:53\n",
       "           520             5.0 1996-08-02 13:17:59\n",
       "           539             5.0 1996-08-02 13:07:48\n",
       "           586             5.0 1996-08-02 13:07:48\n",
       "           588             5.0 1996-08-02 12:55:39\n",
       "           589             5.0 1996-08-02 13:02:58\n",
       "           594             5.0 1996-08-02 13:17:59\n",
       "           616             5.0 1996-08-02 13:22:21\n",
       "2          110             5.0 1997-07-07 05:22:57\n",
       "           151             3.0 1997-07-07 05:34:10\n",
       "           260             5.0 1997-07-07 05:02:42\n",
       "           376             3.0 1997-07-07 05:25:20\n",
       "           539             3.0 1997-07-07 05:31:02\n",
       "           590             5.0 1997-07-07 05:20:08\n",
       "           648             2.0 1997-07-07 05:04:59\n",
       "           719             3.0 1997-07-07 05:29:51\n",
       "...                        ...                 ...\n",
       "34         474             4.0 2001-02-18 16:38:43\n",
       "           479             3.0 2001-02-10 18:29:36\n",
       "           480             4.0 2001-02-10 18:06:33\n",
       "           481             2.0 2001-02-10 18:09:35\n",
       "           485             2.0 2001-02-18 17:15:52\n",
       "           491             4.0 2001-02-10 18:09:11\n",
       "           493             2.0 2001-02-07 16:55:28\n",
       "           500             3.0 2001-02-10 18:11:41\n",
       "           502             2.0 2001-02-18 17:16:21\n",
       "           504             2.0 2001-02-18 17:08:42\n",
       "           505             2.0 2001-02-18 17:15:52\n",
       "           508             3.0 2001-02-10 18:03:57\n",
       "           509             2.0 2001-02-18 16:56:38\n",
       "           511             3.0 2001-02-18 16:51:18\n",
       "           516             3.0 2001-02-18 16:59:19\n",
       "           517             2.0 2001-02-18 17:02:13\n",
       "           520             1.0 2001-02-18 17:01:38\n",
       "           524             3.0 2001-02-10 18:05:53\n",
       "           527             5.0 2001-02-07 16:43:01\n",
       "           528             1.0 2001-02-18 17:10:55\n",
       "           529             3.0 2001-02-18 16:39:21\n",
       "           531             3.0 2001-02-18 16:35:32\n",
       "           539             3.0 2001-02-10 18:12:24\n",
       "           540             3.0 2001-02-18 17:19:57\n",
       "           541             3.0 2001-02-07 16:39:55\n",
       "           542             4.0 2001-02-10 18:32:25\n",
       "           546             1.0 2001-02-18 17:21:41\n",
       "           547             3.0 2001-02-18 17:08:02\n",
       "           551             3.0 2001-02-07 16:57:16\n",
       "           552             4.0 2001-02-10 18:14:39\n",
       "\n",
       "[3000 rows x 2 columns]"
      ]
     },
     "execution_count": 22,
     "metadata": {},
     "output_type": "execute_result"
    }
   ],
   "source": [
    "df_ratings_2"
   ]
  },
  {
   "cell_type": "markdown",
   "metadata": {},
   "source": [
    "##  Exportando DataFrames"
   ]
  },
  {
   "cell_type": "markdown",
   "metadata": {},
   "source": [
    "Para exportar un DataFrame a un fichero con extensión __csv__  utilizamos la función [__to_csv__](http://pandas.pydata.org/pandas-docs/stable/generated/pandas.DataFrame.to_csv.html). Para exportar un DataFrame a un fichero con extensión __xlsx__ utilizamos la función __to_excel__:\n",
    "* Ambas funciones admiten una gran cantidad de parámetros. Opcionalmente podemos generar un fichero csv/xlsx con cabeceras o sin ellas, con índices o sin ellos."
   ]
  },
  {
   "cell_type": "code",
   "execution_count": 23,
   "metadata": {},
   "outputs": [],
   "source": [
    "df_ratings_2.to_excel('./datos/resultado.xlsx',\n",
    "                      header = True, index = False)"
   ]
  },
  {
   "cell_type": "markdown",
   "metadata": {},
   "source": [
    "##  Operaciones del álgebra relacional. Función Merge"
   ]
  },
  {
   "cell_type": "markdown",
   "metadata": {},
   "source": [
    "Es la operación __join__ al estilo del álgebra relacional. Permite combinar filas  de dos o más tablas (DataFrames) basándose en una o varias claves. \n",
    "Hay tres tipos de __merge__: \n",
    "    * interno (inner), \n",
    "    * externo (outer), \n",
    "    * cruzado(left, right)\n"
   ]
  },
  {
   "cell_type": "code",
   "execution_count": 24,
   "metadata": {},
   "outputs": [],
   "source": [
    "d1 ={'País' : ['Estonia','Estonia', 'Ireland', 'Spain'],\n",
    "     'Cantidad' : [  8.4,  6.7 ,    227,  58.9 ] , \n",
    "     'Producto' : ['A', 'B', 'A', 'Z'] }\n",
    "     \n",
    "d2 ={'Producto' : ['A', 'B', 'C'],\n",
    "     'Descripción' : [  'Leche',  'Cereales',   'Aceite' ] }\n",
    "    "
   ]
  },
  {
   "cell_type": "code",
   "execution_count": 25,
   "metadata": {},
   "outputs": [
    {
     "data": {
      "text/html": [
       "<div>\n",
       "<style scoped>\n",
       "    .dataframe tbody tr th:only-of-type {\n",
       "        vertical-align: middle;\n",
       "    }\n",
       "\n",
       "    .dataframe tbody tr th {\n",
       "        vertical-align: top;\n",
       "    }\n",
       "\n",
       "    .dataframe thead th {\n",
       "        text-align: right;\n",
       "    }\n",
       "</style>\n",
       "<table border=\"1\" class=\"dataframe\">\n",
       "  <thead>\n",
       "    <tr style=\"text-align: right;\">\n",
       "      <th></th>\n",
       "      <th>País</th>\n",
       "      <th>Cantidad</th>\n",
       "      <th>Producto</th>\n",
       "    </tr>\n",
       "  </thead>\n",
       "  <tbody>\n",
       "    <tr>\n",
       "      <th>0</th>\n",
       "      <td>Estonia</td>\n",
       "      <td>8.4</td>\n",
       "      <td>A</td>\n",
       "    </tr>\n",
       "    <tr>\n",
       "      <th>1</th>\n",
       "      <td>Estonia</td>\n",
       "      <td>6.7</td>\n",
       "      <td>B</td>\n",
       "    </tr>\n",
       "    <tr>\n",
       "      <th>2</th>\n",
       "      <td>Ireland</td>\n",
       "      <td>227.0</td>\n",
       "      <td>A</td>\n",
       "    </tr>\n",
       "    <tr>\n",
       "      <th>3</th>\n",
       "      <td>Spain</td>\n",
       "      <td>58.9</td>\n",
       "      <td>Z</td>\n",
       "    </tr>\n",
       "  </tbody>\n",
       "</table>\n",
       "</div>"
      ],
      "text/plain": [
       "      País  Cantidad Producto\n",
       "0  Estonia       8.4        A\n",
       "1  Estonia       6.7        B\n",
       "2  Ireland     227.0        A\n",
       "3    Spain      58.9        Z"
      ]
     },
     "execution_count": 25,
     "metadata": {},
     "output_type": "execute_result"
    }
   ],
   "source": [
    "t1 = pd.DataFrame( d1 )\n",
    "t1"
   ]
  },
  {
   "cell_type": "code",
   "execution_count": 26,
   "metadata": {},
   "outputs": [
    {
     "data": {
      "text/html": [
       "<div>\n",
       "<style scoped>\n",
       "    .dataframe tbody tr th:only-of-type {\n",
       "        vertical-align: middle;\n",
       "    }\n",
       "\n",
       "    .dataframe tbody tr th {\n",
       "        vertical-align: top;\n",
       "    }\n",
       "\n",
       "    .dataframe thead th {\n",
       "        text-align: right;\n",
       "    }\n",
       "</style>\n",
       "<table border=\"1\" class=\"dataframe\">\n",
       "  <thead>\n",
       "    <tr style=\"text-align: right;\">\n",
       "      <th></th>\n",
       "      <th>Producto</th>\n",
       "      <th>Descripción</th>\n",
       "    </tr>\n",
       "  </thead>\n",
       "  <tbody>\n",
       "    <tr>\n",
       "      <th>0</th>\n",
       "      <td>A</td>\n",
       "      <td>Leche</td>\n",
       "    </tr>\n",
       "    <tr>\n",
       "      <th>1</th>\n",
       "      <td>B</td>\n",
       "      <td>Cereales</td>\n",
       "    </tr>\n",
       "    <tr>\n",
       "      <th>2</th>\n",
       "      <td>C</td>\n",
       "      <td>Aceite</td>\n",
       "    </tr>\n",
       "  </tbody>\n",
       "</table>\n",
       "</div>"
      ],
      "text/plain": [
       "  Producto Descripción\n",
       "0        A       Leche\n",
       "1        B    Cereales\n",
       "2        C      Aceite"
      ]
     },
     "execution_count": 26,
     "metadata": {},
     "output_type": "execute_result"
    }
   ],
   "source": [
    "t2 = pd.DataFrame( d2 )\n",
    "t2"
   ]
  },
  {
   "cell_type": "markdown",
   "metadata": {},
   "source": [
    "La función `pd.merge` permite combinar los dataframes `t1` y `t2`  usando como campos de combinación la columna `Producto`. Veamos ejemplos con distintas opciones:"
   ]
  },
  {
   "cell_type": "code",
   "execution_count": 27,
   "metadata": {},
   "outputs": [
    {
     "data": {
      "text/html": [
       "<div>\n",
       "<style scoped>\n",
       "    .dataframe tbody tr th:only-of-type {\n",
       "        vertical-align: middle;\n",
       "    }\n",
       "\n",
       "    .dataframe tbody tr th {\n",
       "        vertical-align: top;\n",
       "    }\n",
       "\n",
       "    .dataframe thead th {\n",
       "        text-align: right;\n",
       "    }\n",
       "</style>\n",
       "<table border=\"1\" class=\"dataframe\">\n",
       "  <thead>\n",
       "    <tr style=\"text-align: right;\">\n",
       "      <th></th>\n",
       "      <th>País</th>\n",
       "      <th>Cantidad</th>\n",
       "      <th>Producto</th>\n",
       "      <th>Descripción</th>\n",
       "    </tr>\n",
       "  </thead>\n",
       "  <tbody>\n",
       "    <tr>\n",
       "      <th>0</th>\n",
       "      <td>Estonia</td>\n",
       "      <td>8.4</td>\n",
       "      <td>A</td>\n",
       "      <td>Leche</td>\n",
       "    </tr>\n",
       "    <tr>\n",
       "      <th>1</th>\n",
       "      <td>Ireland</td>\n",
       "      <td>227.0</td>\n",
       "      <td>A</td>\n",
       "      <td>Leche</td>\n",
       "    </tr>\n",
       "    <tr>\n",
       "      <th>2</th>\n",
       "      <td>Estonia</td>\n",
       "      <td>6.7</td>\n",
       "      <td>B</td>\n",
       "      <td>Cereales</td>\n",
       "    </tr>\n",
       "  </tbody>\n",
       "</table>\n",
       "</div>"
      ],
      "text/plain": [
       "      País  Cantidad Producto Descripción\n",
       "0  Estonia       8.4        A       Leche\n",
       "1  Ireland     227.0        A       Leche\n",
       "2  Estonia       6.7        B    Cereales"
      ]
     },
     "execution_count": 27,
     "metadata": {},
     "output_type": "execute_result"
    }
   ],
   "source": [
    "result = pd.merge(t1, t2, on = ['Producto'])               \n",
    "result"
   ]
  },
  {
   "cell_type": "markdown",
   "metadata": {},
   "source": [
    "La opción `left` combina dos dataframes devolviendo aquellas filas que tienen valores idénticos en las columnas que se comparan para unir ambas tablas, y todas las filas del dataframe de la izquierda, tengan o no correspondencia con las filas del dataframe de la derecha. Las que no tengan correspondencia se rellenan con `NaN`."
   ]
  },
  {
   "cell_type": "code",
   "execution_count": 28,
   "metadata": {},
   "outputs": [
    {
     "data": {
      "text/html": [
       "<div>\n",
       "<style scoped>\n",
       "    .dataframe tbody tr th:only-of-type {\n",
       "        vertical-align: middle;\n",
       "    }\n",
       "\n",
       "    .dataframe tbody tr th {\n",
       "        vertical-align: top;\n",
       "    }\n",
       "\n",
       "    .dataframe thead th {\n",
       "        text-align: right;\n",
       "    }\n",
       "</style>\n",
       "<table border=\"1\" class=\"dataframe\">\n",
       "  <thead>\n",
       "    <tr style=\"text-align: right;\">\n",
       "      <th></th>\n",
       "      <th>País</th>\n",
       "      <th>Cantidad</th>\n",
       "      <th>Producto</th>\n",
       "      <th>Descripción</th>\n",
       "    </tr>\n",
       "  </thead>\n",
       "  <tbody>\n",
       "    <tr>\n",
       "      <th>0</th>\n",
       "      <td>Estonia</td>\n",
       "      <td>8.4</td>\n",
       "      <td>A</td>\n",
       "      <td>Leche</td>\n",
       "    </tr>\n",
       "    <tr>\n",
       "      <th>1</th>\n",
       "      <td>Estonia</td>\n",
       "      <td>6.7</td>\n",
       "      <td>B</td>\n",
       "      <td>Cereales</td>\n",
       "    </tr>\n",
       "    <tr>\n",
       "      <th>2</th>\n",
       "      <td>Ireland</td>\n",
       "      <td>227.0</td>\n",
       "      <td>A</td>\n",
       "      <td>Leche</td>\n",
       "    </tr>\n",
       "    <tr>\n",
       "      <th>3</th>\n",
       "      <td>Spain</td>\n",
       "      <td>58.9</td>\n",
       "      <td>Z</td>\n",
       "      <td>NaN</td>\n",
       "    </tr>\n",
       "  </tbody>\n",
       "</table>\n",
       "</div>"
      ],
      "text/plain": [
       "      País  Cantidad Producto Descripción\n",
       "0  Estonia       8.4        A       Leche\n",
       "1  Estonia       6.7        B    Cereales\n",
       "2  Ireland     227.0        A       Leche\n",
       "3    Spain      58.9        Z         NaN"
      ]
     },
     "execution_count": 28,
     "metadata": {},
     "output_type": "execute_result"
    }
   ],
   "source": [
    "result = pd.merge(t1, t2, on=['Producto'], how='left')\n",
    "result"
   ]
  },
  {
   "cell_type": "markdown",
   "metadata": {},
   "source": [
    "La opción `outer` combina los dos dataframes devolviendo la unión de las filas devueltas por la opción `left` y `right`:"
   ]
  },
  {
   "cell_type": "code",
   "execution_count": 29,
   "metadata": {},
   "outputs": [
    {
     "ename": "AttributeError",
     "evalue": "'DataFrame' object has no attribute 'pais'",
     "output_type": "error",
     "traceback": [
      "\u001b[1;31m---------------------------------------------------------------------------\u001b[0m",
      "\u001b[1;31mAttributeError\u001b[0m                            Traceback (most recent call last)",
      "\u001b[1;32m<ipython-input-29-c56164a2899e>\u001b[0m in \u001b[0;36m<module>\u001b[1;34m()\u001b[0m\n\u001b[1;32m----> 1\u001b[1;33m \u001b[0mresult\u001b[0m \u001b[1;33m=\u001b[0m \u001b[0mpd\u001b[0m\u001b[1;33m.\u001b[0m\u001b[0mmerge\u001b[0m\u001b[1;33m(\u001b[0m\u001b[0mt1\u001b[0m\u001b[1;33m,\u001b[0m \u001b[0mt2\u001b[0m\u001b[1;33m,\u001b[0m  \u001b[0mhow\u001b[0m\u001b[1;33m=\u001b[0m\u001b[1;34m'outer'\u001b[0m\u001b[1;33m,\u001b[0m \u001b[0mon\u001b[0m\u001b[1;33m=\u001b[0m\u001b[1;33m[\u001b[0m\u001b[1;34m'Producto'\u001b[0m\u001b[1;33m]\u001b[0m\u001b[1;33m)\u001b[0m\u001b[1;33m.\u001b[0m\u001b[0mpais\u001b[0m  \u001b[1;33m==\u001b[0m \u001b[1;34m'es'\u001b[0m\u001b[1;33m\u001b[0m\u001b[0m\n\u001b[0m\u001b[0;32m      2\u001b[0m \u001b[0mresult\u001b[0m\u001b[1;33m\u001b[0m\u001b[0m\n",
      "\u001b[1;32m~\\Anaconda3\\lib\\site-packages\\pandas\\core\\generic.py\u001b[0m in \u001b[0;36m__getattr__\u001b[1;34m(self, name)\u001b[0m\n\u001b[0;32m   4374\u001b[0m             \u001b[1;32mif\u001b[0m \u001b[0mself\u001b[0m\u001b[1;33m.\u001b[0m\u001b[0m_info_axis\u001b[0m\u001b[1;33m.\u001b[0m\u001b[0m_can_hold_identifiers_and_holds_name\u001b[0m\u001b[1;33m(\u001b[0m\u001b[0mname\u001b[0m\u001b[1;33m)\u001b[0m\u001b[1;33m:\u001b[0m\u001b[1;33m\u001b[0m\u001b[0m\n\u001b[0;32m   4375\u001b[0m                 \u001b[1;32mreturn\u001b[0m \u001b[0mself\u001b[0m\u001b[1;33m[\u001b[0m\u001b[0mname\u001b[0m\u001b[1;33m]\u001b[0m\u001b[1;33m\u001b[0m\u001b[0m\n\u001b[1;32m-> 4376\u001b[1;33m             \u001b[1;32mreturn\u001b[0m \u001b[0mobject\u001b[0m\u001b[1;33m.\u001b[0m\u001b[0m__getattribute__\u001b[0m\u001b[1;33m(\u001b[0m\u001b[0mself\u001b[0m\u001b[1;33m,\u001b[0m \u001b[0mname\u001b[0m\u001b[1;33m)\u001b[0m\u001b[1;33m\u001b[0m\u001b[0m\n\u001b[0m\u001b[0;32m   4377\u001b[0m \u001b[1;33m\u001b[0m\u001b[0m\n\u001b[0;32m   4378\u001b[0m     \u001b[1;32mdef\u001b[0m \u001b[0m__setattr__\u001b[0m\u001b[1;33m(\u001b[0m\u001b[0mself\u001b[0m\u001b[1;33m,\u001b[0m \u001b[0mname\u001b[0m\u001b[1;33m,\u001b[0m \u001b[0mvalue\u001b[0m\u001b[1;33m)\u001b[0m\u001b[1;33m:\u001b[0m\u001b[1;33m\u001b[0m\u001b[0m\n",
      "\u001b[1;31mAttributeError\u001b[0m: 'DataFrame' object has no attribute 'pais'"
     ]
    }
   ],
   "source": [
    "result = pd.merge(t1, t2,  how='outer', on=['Producto']).pais  == 'es'\n",
    "result"
   ]
  },
  {
   "cell_type": "code",
   "execution_count": null,
   "metadata": {},
   "outputs": [],
   "source": [
    "pd.merge?"
   ]
  },
  {
   "cell_type": "markdown",
   "metadata": {},
   "source": [
    "## Acceso a los datos (filas y columnas)"
   ]
  },
  {
   "cell_type": "markdown",
   "metadata": {},
   "source": [
    "Para acceder a las columnas, podemos usar la notación '.' (como si fuera un atributo) o con la notación empleada en los diccionarios, utilizando como clave el nombre de la columna."
   ]
  },
  {
   "cell_type": "code",
   "execution_count": null,
   "metadata": {},
   "outputs": [],
   "source": [
    "tabla = pd.read_csv('./datos/HR_comma.csv')\n",
    "tabla.head()"
   ]
  },
  {
   "cell_type": "code",
   "execution_count": null,
   "metadata": {},
   "outputs": [],
   "source": [
    "tabla.salario"
   ]
  },
  {
   "cell_type": "code",
   "execution_count": null,
   "metadata": {},
   "outputs": [],
   "source": [
    "tabla[ 'salario' ]    #  Acceso utilizando notación corchetes "
   ]
  },
  {
   "cell_type": "markdown",
   "metadata": {},
   "source": [
    "En Pandas se utiliza la función __loc__ para realizar un accceso a los datos más eficiente que las notaciones anteriores.\n",
    "\n",
    "```\n",
    "loc[filas, columnas]\n",
    "\n",
    "```"
   ]
  },
  {
   "cell_type": "code",
   "execution_count": null,
   "metadata": {},
   "outputs": [],
   "source": [
    "resultado = tabla.loc[:, ['nivel_de_satisfaccion','salario']]  #acceso más eficiente\n",
    "resultado.head()"
   ]
  },
  {
   "cell_type": "markdown",
   "metadata": {},
   "source": [
    "Si queremos saber el número de empleados para cada uno de los valores de salario, podemos obtenerlo mediante la función __value_counts()__."
   ]
  },
  {
   "cell_type": "code",
   "execution_count": null,
   "metadata": {},
   "outputs": [],
   "source": [
    "tabla.salario.value_counts()"
   ]
  },
  {
   "cell_type": "code",
   "execution_count": null,
   "metadata": {},
   "outputs": [],
   "source": [
    "# Visualizar diagrama de barras\n",
    "import matplotlib as mpl\n",
    "import matplotlib.pyplot as plt\n",
    "\n",
    "%matplotlib inline\n",
    "serie = tabla.salario.value_counts()"
   ]
  },
  {
   "cell_type": "code",
   "execution_count": null,
   "metadata": {},
   "outputs": [],
   "source": [
    "serie.plot(kind='bar');"
   ]
  },
  {
   "cell_type": "markdown",
   "metadata": {},
   "source": [
    "##  Actualización de datos de un DataFrame"
   ]
  },
  {
   "cell_type": "markdown",
   "metadata": {},
   "source": [
    "###  Modificando valores del DataFrame"
   ]
  },
  {
   "cell_type": "markdown",
   "metadata": {},
   "source": [
    "Para actualizar los datos de una columna podemos utilizar un valor concreto:"
   ]
  },
  {
   "cell_type": "code",
   "execution_count": null,
   "metadata": {},
   "outputs": [],
   "source": [
    "# Si no existe la variable `sexo` la crea\n",
    "# Si exite la modifica\n",
    "tabla['sexo'] = 'FFFFnnnnn'\n",
    "tabla.head()"
   ]
  },
  {
   "cell_type": "markdown",
   "metadata": {},
   "source": [
    "Modifica una columna existente:"
   ]
  },
  {
   "cell_type": "code",
   "execution_count": null,
   "metadata": {},
   "outputs": [],
   "source": [
    "tabla['numero_de_proyectos'] = tabla['numero_de_proyectos'] + 1\n",
    "tabla.head()"
   ]
  },
  {
   "cell_type": "markdown",
   "metadata": {},
   "source": [
    "> Las operaciones sobre DataFrames son vectorizadas, al igual que ocurría con las operaciones sobre los objetos ndarray de NumPy."
   ]
  },
  {
   "cell_type": "markdown",
   "metadata": {},
   "source": [
    "__Ejemplo__:\n",
    "\n",
    "Podemos crear una nueva columna en el DataFrame, cuyos valores se obtengan a partir del `salario`."
   ]
  },
  {
   "cell_type": "code",
   "execution_count": null,
   "metadata": {},
   "outputs": [],
   "source": [
    "def salario2euros(val):\n",
    "    if val == 'medium':\n",
    "        return 200\n",
    "    elif val == 'low':\n",
    "        return 100\n",
    "    elif val == 'high':\n",
    "        return 300\n",
    "    else:\n",
    "        pass\n",
    "\n",
    "tabla['salario €'] = tabla.salario.apply(salario2euros)\n",
    "tabla.head()"
   ]
  },
  {
   "cell_type": "markdown",
   "metadata": {},
   "source": [
    "###  Borrando columnas en un DataFrame (__pop__ y __drop__)"
   ]
  },
  {
   "cell_type": "markdown",
   "metadata": {},
   "source": [
    "La función __pop__ borra la columna especificada del DataFrame y guarda la columna borrada en un objeto de tipo __Serie__.\n",
    "- Modifica el DataFrame\n",
    "\n",
    "La función __drop__ permite borrar tanto filas como columnas.\n",
    "- No modifica el DataFrame. Devuelve el resultado en un nuevo DataFrame.\n",
    "- No permite acceder a los elementos borrados."
   ]
  },
  {
   "cell_type": "code",
   "execution_count": null,
   "metadata": {},
   "outputs": [],
   "source": [
    "columna_sexo = tabla.pop('sexo')\n",
    "columna_sexo"
   ]
  },
  {
   "cell_type": "code",
   "execution_count": null,
   "metadata": {},
   "outputs": [],
   "source": [
    "tabla.head()     # ha desaparecido la columna 'sexo'"
   ]
  },
  {
   "cell_type": "markdown",
   "metadata": {},
   "source": [
    "También es posible utilizar la función __drop__ para eliminar tanto filas como columnas."
   ]
  },
  {
   "cell_type": "code",
   "execution_count": null,
   "metadata": {},
   "outputs": [],
   "source": [
    "# borramos las filas correspondientes a las etiquetas 0 y 3\n",
    "nuevo_df = tabla.drop([0,3])\n",
    "nuevo_df.head()"
   ]
  },
  {
   "cell_type": "code",
   "execution_count": null,
   "metadata": {},
   "outputs": [],
   "source": [
    "tabla.head()     # ojo, después de borrar, la tabla original no se modofica"
   ]
  },
  {
   "cell_type": "markdown",
   "metadata": {},
   "source": [
    "Para borrar columnas, es necesario indicar en la llamada a la función que queremos actura sobre el eje 1 ( axis = 1 ),  que se corresponde con las columnas."
   ]
  },
  {
   "cell_type": "code",
   "execution_count": null,
   "metadata": {},
   "outputs": [],
   "source": [
    "# borramos dos columnas\n",
    "otro = tabla.drop(['nivel_de_satisfaccion', 'ultima_encuesta'], axis = 1)\n",
    "otro.head()"
   ]
  },
  {
   "cell_type": "markdown",
   "metadata": {},
   "source": [
    "###  Insertar datos en un DataFrame"
   ]
  },
  {
   "cell_type": "markdown",
   "metadata": {},
   "source": [
    "Podemos utilizar la función __insert__ para insertar la columna `sexo` que hemos eliminado anteriormente en una determinada posición."
   ]
  },
  {
   "cell_type": "code",
   "execution_count": null,
   "metadata": {},
   "outputs": [],
   "source": [
    "# inserta la columna en la segunda posición \n",
    "tabla.insert(2, 'Sexo_empleado', columna_sexo)\n",
    "tabla.head()"
   ]
  },
  {
   "cell_type": "markdown",
   "metadata": {},
   "source": [
    "##  Tratamiento de valores nulos"
   ]
  },
  {
   "cell_type": "markdown",
   "metadata": {},
   "source": [
    "El término valores perdidos (missing values) se refiere a los valores que no aparecen o que se encuentran marcados con un valor por defecto.\n",
    "En pandas estos valores vienen marcados como NaN.\n",
    "\n",
    "Una de las opciones para filtrar estos valores es la función __dropna__."
   ]
  },
  {
   "cell_type": "code",
   "execution_count": null,
   "metadata": {},
   "outputs": [],
   "source": [
    "tabla.head()"
   ]
  },
  {
   "cell_type": "code",
   "execution_count": null,
   "metadata": {},
   "outputs": [],
   "source": [
    "tabla_sinNAN = tabla.dropna()\n",
    "tabla_sinNAN.head()"
   ]
  },
  {
   "cell_type": "code",
   "execution_count": null,
   "metadata": {},
   "outputs": [],
   "source": [
    "tabla.head()"
   ]
  },
  {
   "cell_type": "markdown",
   "metadata": {},
   "source": [
    "En los casos en los no deseamos eliminar filas con valores NaN, podemos sustituir los valores NaN por un valor por defecto. Para ello usamos la función __fillna()__.\n",
    "* Si queremos un valor por defecto para cada variable, usaremos un diccionario como parámetro de __fillna__."
   ]
  },
  {
   "cell_type": "code",
   "execution_count": null,
   "metadata": {},
   "outputs": [],
   "source": [
    "# Podemos ver las variables que tienen nulos\n",
    "tabla.info()"
   ]
  },
  {
   "cell_type": "code",
   "execution_count": null,
   "metadata": {},
   "outputs": [],
   "source": [
    "valores = {'numero_de_proyectos': 0, 'dep' : 'otros'}\n",
    "tabla.fillna(valores).head()"
   ]
  },
  {
   "cell_type": "code",
   "execution_count": null,
   "metadata": {},
   "outputs": [],
   "source": [
    "tabla.head()     # cuidado: fillna no modifica la tabla"
   ]
  },
  {
   "cell_type": "markdown",
   "metadata": {},
   "source": [
    "##  Consultas"
   ]
  },
  {
   "cell_type": "markdown",
   "metadata": {},
   "source": [
    "La sección de partes de un DataFrame se realiza mediante máscaras. Veamos algunos ejemplos:"
   ]
  },
  {
   "cell_type": "markdown",
   "metadata": {},
   "source": [
    "* Selección de tuplas con nivel de satisfacción superior a 0.5"
   ]
  },
  {
   "cell_type": "code",
   "execution_count": null,
   "metadata": {},
   "outputs": [],
   "source": [
    "mascara = tabla.nivel_de_satisfaccion  > 0.5\n",
    "mascara.head()"
   ]
  },
  {
   "cell_type": "code",
   "execution_count": null,
   "metadata": {},
   "outputs": [],
   "source": [
    "# selección de tuplas que cumplen la máscara\n",
    "resultado = tabla[mascara]\n",
    "resultado.head()"
   ]
  },
  {
   "cell_type": "code",
   "execution_count": null,
   "metadata": {},
   "outputs": [],
   "source": [
    "len(resultado)   # número de tuplas devueltas"
   ]
  },
  {
   "cell_type": "markdown",
   "metadata": {},
   "source": [
    "* Selección de tuplas con nivel de satisfacción superior a 0.5 del departamento `hr`"
   ]
  },
  {
   "cell_type": "code",
   "execution_count": null,
   "metadata": {},
   "outputs": [],
   "source": [
    "mascara_sat = tabla.nivel_de_satisfaccion  > 0.5\n",
    "mascara_hr  = tabla.dep == 'hr'\n",
    "resultadoC2 = tabla[mascara_sat & mascara_hr]\n",
    "resultadoC2.head()"
   ]
  },
  {
   "cell_type": "code",
   "execution_count": null,
   "metadata": {},
   "outputs": [],
   "source": [
    "len(resultadoC2)"
   ]
  },
  {
   "cell_type": "markdown",
   "metadata": {},
   "source": [
    "* Selección de tuplas con nivel de satisfacción superior a 0.5 del departamento `hr`. Mostrar los resultado ordenados por nivel de satisfacción"
   ]
  },
  {
   "cell_type": "code",
   "execution_count": null,
   "metadata": {},
   "outputs": [],
   "source": [
    "resultadoC2.sort_values(by = 'nivel_de_satisfaccion')"
   ]
  },
  {
   "cell_type": "markdown",
   "metadata": {},
   "source": [
    "##  Grupos y funciones de agrupación"
   ]
  },
  {
   "cell_type": "markdown",
   "metadata": {},
   "source": [
    "Después de cargar los datos y procesarlos (limpiar y preparar) una de las tareas más habituales es agrupar los datos en base a alguna variable cualitativa, para posteriormente realizar alguna operación sobre cada uno de los grupos obtenidos.\n",
    "\n",
    "Pandas proporciona la operación __groupby__ para este fin. La operación __groupby__ se define como la unión de tres procesos (dividir-aplicar-combinar los resultados)."
   ]
  },
  {
   "cell_type": "markdown",
   "metadata": {},
   "source": [
    "__Ejemplo:__\n",
    "\n",
    "El fichero [tips.csv](./datos/tips.csv) recoge los datos referentes a las reservas de un restaurante. Muestra los datos del precio de la factura, la propina, sexo de la persona que hizo la reserva, el día, el número de comensales, etc."
   ]
  },
  {
   "cell_type": "code",
   "execution_count": null,
   "metadata": {},
   "outputs": [],
   "source": [
    "tips = pd.read_csv('./datos/tips.csv',\n",
    "                   skiprows = 1,\n",
    "                   names = ['Importe_Factura', 'Propina', 'Sexo', 'Fumador', 'Dia',\n",
    "                              'Tipo', 'Comensales']\n",
    "                          )\n",
    "tips.head()"
   ]
  },
  {
   "cell_type": "markdown",
   "metadata": {},
   "source": [
    "Deseamos conocer la media del importe de factura dependiendo del sexo y de si el cliente en fumador o no."
   ]
  },
  {
   "cell_type": "code",
   "execution_count": null,
   "metadata": {},
   "outputs": [],
   "source": [
    "tips.groupby(['Sexo','Fumador']).Propina.agg?"
   ]
  },
  {
   "cell_type": "code",
   "execution_count": null,
   "metadata": {},
   "outputs": [],
   "source": [
    "tips.groupby(['Sexo','Fumador']).Propina.agg"
   ]
  },
  {
   "cell_type": "code",
   "execution_count": null,
   "metadata": {},
   "outputs": [],
   "source": [
    "tips_g = tips.groupby(['Sexo','Fumador']).Propina.agg([np.max, np.min])\n",
    "tips_g"
   ]
  },
  {
   "cell_type": "markdown",
   "metadata": {},
   "source": [
    "__Ejemplo:__\n",
    "    \n",
    "Agrupando con funciones:    "
   ]
  },
  {
   "cell_type": "code",
   "execution_count": null,
   "metadata": {},
   "outputs": [],
   "source": [
    "df_tags = pd.read_csv(ruta_tags, sep = '::', header = None,\n",
    "                        engine ='python',\n",
    "                        names = ['UserID','MovieID','Tag','Timestamp'], \n",
    "                        parse_dates=[3], date_parser=dateparse, \n",
    "                        index_col = [3])\n",
    "df_tags.head()"
   ]
  },
  {
   "cell_type": "code",
   "execution_count": null,
   "metadata": {},
   "outputs": [],
   "source": [
    "from datetime import datetime, date, time\n",
    "\n",
    "def calcular_dia(f):\n",
    "    return f.weekday()    # devuelve el día de la semana\n",
    "\n",
    "# calculamos el número de tags realizados en cada día de la semana\n",
    "# agrupar + aplicar + combinar\n",
    "df_tags.groupby(calcular_dia).UserID.count() "
   ]
  },
  {
   "cell_type": "markdown",
   "metadata": {},
   "source": [
    "##  Primeros estadísticos"
   ]
  },
  {
   "cell_type": "markdown",
   "metadata": {},
   "source": [
    "La librería __Pandas__ ofrece una colección de operaciones estadísticas basadas en las mismas operaciones  de la librería Numpy. En el caso de pandas, todas ellas ignoran los valores NaN.\n",
    "\n"
   ]
  },
  {
   "cell_type": "code",
   "execution_count": null,
   "metadata": {},
   "outputs": [],
   "source": [
    "tabla.mean()"
   ]
  },
  {
   "cell_type": "code",
   "execution_count": null,
   "metadata": {},
   "outputs": [],
   "source": [
    "# número de empleados que han dejado la empresa\n",
    "tabla['deja_la_empresa'].sum()"
   ]
  },
  {
   "cell_type": "code",
   "execution_count": null,
   "metadata": {},
   "outputs": [],
   "source": [
    "tabla['nivel_de_satisfaccion'].std()"
   ]
  },
  {
   "cell_type": "markdown",
   "metadata": {},
   "source": [
    "### Matriz de correlación"
   ]
  },
  {
   "cell_type": "markdown",
   "metadata": {},
   "source": [
    "Cargamos de nuevo la tabla:"
   ]
  },
  {
   "cell_type": "code",
   "execution_count": null,
   "metadata": {},
   "outputs": [],
   "source": [
    "tabla = pd.read_csv('./datos/HR_comma.csv')\n",
    "tabla.head(3)    # muestro solo las 3 primeras entradas"
   ]
  },
  {
   "cell_type": "code",
   "execution_count": null,
   "metadata": {},
   "outputs": [],
   "source": [
    "corrmat = tabla.corr()\n",
    "corrmat"
   ]
  },
  {
   "cell_type": "code",
   "execution_count": null,
   "metadata": {},
   "outputs": [],
   "source": [
    "import seaborn as sns\n",
    "\n",
    "f, ax = plt.subplots(figsize=(4, 3))\n",
    "# mapa de calor \n",
    "sns.heatmap(corrmat, vmax=.8, square=True);\n",
    "ax.set_title('Correlación entre las variables')"
   ]
  },
  {
   "cell_type": "markdown",
   "metadata": {},
   "source": [
    "Podemos visualizar la matriz de correlación por salarios. Para ello lo que hacemos es dividir los datos en tres partes:\n",
    "* los datos de los empleados con salario `low`\n",
    "* los datos de los empleados con salario `medium`\n",
    "* los datos de los empleados con salario `high`"
   ]
  },
  {
   "cell_type": "code",
   "execution_count": null,
   "metadata": {},
   "outputs": [],
   "source": [
    "# datos de los empleados con salario `low`\n",
    "mascara_low = tabla['salario'] == 'low'\n",
    "mascara_low\n",
    "salario_low = tabla[mascara_low]\n",
    "len(salario_low)"
   ]
  },
  {
   "cell_type": "code",
   "execution_count": null,
   "metadata": {},
   "outputs": [],
   "source": [
    "# datos de los empleados con salario `medium`\n",
    "mascara_medium = tabla['salario'] == 'medium'\n",
    "mascara_medium\n",
    "salario_medium = tabla[mascara_medium]\n",
    "len(salario_medium)"
   ]
  },
  {
   "cell_type": "code",
   "execution_count": null,
   "metadata": {},
   "outputs": [],
   "source": [
    "# datos de los empleados con salario `high`\n",
    "mascara_high = tabla['salario'] == 'high'\n",
    "mascara_high\n",
    "salario_high = tabla[mascara_high]\n",
    "len(salario_high)"
   ]
  },
  {
   "cell_type": "code",
   "execution_count": null,
   "metadata": {},
   "outputs": [],
   "source": [
    "corrmat_low = salario_low.corr()\n",
    "corrmat_medium = salario_medium.corr()\n",
    "corrmat_high = salario_high.corr()"
   ]
  },
  {
   "cell_type": "code",
   "execution_count": null,
   "metadata": {},
   "outputs": [],
   "source": [
    "# mapa de calor \n",
    "f, ax = plt.subplots(figsize=(7, 2.5))\n",
    "ax = sns.heatmap(corrmat_low, vmax=.7, square=False, annot=True, fmt='.1f');\n",
    "ax.set_title('Correlación - Empleados con salario \"low\"');"
   ]
  },
  {
   "cell_type": "code",
   "execution_count": null,
   "metadata": {},
   "outputs": [],
   "source": [
    "# mapa de calor \n",
    "f, ax = plt.subplots(figsize=(7, 2.5))\n",
    "ax = sns.heatmap(corrmat_high, vmax=.7, square=False, annot=True, fmt='.2f')\n",
    "ax.set_title('Correlación - Empleados con salario \"high\"');"
   ]
  },
  {
   "cell_type": "markdown",
   "metadata": {},
   "source": [
    "#  Maching Learning"
   ]
  },
  {
   "cell_type": "markdown",
   "metadata": {},
   "source": [
    "__Scikit-learn__ es una librería que incluye la implementación de un gran número de algoritmos de apredizaje, siendo básica para trabajar con __ML__.\n",
    "\n",
    "La podemos utilizar para realizar _clasificaciones_, _extraccion de características, _regresiones_, _agrupaciones_, _reducción de dimensiones_, _selección de modelos_ o _preprocesamiento_.\n",
    "\n",
    "Esta librería también nos facilita las tareas de evaluación, diagnostico y validaciones cruzadas ya que nos proporciona varios métodos de fábrica para poder realizar estas tareas de forma muy simple."
   ]
  },
  {
   "cell_type": "markdown",
   "metadata": {},
   "source": [
    "¿Se puede predecir la característica `deja_la_empresa` a partir del resto de los datos?\n",
    "\n",
    "`deja_la_empres` = 1"
   ]
  },
  {
   "cell_type": "code",
   "execution_count": null,
   "metadata": {},
   "outputs": [],
   "source": [
    "\n",
    "from sklearn.preprocessing import LabelEncoder\n",
    "#from   sklearn.model_selection import train_test_split       # sustituye a cross_validation\n",
    "from sklearn.cross_validation import train_test_split         # desapare en la versión 0.20\n",
    "# importando el modelo de regresión logística\n",
    "\n",
    "\n",
    "from sklearn.calibration import CalibratedClassifierCV\n",
    "from sklearn.feature_selection import SelectFromModel;"
   ]
  },
  {
   "cell_type": "markdown",
   "metadata": {},
   "source": [
    "Lo primero que hacemos es convertir las variables categóricas en variables indicadoras. Lo hacemos mediante la función __get_dummies()__."
   ]
  },
  {
   "cell_type": "code",
   "execution_count": null,
   "metadata": {},
   "outputs": [],
   "source": [
    "tabla = pd.read_csv('./datos/HR_comma.csv')\n",
    "tabla = tabla.dropna()                             # borramos las observaciones con NaN\n",
    "\n",
    "# variables categóricas en variables indicadoras\n",
    "tabla_copy = pd.get_dummies(tabla)                 # guardamos el resultado en una copia\n",
    "tabla_copy.head()"
   ]
  },
  {
   "cell_type": "code",
   "execution_count": null,
   "metadata": {},
   "outputs": [],
   "source": [
    "tabla_copy.info()      # No hay NaN en la tabla"
   ]
  },
  {
   "cell_type": "markdown",
   "metadata": {},
   "source": [
    "A continuación, construimos la matriz de variables independientes `X` y la varaible dependiente `y`."
   ]
  },
  {
   "cell_type": "code",
   "execution_count": null,
   "metadata": {},
   "outputs": [],
   "source": [
    "# y = variable dependiente\n",
    "y = tabla_copy.pop('deja_la_empresa')\n",
    "# X = matriz de variables independientes\n",
    "X = tabla_copy"
   ]
  },
  {
   "cell_type": "code",
   "execution_count": null,
   "metadata": {},
   "outputs": [],
   "source": [
    "y.unique(), len(y)         # valores distintos de la variable y"
   ]
  },
  {
   "cell_type": "code",
   "execution_count": null,
   "metadata": {},
   "outputs": [],
   "source": [
    "X.head()"
   ]
  },
  {
   "cell_type": "code",
   "execution_count": null,
   "metadata": {},
   "outputs": [],
   "source": [
    "len(X)"
   ]
  },
  {
   "cell_type": "markdown",
   "metadata": {},
   "source": [
    "Para aplicar el modelo de regresión logística, el tipo de los datos (y, X) ha de ser array de NumPy."
   ]
  },
  {
   "cell_type": "code",
   "execution_count": null,
   "metadata": {},
   "outputs": [],
   "source": [
    "type(y), type(X)"
   ]
  },
  {
   "cell_type": "markdown",
   "metadata": {},
   "source": [
    "Nos quedamos con los valores de la Serie y del DataFrame"
   ]
  },
  {
   "cell_type": "code",
   "execution_count": null,
   "metadata": {},
   "outputs": [],
   "source": [
    "y = y.values\n",
    "X = X.values"
   ]
  },
  {
   "cell_type": "code",
   "execution_count": null,
   "metadata": {},
   "outputs": [],
   "source": [
    "type(y), type(X)"
   ]
  },
  {
   "cell_type": "markdown",
   "metadata": {},
   "source": [
    "Dividimos los datasets en entrenamiento y evaluación:"
   ]
  },
  {
   "cell_type": "code",
   "execution_count": null,
   "metadata": {},
   "outputs": [],
   "source": [
    "# Xtrain con el 80% de los datos\n",
    "# Xtest  con el 20 de los datos\n",
    "Xtrain, Xtest, ytrain, ytest = train_test_split(X, y, test_size=0.20)\n",
    "len(Xtest), len(Xtest)/len(X),len(Xtrain), len(Xtrain)/len(X)"
   ]
  },
  {
   "cell_type": "markdown",
   "metadata": {},
   "source": [
    "##  Predicción con Arboles de decisión"
   ]
  },
  {
   "cell_type": "code",
   "execution_count": null,
   "metadata": {},
   "outputs": [],
   "source": [
    "# Importando el arbol de decisión\n",
    "from sklearn.tree import DecisionTreeClassifier\n",
    "\n",
    "# Creando el modelo. Árboles con profundidad 3\n",
    "modelo_ad = DecisionTreeClassifier(max_depth = 3 )     # Creando el modelo\n",
    "# Ajustando el modelo\n",
    "modelo_ad.fit(Xtrain, ytrain);\n"
   ]
  },
  {
   "cell_type": "code",
   "execution_count": null,
   "metadata": {},
   "outputs": [],
   "source": [
    "# calculamos las bondad del ajuste para los datos de test y de entrenamiento\n",
    "ajuste_test = modelo_ad.score(Xtest, ytest)      #coef de determinación o bondad del ajuste\n",
    "print('Bondad del ajuste con Árbol de decisión: ', ajuste_test)"
   ]
  },
  {
   "cell_type": "markdown",
   "metadata": {},
   "source": [
    "##  Predicción con Random Forest"
   ]
  },
  {
   "cell_type": "markdown",
   "metadata": {},
   "source": [
    "Uno de los métodos más populares usados por los científicos de datos es el algoritmo __Random Forest__, uno de los mejores algoritmos de clasificación, capaz de organizar grandes cantidades de datos con exactitud."
   ]
  },
  {
   "cell_type": "code",
   "execution_count": null,
   "metadata": {},
   "outputs": [],
   "source": [
    "# Importando el random forest\n",
    "from sklearn.ensemble import RandomForestClassifier\n",
    "\n",
    "# Creando el modelo\n",
    "modelo_rf = RandomForestClassifier()\n",
    "# Ajustando el modelo\n",
    "modelo_rf.fit(Xtrain, ytrain)\n",
    "\n",
    "# Realizando las predicciones\n",
    "y_predic_test = modelo_rf.predict(Xtest)\n"
   ]
  },
  {
   "cell_type": "code",
   "execution_count": null,
   "metadata": {},
   "outputs": [],
   "source": [
    "# calculamos las bondad del ajuste para los datos de test y de entrenamiento\n",
    "ajuste_test = modelo_rf.score(Xtest, ytest)      #coef de determinación o bondad del ajuste\n",
    "print('Bondad del ajuste con Random Forest: ', ajuste_test)"
   ]
  },
  {
   "cell_type": "markdown",
   "metadata": {},
   "source": [
    "Parece que el modelo Random forest ofrece mejores resultados. Además podemos conocer las características que más influyen en el modelo. \n",
    "En nuestro ejemplo tenemos 20 características: "
   ]
  },
  {
   "cell_type": "code",
   "execution_count": null,
   "metadata": {},
   "outputs": [],
   "source": [
    "tabla_copy.shape"
   ]
  },
  {
   "cell_type": "code",
   "execution_count": null,
   "metadata": {},
   "outputs": [],
   "source": [
    "# nombres de las características\n",
    "caracteristicas = tabla_copy.columns.values      \n",
    "caracteristicas"
   ]
  },
  {
   "cell_type": "code",
   "execution_count": null,
   "metadata": {},
   "outputs": [],
   "source": [
    "# estimación de la importancia de las características\n",
    "# el valor más alto corresponde a la característica más importante\n",
    "estimacion = modelo_rf.feature_importances_\n",
    "estimacion"
   ]
  },
  {
   "cell_type": "markdown",
   "metadata": {},
   "source": [
    "Emparejamos cada característica con su estimación:"
   ]
  },
  {
   "cell_type": "code",
   "execution_count": null,
   "metadata": {},
   "outputs": [],
   "source": [
    "estimaciones = dict(zip(caracteristicas, estimacion))\n",
    "estimaciones\n",
    "valores = pd.DataFrame(estimaciones, index = ['valor'])\n",
    "valores = valores.T\n",
    "valores"
   ]
  },
  {
   "cell_type": "code",
   "execution_count": null,
   "metadata": {},
   "outputs": [],
   "source": [
    "plt.figure(figsize=(5, 3))\n",
    "valores.plot(kind = 'bar',  \n",
    "             width = 0.3  ,         #anchura de las barras\n",
    "             align = 'center'\n",
    "             )\n",
    "plt.title('Estimación importancia - Random Forest')\n",
    "plt.ylabel('Importancia estimada')\n",
    "plt.xlabel('Características')\n",
    "plt.legend(loc='best')\n",
    "plt.tight_layout()"
   ]
  },
  {
   "cell_type": "markdown",
   "metadata": {},
   "source": [
    "# References\n",
    "\n"
   ]
  },
  {
   "cell_type": "markdown",
   "metadata": {},
   "source": [
    "* [Python Data Analysis Library](http://pandas.pydata.org/)\n",
    "* [Python for Data Analysis](http://shop.oreilly.com/product/0636920023784.do)\n"
   ]
  }
 ],
 "metadata": {
  "anaconda-cloud": {},
  "kernelspec": {
   "display_name": "Python 3",
   "language": "python",
   "name": "python3"
  },
  "language_info": {
   "codemirror_mode": {
    "name": "ipython",
    "version": 3
   },
   "file_extension": ".py",
   "mimetype": "text/x-python",
   "name": "python",
   "nbconvert_exporter": "python",
   "pygments_lexer": "ipython3",
   "version": "3.6.4"
  },
  "toc": {
   "nav_menu": {
    "height": "416px",
    "width": "252px"
   },
   "number_sections": true,
   "sideBar": true,
   "skip_h1_title": false,
   "title_cell": "Table of Contents",
   "title_sidebar": "Contents",
   "toc_cell": false,
   "toc_position": {},
   "toc_section_display": "block",
   "toc_window_display": true
  }
 },
 "nbformat": 4,
 "nbformat_minor": 1
}
