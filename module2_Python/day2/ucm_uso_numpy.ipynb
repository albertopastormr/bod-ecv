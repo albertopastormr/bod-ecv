{
 "cells": [
  {
   "cell_type": "markdown",
   "metadata": {},
   "source": [
    "## Aplicación de NumPy\n",
    "\n",
    "-----------------------\n",
    "\n",
    "#### Ejemplo 1\n",
    "\n",
    "Los datos contenidos en el fichero [datos.txt](./datos/datos.txt) describe las poblaciones de tres tipos de serpientes en el sur de Africa durante 20 años.\n",
    "\n",
    "Cada columna comprende una especie y cada fila un año."
   ]
  },
  {
   "cell_type": "code",
   "execution_count": 1,
   "metadata": {},
   "outputs": [
    {
     "data": {
      "text/plain": [
       "array([[ 2000., 30000.,  3000., 38300.],\n",
       "       [ 2001., 37200.,  6100., 48200.],\n",
       "       [ 2002., 60200.,  9800., 31600.],\n",
       "       [ 2003., 77300., 36200., 38200.],\n",
       "       [ 2004., 36300., 69300., 30600.],\n",
       "       [ 2005., 20600., 31700., 49800.],\n",
       "       [ 2006., 18100., 19000., 38600.],\n",
       "       [ 2007., 21300., 13000., 32300.],\n",
       "       [ 2008., 22000.,  8300., 43600.],\n",
       "       [ 2009., 26300.,  9100., 32100.],\n",
       "       [ 2010., 27100.,  7300., 36000.],\n",
       "       [ 2011., 30300.,  8000., 36800.],\n",
       "       [ 2012., 67000., 12300., 33800.],\n",
       "       [ 2013., 76600., 19600., 30900.],\n",
       "       [ 2014., 62300., 36700., 49300.],\n",
       "       [ 2015., 19600., 61100., 39000.],\n",
       "       [ 2016., 11200., 29700., 36700.],\n",
       "       [ 2017.,  7600., 16800., 41800.],\n",
       "       [ 2018., 13600.,  9700., 33300.],\n",
       "       [ 2019., 16200., 10100., 31300.],\n",
       "       [ 2020., 23700.,  8600., 47300.]])"
      ]
     },
     "execution_count": 1,
     "metadata": {},
     "output_type": "execute_result"
    }
   ],
   "source": [
    "import numpy as np\n",
    "data = np.loadtxt('./datos/datos.txt')    # carga de los datos\n",
    "data"
   ]
  },
  {
   "cell_type": "markdown",
   "metadata": {},
   "source": [
    "* Cálculo de la media de población de cada tipo a lo largo del tiempo.\n"
   ]
  },
  {
   "cell_type": "code",
   "execution_count": 5,
   "metadata": {},
   "outputs": [
    {
     "data": {
      "text/plain": [
       "array([33547.61904762, 20257.14285714, 38071.42857143])"
      ]
     },
     "execution_count": 5,
     "metadata": {},
     "output_type": "execute_result"
    }
   ],
   "source": [
    "# Sol:\n",
    "np.mean(data[:,1:], axis = 0) # elimino la primera columna de los anos"
   ]
  },
  {
   "cell_type": "markdown",
   "metadata": {},
   "source": [
    "* Cálculo de la desviación estándar de la muestra"
   ]
  },
  {
   "cell_type": "code",
   "execution_count": 6,
   "metadata": {},
   "outputs": [
    {
     "data": {
      "text/plain": [
       "17958.196326990084"
      ]
     },
     "execution_count": 6,
     "metadata": {},
     "output_type": "execute_result"
    }
   ],
   "source": [
    "# Sol:\n",
    "np.std(data[:,1:])"
   ]
  },
  {
   "cell_type": "markdown",
   "metadata": {},
   "source": [
    "* ¿Qué especie ha tenido más población por año?"
   ]
  },
  {
   "cell_type": "code",
   "execution_count": 23,
   "metadata": {},
   "outputs": [
    {
     "data": {
      "text/plain": [
       "array([[2.00e+00, 3.83e+04],\n",
       "       [2.00e+00, 4.82e+04],\n",
       "       [0.00e+00, 6.02e+04],\n",
       "       [0.00e+00, 7.73e+04],\n",
       "       [1.00e+00, 6.93e+04],\n",
       "       [2.00e+00, 4.98e+04],\n",
       "       [2.00e+00, 3.86e+04],\n",
       "       [2.00e+00, 3.23e+04],\n",
       "       [2.00e+00, 4.36e+04],\n",
       "       [2.00e+00, 3.21e+04],\n",
       "       [2.00e+00, 3.60e+04],\n",
       "       [2.00e+00, 3.68e+04],\n",
       "       [0.00e+00, 6.70e+04],\n",
       "       [0.00e+00, 7.66e+04],\n",
       "       [0.00e+00, 6.23e+04],\n",
       "       [1.00e+00, 6.11e+04],\n",
       "       [2.00e+00, 3.67e+04],\n",
       "       [2.00e+00, 4.18e+04],\n",
       "       [2.00e+00, 3.33e+04],\n",
       "       [2.00e+00, 3.13e+04],\n",
       "       [2.00e+00, 4.73e+04]])"
      ]
     },
     "execution_count": 23,
     "metadata": {},
     "output_type": "execute_result"
    }
   ],
   "source": [
    "# Sol:\n",
    "max_per_year = np.array([np.argmax(data[:,1:], axis =1), np.max(data[:,1:], axis = 1)]).T\n",
    "max_per_year"
   ]
  },
  {
   "cell_type": "code",
   "execution_count": 25,
   "metadata": {},
   "outputs": [
    {
     "name": "stdout",
     "output_type": "stream",
     "text": [
      "La especie con mas poblacion por ano es la numero 0.0  con poblacion 77300.0\n"
     ]
    }
   ],
   "source": [
    "max_year_specie = max_per_year[np.argmax(max_per_year[:,-1])]\n",
    "print('La especie con mas poblacion por ano es la numero', max_year_specie[0], ' con poblacion', max_year_specie[1])"
   ]
  },
  {
   "cell_type": "code",
   "execution_count": 29,
   "metadata": {},
   "outputs": [
    {
     "name": "stdout",
     "output_type": "stream",
     "text": [
      "El numero de veces que la especie 0 supera a los demas es 5\n"
     ]
    }
   ],
   "source": [
    "print('El numero de veces que la especie 0 supera a los demas es', (max_per_year[:,0] == 0).sum())"
   ]
  }
 ],
 "metadata": {
  "anaconda-cloud": {},
  "kernelspec": {
   "display_name": "Python 3",
   "language": "python",
   "name": "python3"
  },
  "language_info": {
   "codemirror_mode": {
    "name": "ipython",
    "version": 3
   },
   "file_extension": ".py",
   "mimetype": "text/x-python",
   "name": "python",
   "nbconvert_exporter": "python",
   "pygments_lexer": "ipython3",
   "version": "3.6.4"
  },
  "toc": {
   "nav_menu": {
    "height": "67px",
    "width": "252px"
   },
   "number_sections": true,
   "sideBar": true,
   "skip_h1_title": false,
   "title_cell": "Table of Contents",
   "title_sidebar": "Contents",
   "toc_cell": false,
   "toc_position": {},
   "toc_section_display": "block",
   "toc_window_display": false
  }
 },
 "nbformat": 4,
 "nbformat_minor": 1
}
