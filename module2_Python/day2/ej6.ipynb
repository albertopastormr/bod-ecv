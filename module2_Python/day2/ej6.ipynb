{
 "cells": [
  {
   "cell_type": "markdown",
   "metadata": {},
   "source": [
    "# Ejercicios 6"
   ]
  },
  {
   "cell_type": "markdown",
   "metadata": {},
   "source": [
    "#### 1 Ejercicio"
   ]
  },
  {
   "cell_type": "markdown",
   "metadata": {},
   "source": [
    "El fichero [tips.txt](./datos/tips.txt) recoge los datos asociados a las reservas de un restaurante durante un periodo de tiempo. Muestra los datos de 6 variables numéricas:\n",
    "\n",
    "* El precio de la factura, \n",
    "* La propina asociada a la factura, \n",
    "* El sexo de la persona que hizo la reserva (1=Hombre, 2=Mujer),\n",
    "* Si es una reserva para fumadores o no (0 = No Fumadores, 1 = Fumadores),\n",
    "* El día de la semana (1 = Lunes, ... , 7 = Domingo),\n",
    "* El número de comensales.\n",
    "\n",
    "Haz una pequeña exploración de los datos del fichero. Observa que el separador de datos es el símbolo coma(,).\n",
    "\n",
    "Realiza la carga de los datos con la función __loadtxt__ del módulo __NumPy__. El array devuelto por __loadtxt__ se llamará __tips__."
   ]
  },
  {
   "cell_type": "code",
   "execution_count": 8,
   "metadata": {},
   "outputs": [],
   "source": [
    "# Imports necesarios\n",
    "import numpy as np                         # importación de numpy"
   ]
  },
  {
   "cell_type": "code",
   "execution_count": 2,
   "metadata": {
    "collapsed": true
   },
   "outputs": [],
   "source": [
    "# Sol - realiza la carga\n",
    "tips = np.loadtxt('./datos/tips.txt', delimiter=',')"
   ]
  },
  {
   "cell_type": "markdown",
   "metadata": {},
   "source": [
    "#### 2 Ejercicio\n",
    "\n",
    "- ¿Cuántas filas hemos cargado?\n",
    "- Muestra las 10 primeras filas"
   ]
  },
  {
   "cell_type": "code",
   "execution_count": 13,
   "metadata": {},
   "outputs": [
    {
     "name": "stdout",
     "output_type": "stream",
     "text": [
      "Cargadas 244  filas en el array \"tips\"\n",
      " [[16.99  1.01  2.    0.    7.    2.  ]\n",
      " [10.34  1.66  1.    0.    7.    3.  ]\n",
      " [21.01  3.5   1.    0.    7.    3.  ]\n",
      " [23.68  3.31  1.    0.    7.    2.  ]\n",
      " [24.59  3.61  2.    0.    7.    4.  ]\n",
      " [25.29  4.71  1.    0.    7.    4.  ]\n",
      " [ 8.77  2.    1.    0.    7.    2.  ]\n",
      " [26.88  3.12  1.    0.    7.    4.  ]\n",
      " [15.04  1.96  1.    0.    7.    2.  ]\n",
      " [14.78  3.23  1.    0.    7.    2.  ]]\n"
     ]
    }
   ],
   "source": [
    "# Sol\n",
    "print('Cargadas', len(tips), ' filas en el array \"tips\"\\n', tips[:10,:])"
   ]
  },
  {
   "cell_type": "markdown",
   "metadata": {},
   "source": [
    "#### 3 Ejercicio\n",
    "\n",
    "- Calcula el importe máximo y mínimo de las facturas. El importe de la factura es la columna que ocupa la posición 0 en el array __tips__.\n",
    "\n"
   ]
  },
  {
   "cell_type": "code",
   "execution_count": 14,
   "metadata": {},
   "outputs": [
    {
     "data": {
      "text/plain": [
       "50.81"
      ]
     },
     "execution_count": 14,
     "metadata": {},
     "output_type": "execute_result"
    }
   ],
   "source": [
    "# Sol importe máximo de la factura\n",
    "np.max(tips[:,0])"
   ]
  },
  {
   "cell_type": "code",
   "execution_count": 15,
   "metadata": {},
   "outputs": [
    {
     "data": {
      "text/plain": [
       "3.07"
      ]
     },
     "execution_count": 15,
     "metadata": {},
     "output_type": "execute_result"
    }
   ],
   "source": [
    "# Sol importe mínimo de la factura\n",
    "np.min(tips[:,0])"
   ]
  },
  {
   "cell_type": "markdown",
   "metadata": {},
   "source": [
    "##### 4 Ejercicio\n",
    "\n",
    "* Total facturado por dia de la semana"
   ]
  },
  {
   "cell_type": "code",
   "execution_count": 26,
   "metadata": {},
   "outputs": [
    {
     "name": "stdout",
     "output_type": "stream",
     "text": [
      "Total facturado Lunes (Sin facturacion)\n",
      "Total facturado Martes (Sin facturacion)\n",
      "Total facturado Miercoles (Sin facturacion)\n",
      "Total facturado Jueves 1096.33\n",
      "Total facturado Viernes 325.88\n",
      "Total facturado Sabado 1778.3999999999999\n",
      "Total facturado Domingo 1627.16\n"
     ]
    }
   ],
   "source": [
    "week_days = ['Lunes', 'Martes', 'Miercoles', 'Jueves', 'Viernes', 'Sabado', 'Domingo']\n",
    "for i in range(7):\n",
    "    amount_per_day = np.sum( tips[:,0][tips[:,4] == i + 1])\n",
    "    print('Total facturado', week_days[i], amount_per_day if amount_per_day > 0 else '(Sin facturacion)')"
   ]
  },
  {
   "cell_type": "markdown",
   "metadata": {},
   "source": [
    "---------------------"
   ]
  }
 ],
 "metadata": {
  "anaconda-cloud": {},
  "kernelspec": {
   "display_name": "Python 3",
   "language": "python",
   "name": "python3"
  },
  "language_info": {
   "codemirror_mode": {
    "name": "ipython",
    "version": 3
   },
   "file_extension": ".py",
   "mimetype": "text/x-python",
   "name": "python",
   "nbconvert_exporter": "python",
   "pygments_lexer": "ipython3",
   "version": "3.6.4"
  },
  "toc": {
   "colors": {
    "hover_highlight": "#DAA520",
    "running_highlight": "#FF0000",
    "selected_highlight": "#FFD700"
   },
   "moveMenuLeft": true,
   "nav_menu": {
    "height": "105px",
    "width": "252px"
   },
   "navigate_menu": true,
   "number_sections": true,
   "sideBar": true,
   "threshold": 4,
   "toc_cell": false,
   "toc_section_display": "block",
   "toc_window_display": false,
   "widenNotebook": false
  }
 },
 "nbformat": 4,
 "nbformat_minor": 1
}
