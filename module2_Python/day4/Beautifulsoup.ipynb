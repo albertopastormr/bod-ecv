{
 "cells": [
  {
   "cell_type": "markdown",
   "metadata": {},
   "source": [
    "# Beautiful Soup (BS4)\n",
    "\n",
    "BS4 es una librería para extraer datos de documentos con lenguajes de marcado como HTML o XML. Permite navegar por el árbol del documento, extraer datos, modificarlo, etc. Como veremos, es recomendable conocer el funcionamiento de las reglas CSS para sacar el máximo partido a esta librería.\n",
    "\n",
    "Como vemos en este primer ejemplo, BS4 tan solo analiza texto en formato HTML o XML. Aquí está la [documentación completa de Beautiful Soup 4.](https://www.crummy.com/software/BeautifulSoup/bs4/doc/)"
   ]
  },
  {
   "cell_type": "code",
   "execution_count": 17,
   "metadata": {
    "ExecuteTime": {
     "end_time": "2018-02-08T19:49:10.804032Z",
     "start_time": "2018-02-08T19:49:10.779644Z"
    }
   },
   "outputs": [],
   "source": [
    "from bs4 import BeautifulSoup\n",
    "\n",
    "html_doc = \"\"\"\n",
    "<head><title>The Dormouse's story</title></head>\n",
    "<body>\n",
    "<p class=\"title\"><b>The Dormouse's story</b></p>\n",
    "\n",
    "<p class=\"story\">Once upon a time there were three little sisters; and their names were\n",
    "<a href=\"http://example.com/elsie\" class=\"sister\" id=\"link1\">Elsie</a>,\n",
    "<a href=\"http://example.com/lacie\" class=\"sister\" id=\"link2\">Lacie</a> and\n",
    "<a href=\"http://example.com/tillie\" class=\"mother\" id=\"link3\">Tillie</a>;\n",
    "and they lived at the bottom of a well.</p>\n",
    "\n",
    "<p class=\"story\">...</p>\n",
    "\"\"\"\n",
    "\n",
    "# Cargamos el \n",
    "soup = BeautifulSoup(html_doc, 'lxml')\n",
    "\n",
    "# soup es un arbol cargado con todo el arbol de html_doc\n",
    "# cuando indexas en soup, obtienes otro arbol con lo correspondiente\n",
    "# de esta forma, podemos conocer los atributos que cuelgan de un atributo de otro arbol\n",
    "# para conocer que esta colgado de un arbol, podrias usar '.attrs'"
   ]
  },
  {
   "cell_type": "code",
   "execution_count": 18,
   "metadata": {},
   "outputs": [
    {
     "data": {
      "text/plain": [
       "{}"
      ]
     },
     "execution_count": 18,
     "metadata": {},
     "output_type": "execute_result"
    }
   ],
   "source": [
    "soup.attrs"
   ]
  },
  {
   "cell_type": "markdown",
   "metadata": {},
   "source": [
    "Podemos navegar directamente por la estructura usando `.`\n"
   ]
  },
  {
   "cell_type": "code",
   "execution_count": 19,
   "metadata": {
    "ExecuteTime": {
     "end_time": "2018-02-08T19:49:10.812755Z",
     "start_time": "2018-02-08T19:49:10.804919Z"
    }
   },
   "outputs": [
    {
     "data": {
      "text/plain": [
       "<title>The Dormouse's story</title>"
      ]
     },
     "execution_count": 19,
     "metadata": {},
     "output_type": "execute_result"
    }
   ],
   "source": [
    "# el comportamiento es similar a indexar en un objeto json\n",
    "soup.title\n"
   ]
  },
  {
   "cell_type": "code",
   "execution_count": 5,
   "metadata": {
    "ExecuteTime": {
     "end_time": "2018-02-08T19:49:10.816257Z",
     "start_time": "2018-02-08T19:49:10.813842Z"
    }
   },
   "outputs": [
    {
     "data": {
      "text/plain": [
       "<p class=\"title\"><b>The Dormouse's story</b></p>"
      ]
     },
     "execution_count": 5,
     "metadata": {},
     "output_type": "execute_result"
    }
   ],
   "source": [
    "# devuelve el primer elemento que se encuentre del tag indicado\n",
    "soup.p\n",
    "# permite indexar cualquier arbol "
   ]
  },
  {
   "cell_type": "code",
   "execution_count": 6,
   "metadata": {
    "ExecuteTime": {
     "end_time": "2018-02-08T19:49:10.819142Z",
     "start_time": "2018-02-08T19:49:10.817050Z"
    }
   },
   "outputs": [
    {
     "data": {
      "text/plain": [
       "'Elsie'"
      ]
     },
     "execution_count": 6,
     "metadata": {},
     "output_type": "execute_result"
    }
   ],
   "source": [
    "soup.a.text"
   ]
  },
  {
   "cell_type": "markdown",
   "metadata": {},
   "source": [
    "Podemos acceder también a los atributos de un elemento"
   ]
  },
  {
   "cell_type": "code",
   "execution_count": 5,
   "metadata": {
    "ExecuteTime": {
     "end_time": "2018-02-08T19:49:10.822294Z",
     "start_time": "2018-02-08T19:49:10.820140Z"
    }
   },
   "outputs": [
    {
     "data": {
      "text/plain": [
       "{'class': ['sister'], 'href': 'http://example.com/elsie', 'id': 'link1'}"
      ]
     },
     "execution_count": 5,
     "metadata": {},
     "output_type": "execute_result"
    }
   ],
   "source": [
    "soup.a.attrs"
   ]
  },
  {
   "cell_type": "code",
   "execution_count": 20,
   "metadata": {
    "ExecuteTime": {
     "end_time": "2018-02-08T19:49:10.825397Z",
     "start_time": "2018-02-08T19:49:10.823038Z"
    }
   },
   "outputs": [
    {
     "data": {
      "text/plain": [
       "['sister']"
      ]
     },
     "execution_count": 20,
     "metadata": {},
     "output_type": "execute_result"
    }
   ],
   "source": [
    "soup.a['class']\n",
    "# Equivalente a soup.a.attrs['class]"
   ]
  },
  {
   "cell_type": "markdown",
   "metadata": {},
   "source": [
    "También podemos acceder a padre, hijos y hermanos de un elemento"
   ]
  },
  {
   "cell_type": "code",
   "execution_count": 7,
   "metadata": {
    "ExecuteTime": {
     "end_time": "2018-02-08T19:49:10.832124Z",
     "start_time": "2018-02-08T19:49:10.829810Z"
    }
   },
   "outputs": [
    {
     "data": {
      "text/plain": [
       "',\\n'"
      ]
     },
     "execution_count": 7,
     "metadata": {},
     "output_type": "execute_result"
    }
   ],
   "source": [
    "soup.a.nextSibling"
   ]
  },
  {
   "cell_type": "code",
   "execution_count": 8,
   "metadata": {
    "ExecuteTime": {
     "end_time": "2018-02-08T19:49:10.839354Z",
     "start_time": "2018-02-08T19:49:10.836998Z"
    }
   },
   "outputs": [
    {
     "data": {
      "text/plain": [
       "<a class=\"sister\" href=\"http://example.com/lacie\" id=\"link2\">Lacie</a>"
      ]
     },
     "execution_count": 8,
     "metadata": {},
     "output_type": "execute_result"
    }
   ],
   "source": [
    "soup.a.findNextSibling('a')"
   ]
  },
  {
   "cell_type": "code",
   "execution_count": 9,
   "metadata": {
    "ExecuteTime": {
     "end_time": "2018-02-08T19:49:10.846229Z",
     "start_time": "2018-02-08T19:49:10.843968Z"
    }
   },
   "outputs": [
    {
     "data": {
      "text/plain": [
       "'p'"
      ]
     },
     "execution_count": 9,
     "metadata": {},
     "output_type": "execute_result"
    }
   ],
   "source": [
    "# permite navegar jerarquicamente por el arbol\n",
    "soup.a.parent.name"
   ]
  },
  {
   "cell_type": "markdown",
   "metadata": {},
   "source": [
    "Realmente, la parte más interesante es la de encontrar todos los elementos de un determinado tipo, o que sean de una determinada clase, o en el que alguno de sus atributos tenga algún valor especial. Esto lo haremos con:\n",
    "\n",
    "- `find`: encuentra el primer elemento\n",
    "- `findall`: genera una lista con todos los elementos que cumplen la condición."
   ]
  },
  {
   "cell_type": "code",
   "execution_count": 11,
   "metadata": {
    "ExecuteTime": {
     "end_time": "2018-02-08T19:49:10.855774Z",
     "start_time": "2018-02-08T19:49:10.853117Z"
    }
   },
   "outputs": [
    {
     "data": {
      "text/plain": [
       "[<a class=\"sister\" href=\"http://example.com/elsie\" id=\"link1\">Elsie</a>,\n",
       " <a class=\"sister\" href=\"http://example.com/lacie\" id=\"link2\">Lacie</a>,\n",
       " <a class=\"sister\" href=\"http://example.com/tillie\" id=\"link3\">Tillie</a>]"
      ]
     },
     "execution_count": 11,
     "metadata": {},
     "output_type": "execute_result"
    }
   ],
   "source": [
    "# findAll nos permite indexar y concatenar con otros navegadores\n",
    "soup.findAll('a')"
   ]
  },
  {
   "cell_type": "code",
   "execution_count": 22,
   "metadata": {
    "ExecuteTime": {
     "end_time": "2018-02-08T19:49:10.864213Z",
     "start_time": "2018-02-08T19:49:10.861429Z"
    }
   },
   "outputs": [
    {
     "data": {
      "text/plain": [
       "[<a class=\"sister\" href=\"http://example.com/elsie\" id=\"link1\">Elsie</a>,\n",
       " <a class=\"sister\" href=\"http://example.com/lacie\" id=\"link2\">Lacie</a>]"
      ]
     },
     "execution_count": 22,
     "metadata": {},
     "output_type": "execute_result"
    }
   ],
   "source": [
    "# devuelve todos los tags 'a' cuya clase es 'sister'\n",
    "soup.findAll('a', attrs={\"class\": \"sister\"})"
   ]
  },
  {
   "cell_type": "code",
   "execution_count": 25,
   "metadata": {
    "ExecuteTime": {
     "end_time": "2018-02-08T19:49:10.870795Z",
     "start_time": "2018-02-08T19:49:10.868910Z"
    }
   },
   "outputs": [
    {
     "name": "stdout",
     "output_type": "stream",
     "text": [
      "None\n"
     ]
    }
   ],
   "source": [
    "# Devuelve None en caso de no existir\n",
    "print(soup.find('a', attrs={\"class\": \"brother\"}))"
   ]
  },
  {
   "cell_type": "markdown",
   "metadata": {},
   "source": [
    "De esta forma, ya podemos extraer todos los enlaces de un documento en HTML"
   ]
  },
  {
   "cell_type": "code",
   "execution_count": 26,
   "metadata": {
    "ExecuteTime": {
     "end_time": "2018-02-08T19:49:10.881199Z",
     "start_time": "2018-02-08T19:49:10.878629Z"
    }
   },
   "outputs": [
    {
     "name": "stdout",
     "output_type": "stream",
     "text": [
      "http://example.com/elsie\n",
      "http://example.com/lacie\n",
      "http://example.com/tillie\n"
     ]
    }
   ],
   "source": [
    "links = soup.findAll('a')\n",
    "for l in links:\n",
    "    print(l['href'])"
   ]
  },
  {
   "cell_type": "markdown",
   "metadata": {
    "ExecuteTime": {
     "end_time": "2018-02-08T10:25:17.354285Z",
     "start_time": "2018-02-08T10:25:17.351958Z"
    }
   },
   "source": [
    "En realidad, existe una forma aún más interesante de realizar esto y es utilizando la función `select` (o `select_one`, si solo nos queremos quedar con el primero, que recibe como parámetro un selector CSS para decidir con qué elementos me quiero quedar "
   ]
  },
  {
   "cell_type": "code",
   "execution_count": 27,
   "metadata": {
    "ExecuteTime": {
     "end_time": "2018-02-08T19:49:10.892259Z",
     "start_time": "2018-02-08T19:49:10.889505Z"
    }
   },
   "outputs": [
    {
     "name": "stdout",
     "output_type": "stream",
     "text": [
      "Elsie\n",
      "Lacie\n"
     ]
    }
   ],
   "source": [
    "# Ignoremos el párrafo de título\n",
    "# el select va a coger todos los elementos de la clase 'a.sister\n",
    "stories = soup.select('a.sister')\n",
    "for t in stories:\n",
    "    print (t.text)"
   ]
  },
  {
   "cell_type": "code",
   "execution_count": 29,
   "metadata": {},
   "outputs": [
    {
     "name": "stdout",
     "output_type": "stream",
     "text": [
      "Elsie\n"
     ]
    }
   ],
   "source": [
    "# la siguiente sentencia nos permite indexar por ids\n",
    "# .select() nos permite indexar por css\n",
    "stories = soup.select('a#link1')\n",
    "for t in stories:\n",
    "    print (t.text)"
   ]
  },
  {
   "cell_type": "code",
   "execution_count": 15,
   "metadata": {
    "ExecuteTime": {
     "end_time": "2018-02-08T19:49:10.909591Z",
     "start_time": "2018-02-08T19:49:10.906783Z"
    }
   },
   "outputs": [
    {
     "name": "stdout",
     "output_type": "stream",
     "text": [
      "link1\n",
      "link2\n",
      "link3\n"
     ]
    }
   ],
   "source": [
    "# Ignoremos el párrafo de título\n",
    "# la siguiente sentencia indexa por 'p.story' y coge todos sus hijos 'a'\n",
    "# el simbolo '>' indica herencia directa\n",
    "stories = soup.select('p.story > a')\n",
    "for t in stories:\n",
    "    print (t['id'])"
   ]
  },
  {
   "cell_type": "markdown",
   "metadata": {},
   "source": [
    "# BS4 y requests\n",
    "\n",
    "Para el objetivo de este taller, lo más interesante es combinar la descarga de una web con el uso de BS4. Para ello, proponemos el uso de la librería `request` de la siguiente manera:"
   ]
  },
  {
   "cell_type": "code",
   "execution_count": 31,
   "metadata": {
    "ExecuteTime": {
     "end_time": "2018-02-08T19:49:11.152212Z",
     "start_time": "2018-02-08T19:49:10.924132Z"
    }
   },
   "outputs": [],
   "source": [
    "from bs4 import BeautifulSoup\n",
    "import requests\n",
    "\n",
    "def procesarPagina(url):\n",
    "    \"\"\"\n",
    "    Carga y  procesa el contenido de una URL usando request\n",
    "    Muestra un mensaje de error en caso de no poder cargar la página\n",
    "    \"\"\"\n",
    "     # Realizamos la petición a la web\n",
    "    req = requests.get(url)\n",
    "\n",
    "    # Comprobamos que la petición nos devuelve un Status Code = 200\n",
    "    statusCode = req.status_code\n",
    "    if statusCode == 200:\n",
    "\n",
    "        # Pasamos el contenido HTML de la web a un objeto BeautifulSoup()\n",
    "        html = BeautifulSoup(req.text,\"lxml\")\n",
    "        \n",
    "        # Procesamos el HTML descargado\n",
    "        return procesaHTML(html,url)        \n",
    "        \n",
    "    else:\n",
    "        print (\"ERROR {}\".format(statusCode))\n",
    "\n",
    "def procesaHTML(html, url=\"\"):\n",
    "    \"\"\"\n",
    "    Procesa el contenido HTML de una página web\n",
    "    html es un objeto BS4\n",
    "    url es la URL de la página contenida en html_doc\n",
    "    \"\"\"\n",
    "    return"
   ]
  },
  {
   "cell_type": "markdown",
   "metadata": {},
   "source": [
    "## Ejemplo: Books to scrape\n",
    "\n",
    "Vamos a probar cómo hacer scraping con BS4 utilizando el sitio web [Books to scrape](http://books.toscrape.com). Como su nombre indica, es un _sandbox_ donde nos dejan  hacer pruebas de web scraping. Utilizando las herramientas de desarrollador del navegador podemos analizar cuál es la estructura de la web que queremos analizar.\n",
    "\n",
    "Vamos primeramente a entender cómo es la página de un producto para luego ver cómo extraeríamos el catálogo completo.\n",
    "\n",
    "### Organización de cada producto\n",
    "\n",
    "La estructura más importante de un producto es la que aquí aparece:\n",
    "\n",
    "```\n",
    "article.product_page\n",
    "    div.product_main\n",
    "        h1 \n",
    "            Texto = Título\n",
    "        p.price_color\n",
    "            Texto = Precio\n",
    "        p.star-rating\n",
    "            La otra clase representa la valoración (One, Two, Three, Four, Five)\n",
    "    div#product_description\n",
    "        sibling p --> descripción\n",
    "    \n",
    "    table\n",
    "        Cada fila tiene info adicional:\n",
    "        UPC\n",
    "        Product type\n",
    "        Price (excl. tax)\n",
    "        ...\n",
    "        \n",
    "```\n",
    "\n",
    "Por ejemplo, comencemos obteniendo el título del producto"
   ]
  },
  {
   "cell_type": "code",
   "execution_count": 32,
   "metadata": {
    "ExecuteTime": {
     "end_time": "2018-02-08T19:49:12.065995Z",
     "start_time": "2018-02-08T19:49:11.153060Z"
    }
   },
   "outputs": [
    {
     "name": "stdout",
     "output_type": "stream",
     "text": [
      "Título:A Light in the Attic\n"
     ]
    }
   ],
   "source": [
    "def procesaHTML(html, url=\"\"):\n",
    "    titulo = html.select_one(\".product_main h1\").text # #content_inner > article > div.row > div.col-sm-6.product_main > h1\n",
    "    print (\"Título:\"+ titulo)\n",
    "\n",
    "procesarPagina(\"http://books.toscrape.com/catalogue/a-light-in-the-attic_1000/index.html\")\n"
   ]
  },
  {
   "cell_type": "markdown",
   "metadata": {},
   "source": [
    "Vamos a ir creando un objeto con toda la información de la página"
   ]
  },
  {
   "cell_type": "code",
   "execution_count": 38,
   "metadata": {
    "ExecuteTime": {
     "end_time": "2018-02-08T19:49:12.179706Z",
     "start_time": "2018-02-08T19:49:12.067055Z"
    }
   },
   "outputs": [
    {
     "name": "stdout",
     "output_type": "stream",
     "text": [
      "['star-rating', 'Three']\n"
     ]
    },
    {
     "data": {
      "text/plain": [
       "{'precio': '51.77',\n",
       " 'stock': 'In stock (22 available)',\n",
       " 'titulo': 'A Light in the Attic',\n",
       " 'valoracion': 3}"
      ]
     },
     "execution_count": 38,
     "metadata": {},
     "output_type": "execute_result"
    }
   ],
   "source": [
    "# Nombres de las clases que representan las valoraciones de un producto\n",
    "star = [\"One\", \"Two\", \"Three\", \"Four\", \"Five\"]\n",
    "\n",
    "def starToInt (rating):\n",
    "    \"\"\"\n",
    "    Convierte un rating en forma textual a un rating numérico\n",
    "    Devuelve el número equivalente, o 0, si el rating no es válido\n",
    "    \"\"\"\n",
    "    try:\n",
    "        return star.index(rating) + 1\n",
    "    except:\n",
    "        return 0\n",
    "\n",
    "def procesaHTML(html, url=\"\"):\n",
    "    libro = {}\n",
    "    \n",
    "    prodMain = html.select_one(\"article.product_page\")\n",
    "\n",
    "    # Título\n",
    "    titulo = prodMain.select_one(\"h1\").text\n",
    "    libro['titulo'] = titulo\n",
    "\n",
    "    # Precio (eliminamos los caracteres anteriores que representan las libras)\n",
    "    precio = prodMain.select_one(\"p.price_color\").text\n",
    "    libro['precio'] = precio[2:]\n",
    "    \n",
    "    # Stock\n",
    "    stock = prodMain.select_one(\"p.instock.availability\").text\n",
    "    libro['stock'] = stock.strip()\n",
    "    \n",
    "    \n",
    "    # Valoración\n",
    "    # 1. Obtenemos las clases\n",
    "    ratingClasses = prodMain.select_one(\"p.star-rating\")[\"class\"]\n",
    "    \n",
    "    # 2. Nos quedamos con la intersección\n",
    "    ratingText = list(set(ratingClasses).intersection(set(star)))\n",
    "    \n",
    "    # 3. Lo convertimos a un valor numérico\n",
    "    if (len(ratingText)==1):\n",
    "        libro['valoracion'] = starToInt(ratingText[0])\n",
    "    else:\n",
    "        libro['valoracion'] = 0\n",
    "        \n",
    "\n",
    "    return libro\n",
    "\n",
    "    \n",
    "procesarPagina(\"http://books.toscrape.com/catalogue/a-light-in-the-attic_1000/index.html\")\n"
   ]
  },
  {
   "cell_type": "markdown",
   "metadata": {
    "ExecuteTime": {
     "end_time": "2018-02-08T08:41:21.970237Z",
     "start_time": "2018-02-08T08:41:21.954108Z"
    }
   },
   "source": [
    "Procesar la descripción nos hace buscar el hermano de un elemento:\n"
   ]
  },
  {
   "cell_type": "code",
   "execution_count": 39,
   "metadata": {
    "ExecuteTime": {
     "end_time": "2018-02-08T19:49:12.294867Z",
     "start_time": "2018-02-08T19:49:12.180696Z"
    }
   },
   "outputs": [
    {
     "data": {
      "text/plain": [
       "{'descripcion': \"It's hard to imagine a world without A Light in the Attic. This now-classic collection of poetry and drawings from Shel Silverstein celebrates its 20th anniversary with this special edition. Silverstein's humorous and creative verse can amuse the dowdiest of readers. Lemon-faced adults and fidgety kids sit still and read these rhythmic words and laugh and smile and love th It's hard to imagine a world without A Light in the Attic. This now-classic collection of poetry and drawings from Shel Silverstein celebrates its 20th anniversary with this special edition. Silverstein's humorous and creative verse can amuse the dowdiest of readers. Lemon-faced adults and fidgety kids sit still and read these rhythmic words and laugh and smile and love that Silverstein. Need proof of his genius? RockabyeRockabye baby, in the treetopDon't you know a treetopIs no safe place to rock?And who put you up there,And your cradle, too?Baby, I think someone down here'sGot it in for you. Shel, you never sounded so good. ...more\",\n",
       " 'precio': '51.77',\n",
       " 'titulo': 'A Light in the Attic',\n",
       " 'valoracion': 3}"
      ]
     },
     "execution_count": 39,
     "metadata": {},
     "output_type": "execute_result"
    }
   ],
   "source": [
    "def procesaHTML(html, url=\"\"):\n",
    "    libro = {}\n",
    "    \n",
    "    prodMain = html.select_one(\".product_main\")\n",
    "\n",
    "    # Título\n",
    "    titulo = prodMain.select_one(\"h1\").text\n",
    "    libro['titulo'] = titulo\n",
    "\n",
    "    # Precio (eliminamos los caracteres anteriores que representan las libras)\n",
    "    precio = prodMain.select_one(\"p.price_color\").text\n",
    "    libro['precio'] = precio[2:]\n",
    "    \n",
    "    # Valoración\n",
    "    # 1. Obtenemos las clases\n",
    "    ratingClasses = prodMain.select_one(\"p.star-rating\")[\"class\"]\n",
    "    \n",
    "    # 2. Nos quedamos con la intersección\n",
    "    ratingText = list(set(ratingClasses).intersection(set(star)))\n",
    "    \n",
    "    # 3. Lo convertimos a un valor numérico\n",
    "    if (len(ratingText)==1):\n",
    "        libro['valoracion'] = starToInt(ratingText[0])\n",
    "    else:\n",
    "        libro['valoracion'] = 0\n",
    "        \n",
    "    # Descripción del producto\n",
    "    # 1. Buscamos el elemento que hace de título\n",
    "    prodDescription = html.find(id=\"product_description\")\n",
    "    \n",
    "    # 2. Buscamos el siguiente hermano con etiqueta p\n",
    "    if prodDescription is None:\n",
    "        libro['descripcion'] = \"\" # controla el caso en el cual el libro no tiene descripcion\n",
    "    else:\n",
    "        libro['descripcion'] = prodDescription.find_next_sibling('p').text\n",
    "    \n",
    "    return libro\n",
    "\n",
    "    \n",
    "procesarPagina(\"http://books.toscrape.com/catalogue/a-light-in-the-attic_1000/index.html\")"
   ]
  },
  {
   "cell_type": "markdown",
   "metadata": {
    "collapsed": true
   },
   "source": [
    "### Organización del catálogo\n",
    "\n",
    "Una vez que sabemos cómo procesar un producto vamos a intentar obtener el catálogo completo. La estructura de cada uno de los productos de la página de un catálogo es esta:\n",
    "\n",
    "```\n",
    "article.product_pod\n",
    "    img[src] = URL imagen\n",
    "    h3\n",
    "        Texto = Título del libro\n",
    "        a[href] = enlace\n",
    "``` \n",
    "\n",
    "Se muestran 20 por página y hay un botón `Next` para avanzar. Sin embargo, si nos fijamos un poco veremos que cada vez que pulsamos en el botón nos lleva a una nueva página con una URL del tipo `http://books.toscrape.com/catalogue/page-X.html`. Además, podemos ver que lanza un error 404 si llegamos al final del catálogo.\n",
    "\n",
    "De acuerdo a esto, vamos a ver cómo obtener los enlaces de cada uno de los productos y cómo crear una lista de libros:\n"
   ]
  },
  {
   "cell_type": "code",
   "execution_count": 20,
   "metadata": {
    "ExecuteTime": {
     "end_time": "2018-02-08T19:49:12.425730Z",
     "start_time": "2018-02-08T19:49:12.295810Z"
    }
   },
   "outputs": [
    {
     "name": "stdout",
     "output_type": "stream",
     "text": [
      "a-light-in-the-attic_1000/index.html\n",
      "tipping-the-velvet_999/index.html\n",
      "soumission_998/index.html\n",
      "sharp-objects_997/index.html\n",
      "sapiens-a-brief-history-of-humankind_996/index.html\n",
      "the-requiem-red_995/index.html\n",
      "the-dirty-little-secrets-of-getting-your-dream-job_994/index.html\n",
      "the-coming-woman-a-novel-based-on-the-life-of-the-infamous-feminist-victoria-woodhull_993/index.html\n",
      "the-boys-in-the-boat-nine-americans-and-their-epic-quest-for-gold-at-the-1936-berlin-olympics_992/index.html\n",
      "the-black-maria_991/index.html\n",
      "starving-hearts-triangular-trade-trilogy-1_990/index.html\n",
      "shakespeares-sonnets_989/index.html\n",
      "set-me-free_988/index.html\n",
      "scott-pilgrims-precious-little-life-scott-pilgrim-1_987/index.html\n",
      "rip-it-up-and-start-again_986/index.html\n",
      "our-band-could-be-your-life-scenes-from-the-american-indie-underground-1981-1991_985/index.html\n",
      "olio_984/index.html\n",
      "mesaerion-the-best-science-fiction-stories-1800-1849_983/index.html\n",
      "libertarianism-for-beginners_982/index.html\n",
      "its-only-the-himalayas_981/index.html\n"
     ]
    }
   ],
   "source": [
    "def procesaPaginaCatalogo(url):\n",
    "     # Realizamos la petición a la web\n",
    "    req = requests.get(url)\n",
    "\n",
    "    # Comprobamos que la petición nos devuelve un Status Code = 200\n",
    "    statusCode = req.status_code\n",
    "    if statusCode == 200:\n",
    "\n",
    "        # Pasamos el contenido HTML de la web a un objeto BeautifulSoup()\n",
    "        html = BeautifulSoup(req.text,\"lxml\")\n",
    "        \n",
    "        # Procesamos el HTML descargado\n",
    "        products = html.select('article.product_pod')\n",
    "        for prod in products:\n",
    "            enlace = prod.select_one('h3 > a')\n",
    "            print(enlace['href'])\n",
    "            \n",
    "procesaPaginaCatalogo(\"http://books.toscrape.com/catalogue/page-1.html\")\n",
    "    "
   ]
  },
  {
   "cell_type": "markdown",
   "metadata": {},
   "source": [
    "Los enlaces son relativos por lo que necesitamos definir la ruta completa. Si desde el navegador accedemos a uno de los productos vemos que el prefijo que usa es `http://books.toscrape.com/catalogue/`. Lo añadimos y procesamos cada enlace. Luego vamos componiendo una lista de productos con todos ellos."
   ]
  },
  {
   "cell_type": "code",
   "execution_count": 21,
   "metadata": {
    "ExecuteTime": {
     "end_time": "2018-02-08T19:49:14.597337Z",
     "start_time": "2018-02-08T19:49:12.426653Z"
    }
   },
   "outputs": [
    {
     "data": {
      "text/plain": [
       "20"
      ]
     },
     "execution_count": 21,
     "metadata": {},
     "output_type": "execute_result"
    }
   ],
   "source": [
    "def procesaPaginaCatalogo(url, prefix, productList):\n",
    "     # Realizamos la petición a la web\n",
    "    req = requests.get(url)\n",
    "\n",
    "    # Comprobamos que la petición nos devuelve un Status Code = 200\n",
    "    statusCode = req.status_code\n",
    "    if statusCode == 200:\n",
    "\n",
    "        # Pasamos el contenido HTML de la web a un objeto BeautifulSoup()\n",
    "        html = BeautifulSoup(req.text,\"lxml\")\n",
    "        \n",
    "        # Procesamos el HTML descargado\n",
    "        products = html.select('article.product_pod')\n",
    "        for prod in products:\n",
    "            enlace = prod.select_one('h3 > a')\n",
    "            productList.append(procesarPagina(prefix+enlace['href']))\n",
    "            \n",
    "listaProductos = []\n",
    "procesaPaginaCatalogo(\"http://books.toscrape.com/catalogue/page-1.html\", \"http://books.toscrape.com/catalogue/\", listaProductos)\n",
    "len(listaProductos)"
   ]
  },
  {
   "cell_type": "markdown",
   "metadata": {},
   "source": [
    "Solo queda iterar por las páginas de los catálogos y parar si tenemos un error 404"
   ]
  },
  {
   "cell_type": "code",
   "execution_count": 41,
   "metadata": {
    "ExecuteTime": {
     "end_time": "2018-02-08T19:49:21.267628Z",
     "start_time": "2018-02-08T19:49:14.598346Z"
    }
   },
   "outputs": [
    {
     "data": {
      "text/plain": [
       "220"
      ]
     },
     "execution_count": 41,
     "metadata": {},
     "output_type": "execute_result"
    }
   ],
   "source": [
    "def procesaPaginaCatalogo(url, prefix, productList):\n",
    "    \"\"\"\n",
    "    Devuelve True si hemos podido procesar la peticion, False en otro caso\n",
    "    \"\"\"\n",
    "     # Realizamos la petición a la web\n",
    "    req = requests.get(url)\n",
    "\n",
    "    # Comprobamos que la petición nos devuelve un Status Code = 200\n",
    "    statusCode = req.status_code\n",
    "    if statusCode == 200:\n",
    "\n",
    "        # Pasamos el contenido HTML de la web a un objeto BeautifulSoup()\n",
    "        html = BeautifulSoup(req.text,\"lxml\")\n",
    "        \n",
    "        # Procesamos el HTML descargado\n",
    "        products = html.select('article.product_pod')\n",
    "        for prod in products:\n",
    "            enlace = prod.select_one('h3 > a')\n",
    "            producto = procesarPagina(prefix+enlace['href'])\n",
    "            producto['enlace'] = prefix+enlace['href']\n",
    "            productList.append(producto)\n",
    "        return True\n",
    "    \n",
    "    if statusCode == 404:\n",
    "        return False\n",
    "        \n",
    "listaProductos = []\n",
    "# Probamos solo con las dos últimas páginas\n",
    "i=40\n",
    "while (procesaPaginaCatalogo(\"http://books.toscrape.com/catalogue/page-{}.html\".format(i), \"http://books.toscrape.com/catalogue/\", listaProductos)):\n",
    "    i=i+1\n",
    "\n",
    "len(listaProductos)"
   ]
  },
  {
   "cell_type": "markdown",
   "metadata": {},
   "source": [
    "Finalmente cargaremos todos los datos en un dataframe de pandas para procesarlo, extraer información y guardarlo a un CSV\n"
   ]
  },
  {
   "cell_type": "code",
   "execution_count": 42,
   "metadata": {
    "ExecuteTime": {
     "end_time": "2018-02-08T19:49:21.516214Z",
     "start_time": "2018-02-08T19:49:21.268787Z"
    }
   },
   "outputs": [],
   "source": [
    "import pandas as pd\n",
    "df = pd.DataFrame(listaProductos)\n",
    "df.to_csv(\"listaProductos.csv\", sep=\";\", index=False)"
   ]
  },
  {
   "cell_type": "code",
   "execution_count": 43,
   "metadata": {
    "scrolled": true
   },
   "outputs": [
    {
     "data": {
      "text/html": [
       "<div>\n",
       "<style scoped>\n",
       "    .dataframe tbody tr th:only-of-type {\n",
       "        vertical-align: middle;\n",
       "    }\n",
       "\n",
       "    .dataframe tbody tr th {\n",
       "        vertical-align: top;\n",
       "    }\n",
       "\n",
       "    .dataframe thead th {\n",
       "        text-align: right;\n",
       "    }\n",
       "</style>\n",
       "<table border=\"1\" class=\"dataframe\">\n",
       "  <thead>\n",
       "    <tr style=\"text-align: right;\">\n",
       "      <th></th>\n",
       "      <th>descripcion</th>\n",
       "      <th>enlace</th>\n",
       "      <th>precio</th>\n",
       "      <th>titulo</th>\n",
       "      <th>valoracion</th>\n",
       "    </tr>\n",
       "  </thead>\n",
       "  <tbody>\n",
       "    <tr>\n",
       "      <th>0</th>\n",
       "      <td>Named one of the best art books of 2008 by The...</td>\n",
       "      <td>http://books.toscrape.com/catalogue/seven-days...</td>\n",
       "      <td>52.33</td>\n",
       "      <td>Seven Days in the Art World</td>\n",
       "      <td>2</td>\n",
       "    </tr>\n",
       "    <tr>\n",
       "      <th>1</th>\n",
       "      <td>Everything you need to know about the beauty o...</td>\n",
       "      <td>http://books.toscrape.com/catalogue/seven-brie...</td>\n",
       "      <td>30.60</td>\n",
       "      <td>Seven Brief Lessons on Physics</td>\n",
       "      <td>4</td>\n",
       "    </tr>\n",
       "    <tr>\n",
       "      <th>2</th>\n",
       "      <td>Cinder, the cyborg mechanic, returns in the se...</td>\n",
       "      <td>http://books.toscrape.com/catalogue/scarlet-th...</td>\n",
       "      <td>14.57</td>\n",
       "      <td>Scarlet (The Lunar Chronicles #2)</td>\n",
       "      <td>4</td>\n",
       "    </tr>\n",
       "    <tr>\n",
       "      <th>3</th>\n",
       "      <td>Paris, July 1942: Sarah, a ten year-old girl, ...</td>\n",
       "      <td>http://books.toscrape.com/catalogue/sarahs-key...</td>\n",
       "      <td>46.29</td>\n",
       "      <td>Sarah's Key</td>\n",
       "      <td>1</td>\n",
       "    </tr>\n",
       "    <tr>\n",
       "      <th>4</th>\n",
       "      <td>From the Hugo Award-winning duo of Brian K. Va...</td>\n",
       "      <td>http://books.toscrape.com/catalogue/saga-volum...</td>\n",
       "      <td>21.57</td>\n",
       "      <td>Saga, Volume 3 (Saga (Collected Editions) #3)</td>\n",
       "      <td>5</td>\n",
       "    </tr>\n",
       "  </tbody>\n",
       "</table>\n",
       "</div>"
      ],
      "text/plain": [
       "                                         descripcion  \\\n",
       "0  Named one of the best art books of 2008 by The...   \n",
       "1  Everything you need to know about the beauty o...   \n",
       "2  Cinder, the cyborg mechanic, returns in the se...   \n",
       "3  Paris, July 1942: Sarah, a ten year-old girl, ...   \n",
       "4  From the Hugo Award-winning duo of Brian K. Va...   \n",
       "\n",
       "                                              enlace precio  \\\n",
       "0  http://books.toscrape.com/catalogue/seven-days...  52.33   \n",
       "1  http://books.toscrape.com/catalogue/seven-brie...  30.60   \n",
       "2  http://books.toscrape.com/catalogue/scarlet-th...  14.57   \n",
       "3  http://books.toscrape.com/catalogue/sarahs-key...  46.29   \n",
       "4  http://books.toscrape.com/catalogue/saga-volum...  21.57   \n",
       "\n",
       "                                          titulo  valoracion  \n",
       "0                    Seven Days in the Art World           2  \n",
       "1                 Seven Brief Lessons on Physics           4  \n",
       "2              Scarlet (The Lunar Chronicles #2)           4  \n",
       "3                                    Sarah's Key           1  \n",
       "4  Saga, Volume 3 (Saga (Collected Editions) #3)           5  "
      ]
     },
     "execution_count": 43,
     "metadata": {},
     "output_type": "execute_result"
    }
   ],
   "source": [
    "df.head()"
   ]
  }
 ],
 "metadata": {
  "kernelspec": {
   "display_name": "Python 3",
   "language": "python",
   "name": "python3"
  },
  "language_info": {
   "codemirror_mode": {
    "name": "ipython",
    "version": 3
   },
   "file_extension": ".py",
   "mimetype": "text/x-python",
   "name": "python",
   "nbconvert_exporter": "python",
   "pygments_lexer": "ipython3",
   "version": "3.6.4"
  },
  "toc": {
   "colors": {
    "hover_highlight": "#DAA520",
    "navigate_num": "#000000",
    "navigate_text": "#333333",
    "running_highlight": "#FF0000",
    "selected_highlight": "#FFD700",
    "sidebar_border": "#EEEEEE",
    "wrapper_background": "#FFFFFF"
   },
   "moveMenuLeft": true,
   "nav_menu": {
    "height": "68px",
    "width": "252px"
   },
   "navigate_menu": true,
   "number_sections": true,
   "sideBar": true,
   "threshold": 4,
   "toc_cell": false,
   "toc_section_display": "block",
   "toc_window_display": false,
   "widenNotebook": false
  },
  "varInspector": {
   "cols": {
    "lenName": 16,
    "lenType": 16,
    "lenVar": 40
   },
   "kernels_config": {
    "python": {
     "delete_cmd_postfix": "",
     "delete_cmd_prefix": "del ",
     "library": "var_list.py",
     "varRefreshCmd": "print(var_dic_list())"
    },
    "r": {
     "delete_cmd_postfix": ") ",
     "delete_cmd_prefix": "rm(",
     "library": "var_list.r",
     "varRefreshCmd": "cat(var_dic_list()) "
    }
   },
   "types_to_exclude": [
    "module",
    "function",
    "builtin_function_or_method",
    "instance",
    "_Feature"
   ],
   "window_display": false
  }
 },
 "nbformat": 4,
 "nbformat_minor": 1
}
