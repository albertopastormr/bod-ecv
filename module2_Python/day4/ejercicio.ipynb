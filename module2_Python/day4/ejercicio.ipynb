{
 "cells": [
  {
   "cell_type": "markdown",
   "metadata": {},
   "source": [
    "## Ejercicio: Municipios y habitantes de la comunidad de Madrid\n",
    "\n",
    "Para terminar vamos a realizar un ejercicio en el que extraeremos los municipios y número de habitantes de la Comunidad de Madrid de la Wikipedia, así como los enlaces de las páginas de la Wikipedia en la que se describen dichos municipios.\n",
    "\n",
    "La lista de municipios está en: <https://es.wikipedia.org/wiki/Anexo:Municipios_de_la_Comunidad_de_Madrid>. Hay que tener en cuenta que los enlaces a los municipios son rutas relativas, donde la ruta base es <https://es.wikipedia.org>.\n",
    "\n",
    "El aspecto de la web es el siguiente:\n",
    "\n",
    "![Aspecto de la lista de municipios de la Wikipedia](../images/wikipedia.png)\n",
    "\n",
    "Analiza cómo es el HTML de la tabla y extrae la información de la misma. Crea con ella un dataframe que ha de tener un aspecto parecido a este:\n",
    "\n",
    "![Dataframe resultante](../images/dataframe.png)\n"
   ]
  },
  {
   "cell_type": "code",
   "execution_count": 60,
   "metadata": {},
   "outputs": [
    {
     "data": {
      "text/html": [
       "<div>\n",
       "<style scoped>\n",
       "    .dataframe tbody tr th:only-of-type {\n",
       "        vertical-align: middle;\n",
       "    }\n",
       "\n",
       "    .dataframe tbody tr th {\n",
       "        vertical-align: top;\n",
       "    }\n",
       "\n",
       "    .dataframe thead th {\n",
       "        text-align: right;\n",
       "    }\n",
       "</style>\n",
       "<table border=\"1\" class=\"dataframe\">\n",
       "  <thead>\n",
       "    <tr style=\"text-align: right;\">\n",
       "      <th></th>\n",
       "      <th>name</th>\n",
       "      <th>population</th>\n",
       "      <th>kms</th>\n",
       "      <th>link</th>\n",
       "    </tr>\n",
       "  </thead>\n",
       "  <tbody>\n",
       "    <tr>\n",
       "      <th>0</th>\n",
       "      <td>La Acebeda</td>\n",
       "      <td>66</td>\n",
       "      <td>22,06</td>\n",
       "      <td>https://es.wikipedia.org/wiki/La_Acebeda</td>\n",
       "    </tr>\n",
       "    <tr>\n",
       "      <th>1</th>\n",
       "      <td>Ajalvir</td>\n",
       "      <td>4455</td>\n",
       "      <td>19,62</td>\n",
       "      <td>https://es.wikipedia.org/wiki/Ajalvir</td>\n",
       "    </tr>\n",
       "    <tr>\n",
       "      <th>2</th>\n",
       "      <td>Alameda del Valle</td>\n",
       "      <td>199</td>\n",
       "      <td>25,01</td>\n",
       "      <td>https://es.wikipedia.org/wiki/Alameda_del_Valle</td>\n",
       "    </tr>\n",
       "    <tr>\n",
       "      <th>3</th>\n",
       "      <td>El Álamo</td>\n",
       "      <td>9149</td>\n",
       "      <td>22,25</td>\n",
       "      <td>https://es.wikipedia.org/wiki/El_%C3%81lamo_(M...</td>\n",
       "    </tr>\n",
       "    <tr>\n",
       "      <th>4</th>\n",
       "      <td>Alcalá de Henares</td>\n",
       "      <td>194 310</td>\n",
       "      <td>87,72</td>\n",
       "      <td>https://es.wikipedia.org/wiki/Alcal%C3%A1_de_H...</td>\n",
       "    </tr>\n",
       "  </tbody>\n",
       "</table>\n",
       "</div>"
      ],
      "text/plain": [
       "                name population    kms  \\\n",
       "0         La Acebeda         66  22,06   \n",
       "1            Ajalvir       4455  19,62   \n",
       "2  Alameda del Valle        199  25,01   \n",
       "3           El Álamo       9149  22,25   \n",
       "4  Alcalá de Henares    194 310  87,72   \n",
       "\n",
       "                                                link  \n",
       "0           https://es.wikipedia.org/wiki/La_Acebeda  \n",
       "1              https://es.wikipedia.org/wiki/Ajalvir  \n",
       "2    https://es.wikipedia.org/wiki/Alameda_del_Valle  \n",
       "3  https://es.wikipedia.org/wiki/El_%C3%81lamo_(M...  \n",
       "4  https://es.wikipedia.org/wiki/Alcal%C3%A1_de_H...  "
      ]
     },
     "execution_count": 60,
     "metadata": {},
     "output_type": "execute_result"
    }
   ],
   "source": [
    "# Solución:\n",
    "\n",
    "from bs4 import BeautifulSoup\n",
    "import requests\n",
    "\n",
    "\n",
    "def load_madrid_wikipedia(url, prefix):\n",
    "    ret = []\n",
    "    \n",
    "     # Realizamos la petición a la web\n",
    "    req = requests.get(url)\n",
    "\n",
    "    # Comprobamos que la petición nos devuelve un Status Code = 200\n",
    "    statusCode = req.status_code\n",
    "    if statusCode == 200:\n",
    "\n",
    "        # Pasamos el contenido HTML de la web a un objeto BeautifulSoup()\n",
    "        html = BeautifulSoup(req.text,\"lxml\")\n",
    "        \n",
    "        cities = html.select('tr')[1:]\n",
    "                \n",
    "        for city in cities:\n",
    "            city_dict = {}\n",
    "            city_cells = city.select('td')\n",
    "            city_dict['link'] = prefix + city_cells[0].a['href']\n",
    "            city_dict['name'] = city_cells[0].a.text\n",
    "            city_dict['population'] = city_cells[1].text.strip()\n",
    "            city_dict['kms'] = city_cells[2].text.strip()\n",
    "            ret.append(city_dict)\n",
    "        return ret\n",
    "    else:\n",
    "        raise Exception()\n",
    "\n",
    "try:\n",
    "    municipios_madrid = load_madrid_wikipedia(\"https://es.wikipedia.org/wiki/Anexo:Municipios_de_la_Comunidad_de_Madrid\",\n",
    "                                          \"https://es.wikipedia.org\")\n",
    "except:\n",
    "    pass\n",
    "\n",
    "import pandas as pd\n",
    "\n",
    "df_madrid = pd.DataFrame( data= municipios_madrid, columns =['name', 'population', 'kms', 'link'])\n",
    "\n",
    "df_madrid.head()\n"
   ]
  }
 ],
 "metadata": {
  "kernelspec": {
   "display_name": "Python 3",
   "language": "python",
   "name": "python3"
  },
  "language_info": {
   "codemirror_mode": {
    "name": "ipython",
    "version": 3
   },
   "file_extension": ".py",
   "mimetype": "text/x-python",
   "name": "python",
   "nbconvert_exporter": "python",
   "pygments_lexer": "ipython3",
   "version": "3.6.4"
  },
  "toc": {
   "colors": {
    "hover_highlight": "#DAA520",
    "navigate_num": "#000000",
    "navigate_text": "#333333",
    "running_highlight": "#FF0000",
    "selected_highlight": "#FFD700",
    "sidebar_border": "#EEEEEE",
    "wrapper_background": "#FFFFFF"
   },
   "moveMenuLeft": true,
   "nav_menu": {
    "height": "31px",
    "width": "252px"
   },
   "navigate_menu": true,
   "number_sections": true,
   "sideBar": true,
   "threshold": 4,
   "toc_cell": false,
   "toc_section_display": "block",
   "toc_window_display": false,
   "widenNotebook": false
  },
  "varInspector": {
   "cols": {
    "lenName": 16,
    "lenType": 16,
    "lenVar": 40
   },
   "kernels_config": {
    "python": {
     "delete_cmd_postfix": "",
     "delete_cmd_prefix": "del ",
     "library": "var_list.py",
     "varRefreshCmd": "print(var_dic_list())"
    },
    "r": {
     "delete_cmd_postfix": ") ",
     "delete_cmd_prefix": "rm(",
     "library": "var_list.r",
     "varRefreshCmd": "cat(var_dic_list()) "
    }
   },
   "types_to_exclude": [
    "module",
    "function",
    "builtin_function_or_method",
    "instance",
    "_Feature"
   ],
   "window_display": false
  }
 },
 "nbformat": 4,
 "nbformat_minor": 2
}
